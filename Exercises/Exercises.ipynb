{
 "cells": [
  {
   "cell_type": "markdown",
   "metadata": {},
   "source": [
    "##### Question 1\n",
    " Mailing Address\\\n",
    "      Create a program that displays your name and complete mailing address formatted in the manner that you would usually see it on the outside of an envelope. Your program does not need to read any input from the user."
   ]
  },
  {
   "cell_type": "code",
   "execution_count": 2,
   "metadata": {},
   "outputs": [
    {
     "name": "stdout",
     "output_type": "stream",
     "text": [
      "Name: Edwin\n",
      "Address: P.O.BOX 1069 - 60200\n"
     ]
    }
   ],
   "source": [
    "def mailingInfo(name, address):\n",
    "    info = 'Name: {}\\nAddress: {}'.format(name,address)\n",
    "    print(info)\n",
    "\n",
    "\n",
    "name = 'Edwin'\n",
    "address = 'P.O.BOX 1069 - 60200'\n",
    "\n",
    "mailingInfo(name, address)\n"
   ]
  },
  {
   "cell_type": "markdown",
   "metadata": {},
   "source": [
    "##### question 2\n",
    "Hello\\\n",
    "Write a program that asks the user to enter his or her name. The program should respond with a message that says hello to the user, using his or her name."
   ]
  },
  {
   "cell_type": "code",
   "execution_count": 4,
   "metadata": {},
   "outputs": [
    {
     "name": "stdout",
     "output_type": "stream",
     "text": [
      "Hello Edwin\n"
     ]
    }
   ],
   "source": [
    "def greetings():\n",
    "    user_name = input('Hello, kindly input your name: ')\n",
    "    print('Hello {}'.format(user_name))\n",
    "\n",
    "greetings()"
   ]
  },
  {
   "cell_type": "markdown",
   "metadata": {},
   "source": [
    "##### question 3\n",
    "Area of a Room\\\n",
    "Write a program that asks the user to enter the width and length of a room. Once the values have been read, your program should compute and display the area of the room. The length and the width will be entered as floating point numbers. Include units in your prompt and output message; either feet or meters, depending on which unit you are more comfortable working with."
   ]
  },
  {
   "cell_type": "code",
   "execution_count": 5,
   "metadata": {},
   "outputs": [
    {
     "name": "stdout",
     "output_type": "stream",
     "text": [
      "Length: 20.00 m\n",
      "Width: 10.00 M\n",
      "Area: 200.00 M^2\n"
     ]
    }
   ],
   "source": [
    "def roomArea():\n",
    "    width = float(input('Enter the width of your room in meters: '))\n",
    "    length = float(input('Enter the length of your room in meters: '))\n",
    "\n",
    "    area = length * width\n",
    "    return ('Length: {:.2f} m\\nWidth: {:.2f} M\\nArea: {:.2f} M^2'.format(length, width, area))\n",
    "result = roomArea()\n",
    "print(result)"
   ]
  },
  {
   "cell_type": "markdown",
   "metadata": {},
   "source": [
    "##### question 4\n",
    "Bottle Deposits\\\n",
    "In many jurisdictions a small deposit is added to drink containers to encourage people to recycle them. In one particular jurisdiction, drink containers holding one liter or less have a  0.10 deposit, and drink container holding more than one liter have a 0.25 deposit. Write a program that reads the number of containers of each size from the user. Your program should continue by computing and displaying the refund that will be received for returning those containers. Format the output so that it includes a dollar sign and always displays exactly two decimal places."
   ]
  },
  {
   "cell_type": "code",
   "execution_count": 12,
   "metadata": {},
   "outputs": [
    {
     "name": "stdout",
     "output_type": "stream",
     "text": [
      "$0.65\n"
     ]
    }
   ],
   "source": [
    "def bottleDeposit(bottleSizes):\n",
    "    refund = 0\n",
    "\n",
    "    if bottleSizes:  # similar to if bottleSizes > 0\n",
    "        for i in range(len(bottleSizes)):\n",
    "            if 0 < bottleSizes[i] <=1:\n",
    "                refund += 0.1\n",
    "\n",
    "            elif bottleSizes[i] > 1:\n",
    "                refund +=0.25\n",
    "\n",
    "            else:\n",
    "                refund += 0\n",
    "\n",
    "    return '${:.2f}'.format(refund)\n",
    "\n",
    "customerA = [1, 0.75, 3, 0.25, 0.5]\n",
    "\n",
    "Total_refund = bottleDeposit(customerA)\n",
    "\n",
    "print(Total_refund)\n",
    "\n",
    "\n",
    "\n"
   ]
  },
  {
   "cell_type": "markdown",
   "metadata": {},
   "source": [
    "##### Question 5\n",
    "The program that you create for this exercise will begin by reading the cost of a meal ordered at a restaurant from the user. Then your program will compute the tax and tip for the meal. Use your local tax rate when computing the amount of tax owing. Compute the tip as 18 percent of the meal amount (without the tax). The output from your program should include the tax amount, the tip amount, and the grand total for the meal including both the tax and the tip. Format the output so that all of the values are displayed using two decimal places."
   ]
  },
  {
   "cell_type": "code",
   "execution_count": 18,
   "metadata": {},
   "outputs": [
    {
     "name": "stdout",
     "output_type": "stream",
     "text": [
      "Gland total: $1500.00\n",
      "Tax: \t\t$240.00\n",
      "Tip: \t\t$270.00\n"
     ]
    }
   ],
   "source": [
    "def costOfMeal():\n",
    "    cost = float(input('Enter the cost of the meal ordered: '))\n",
    "\n",
    "    tax = 0.16 * cost\n",
    "    tip = 0.18* cost\n",
    "\n",
    "    return 'Gland total: ${:.2f}\\nTax: \\t\\t${:.2f}\\nTip: \\t\\t${:.2f}'.format(cost, tax, tip)\n",
    "\n",
    "receipt = costOfMeal()\n",
    "print(receipt)"
   ]
  }
 ],
 "metadata": {
  "kernelspec": {
   "display_name": "Python 3",
   "language": "python",
   "name": "python3"
  },
  "language_info": {
   "codemirror_mode": {
    "name": "ipython",
    "version": 3
   },
   "file_extension": ".py",
   "mimetype": "text/x-python",
   "name": "python",
   "nbconvert_exporter": "python",
   "pygments_lexer": "ipython3",
   "version": "3.12.1"
  }
 },
 "nbformat": 4,
 "nbformat_minor": 2
}
