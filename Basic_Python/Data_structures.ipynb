{
 "cells": [
  {
   "cell_type": "markdown",
   "metadata": {},
   "source": [
    "##### Data structures\n",
    "-List,Tuples,Sets and Dictionaries\n",
    "###### Lists\n",
    "- List are contained in squaire brankets and can contain several values of differing data types or even othe list.\n",
    "- sample of python methonds used to manipulate list: Concatenation, Repetition, Length or Len, Appending, Sorting(sorted() method or .sort() method), Indexing.\n",
    "- .sort() method sorts the list in place - meaning it returns nothing, thus you need to print out the list to see it has been sorted.\n",
    "- sorted() method is a standalone function and returns a new list that is sorted.\n",
    "- By default these functions sort in ascending orderbut with reverse keyword, they can sort in descending order."
   ]
  },
  {
   "cell_type": "code",
   "execution_count": 13,
   "metadata": {},
   "outputs": [
    {
     "name": "stdout",
     "output_type": "stream",
     "text": [
      "[78, 57, 36, 36, 9, 6, 6, 6, 4, 4, 3, 3, 1]\n"
     ]
    }
   ],
   "source": [
    "# sorting a list in descending order\n",
    "a_list = [1,3,4,6,6,4,36,36,3,57,78,6,9]\n",
    "a_list.sort(reverse=True)\n",
    "print(a_list)"
   ]
  },
  {
   "cell_type": "markdown",
   "metadata": {},
   "source": [
    "- T o get the last element of a list, we could use the length of the list minus 1, or -1: \n",
    "- The negative number syntax works by counting backward from the last elementof a list.\n"
   ]
  },
  {
   "cell_type": "code",
   "execution_count": 15,
   "metadata": {},
   "outputs": [
    {
     "data": {
      "text/plain": [
       "9"
      ]
     },
     "execution_count": 15,
     "metadata": {},
     "output_type": "execute_result"
    }
   ],
   "source": [
    "# Negative number syntax in list\n",
    "a_list = [1,3,4,6,6,4,36,36,3,57,78,6,9]\n",
    "a_list[len(a_list) - 1] \n",
    "a_list[-1]"
   ]
  },
  {
   "cell_type": "markdown",
   "metadata": {},
   "source": [
    "##### Tuples\n",
    "- Tuples are created with parenthesis and are immutable i.e. cannot be changed once created.\n",
    "- List or sets can be converted to tuples with the tuple() function.\n",
    "- Similarly, a tuple can be converted to a list using list() function. This gives a leeway to change tuples by first converting it to a list, changing it and converting it back to a tuple."
   ]
  },
  {
   "cell_type": "markdown",
   "metadata": {},
   "source": [
    "##### Sets\n",
    "- Sets contains a group of unique values cannot contain duplicate.\n",
    "- Sets can be created by the curly brankets or the set() function.\n",
    "- Note: Sometimes when you want to get the unique numbers from a list, you can convert it to a set.\n",
    "- Set have few useful functions such as union and difference."
   ]
  },
  {
   "cell_type": "code",
   "execution_count": 21,
   "metadata": {},
   "outputs": [
    {
     "data": {
      "text/plain": [
       "{1, 2, 3, 4, 5}"
      ]
     },
     "execution_count": 21,
     "metadata": {},
     "output_type": "execute_result"
    }
   ],
   "source": [
    "# using set functions\n",
    "set_1 = {1,2,3}\n",
    "set_2 = {2,3,5,4}\n",
    "set_1.union(set_2)\n",
    "\n",
    "# or\n",
    "set_1|set_2  # The vertical pipe character (|) is an operator that performs a union of sets."
   ]
  },
  {
   "cell_type": "markdown",
   "metadata": {},
   "source": [
    "##### Dictionaries\n",
    "- Dictionaries contains unique elements with key-value pairs.\n",
    "- a dictionaly is mutable and can be updated through the keys or by use of the update() method of dictionaries.\n",
    "- Two dictionaries can be joined using the unions method"
   ]
  },
  {
   "cell_type": "code",
   "execution_count": 34,
   "metadata": {},
   "outputs": [
    {
     "name": "stdout",
     "output_type": "stream",
     "text": [
      "{'books': 1, 'magazines': 2, 'articles': 7, 'games': 'football'}\n"
     ]
    }
   ],
   "source": [
    "# using update method\n",
    "a_dict = {'books': 1, 'magazines': 2, 'articles': 7}\n",
    "a_dict.update({'games':'football'}) # or you can update it directly like a_dict[\"games\":\"football\"]\n",
    "print(a_dict)"
   ]
  },
  {
   "cell_type": "code",
   "execution_count": 36,
   "metadata": {},
   "outputs": [
    {
     "name": "stdout",
     "output_type": "stream",
     "text": [
      "{'books': 1, 'magazines': 2, 'articles': 7, 'movies': 4}\n"
     ]
    }
   ],
   "source": [
    "# using the union() method\n",
    "a_dict = {'books': 1, 'magazines': 2, 'articles': 7}\n",
    "another_dict = {'movies': 4}\n",
    "joined_dict = a_dict | another_dict # the vertical pipe is used to represent the union.\n",
    "print(joined_dict)"
   ]
  }
 ],
 "metadata": {
  "kernelspec": {
   "display_name": "Python 3",
   "language": "python",
   "name": "python3"
  },
  "language_info": {
   "codemirror_mode": {
    "name": "ipython",
    "version": 3
   },
   "file_extension": ".py",
   "mimetype": "text/x-python",
   "name": "python",
   "nbconvert_exporter": "python",
   "pygments_lexer": "ipython3",
   "version": "3.12.1"
  }
 },
 "nbformat": 4,
 "nbformat_minor": 2
}
