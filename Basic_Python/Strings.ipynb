{
 "cells": [
  {
   "cell_type": "markdown",
   "metadata": {},
   "source": [
    "##### Strings\n",
    "- strings are text. They are created with either single or double quotes i.e. 'string' or \"string\".\n",
    "- Certain characters are special in python strings e.g. backslash \\, which is used as an escape character. i.e \\n means newline, which movea the output to the next line and \\t creates a tab character.\n",
    "- raw string i.e. print(r'C:\\Users\\Me\\Desktop\\test.csv'). The r in front of the string instruct python to treat it as a raw string.\n",
    "- Note:With raw strings , a backlash at the end of the string must be escaped. So, when specifying a file path with a backlash at the end, escape it like so: print(r'C:\\Users\\Me\\Desktop\\\\')"
   ]
  },
  {
   "cell_type": "code",
   "execution_count": 5,
   "metadata": {},
   "outputs": [
    {
     "name": "stdout",
     "output_type": "stream",
     "text": [
      "C:\\Users\\Me\\Desktop\\\\\n"
     ]
    }
   ],
   "source": [
    "print(r'C:\\Users\\Me\\Desktop\\\\')"
   ]
  },
  {
   "cell_type": "markdown",
   "metadata": {},
   "source": [
    "##### string indexing\n",
    "- python strings are a series of characters and can be indexed i.e. selecting a subset or part of the string.\n",
    "- Range indexing: you can select a subset of a string with indexing by providing the start and stop points i.e. string[0:4]. Further you can provide a step for the indexing as the third part of the indexing format i.e. string[0:7:2]. If you want to reverse a string, you can provide -1 as a step ie string[::-1]\n",
    "- Note: the format is [start:stop;step] if you do not provide a value the default is taken to be [0:None:1], meaning the entire string one character at a time, going forward."
   ]
  },
  {
   "cell_type": "code",
   "execution_count": 7,
   "metadata": {},
   "outputs": [
    {
     "data": {
      "text/plain": [
       "'a'"
      ]
     },
     "execution_count": 7,
     "metadata": {},
     "output_type": "execute_result"
    }
   ],
   "source": [
    "'a string'[0] # first character of a string"
   ]
  },
  {
   "cell_type": "code",
   "execution_count": 8,
   "metadata": {},
   "outputs": [
    {
     "data": {
      "text/plain": [
       "'g'"
      ]
     },
     "execution_count": 8,
     "metadata": {},
     "output_type": "execute_result"
    }
   ],
   "source": [
    "'a string'[-1] # last character of a string"
   ]
  },
  {
   "cell_type": "code",
   "execution_count": 9,
   "metadata": {},
   "outputs": [
    {
     "data": {
      "text/plain": [
       "'a st'"
      ]
     },
     "execution_count": 9,
     "metadata": {},
     "output_type": "execute_result"
    }
   ],
   "source": [
    "'a string'[0:4] # index a string to get first 4 characters"
   ]
  },
  {
   "cell_type": "code",
   "execution_count": 11,
   "metadata": {},
   "outputs": [
    {
     "data": {
      "text/plain": [
       "'a st'"
      ]
     },
     "execution_count": 11,
     "metadata": {},
     "output_type": "execute_result"
    }
   ],
   "source": [
    "'a string'[:4] # index a string to get first 4 characters"
   ]
  },
  {
   "cell_type": "code",
   "execution_count": 12,
   "metadata": {},
   "outputs": [
    {
     "data": {
      "text/plain": [
       "'asrn'"
      ]
     },
     "execution_count": 12,
     "metadata": {},
     "output_type": "execute_result"
    }
   ],
   "source": [
    "'a string'[::2] # get every other letter"
   ]
  },
  {
   "cell_type": "code",
   "execution_count": 13,
   "metadata": {},
   "outputs": [
    {
     "data": {
      "text/plain": [
       "'gnirts a'"
      ]
     },
     "execution_count": 13,
     "metadata": {},
     "output_type": "execute_result"
    }
   ],
   "source": [
    "'a string'[::-1] # reverse the string"
   ]
  },
  {
   "cell_type": "code",
   "execution_count": 14,
   "metadata": {},
   "outputs": [
    {
     "data": {
      "text/plain": [
       "'asr'"
      ]
     },
     "execution_count": 14,
     "metadata": {},
     "output_type": "execute_result"
    }
   ],
   "source": [
    "'a string'[:5:2] # every other letter in the first 5 characters"
   ]
  },
  {
   "cell_type": "markdown",
   "metadata": {},
   "source": [
    "##### Built-in functions for strings\n",
    "- Examples: .join(), .split(), .lstrip(). .rstrip(), .removeprefix(), .removesuffix()."
   ]
  },
  {
   "cell_type": "code",
   "execution_count": 20,
   "metadata": {},
   "outputs": [
    {
     "data": {
      "text/plain": [
       "'this-is-a-test'"
      ]
     },
     "execution_count": 20,
     "metadata": {},
     "output_type": "execute_result"
    }
   ],
   "source": [
    "# .join() function\n",
    "# Join method combines a list together with a string.\n",
    "\n",
    "'-'.join(['this', 'is', 'a', 'test'])  # You should provide a list with the list of values inside the parenteses"
   ]
  },
  {
   "cell_type": "code",
   "execution_count": 21,
   "metadata": {},
   "outputs": [
    {
     "data": {
      "text/plain": [
       "['this', 'is', 'a', 'test']"
      ]
     },
     "execution_count": 21,
     "metadata": {},
     "output_type": "execute_result"
    }
   ],
   "source": [
    "# .split() method\n",
    "# split method takes a string and split it into pieces. By default, it splits on white space, including spaces, tabs and newlines.\n",
    "\n",
    "'this is a test'.split()"
   ]
  },
  {
   "cell_type": "code",
   "execution_count": 29,
   "metadata": {},
   "outputs": [
    {
     "data": {
      "text/plain": [
       "' - remove left'"
      ]
     },
     "execution_count": 29,
     "metadata": {},
     "output_type": "execute_result"
    }
   ],
   "source": [
    "# lstrip and rstrip() methonds\n",
    "# remove any number of characters from the beginning or end ogf s string\n",
    "'testtest - remove left'.lstrip('tes') # rstrip is the same but removes characters from the end of the string.\n"
   ]
  },
  {
   "cell_type": "code",
   "execution_count": 31,
   "metadata": {},
   "outputs": [
    {
     "data": {
      "text/plain": [
       "'test - remove left'"
      ]
     },
     "execution_count": 31,
     "metadata": {},
     "output_type": "execute_result"
    }
   ],
   "source": [
    "# removesuffix() and removeprefix() methonds\n",
    "# Instead of removing a set of characters from the beginning or end of string, these removes the exact matches.\n",
    "'testtest - remove left'.removeprefix('test')"
   ]
  },
  {
   "cell_type": "markdown",
   "metadata": {},
   "source": [
    "##### String formating\n",
    "- You can use f string or .format() methond.\n",
    "##### variables\n",
    "- variables are used to hold values\n"
   ]
  }
 ],
 "metadata": {
  "kernelspec": {
   "display_name": "Python 3",
   "language": "python",
   "name": "python3"
  },
  "language_info": {
   "codemirror_mode": {
    "name": "ipython",
    "version": 3
   },
   "file_extension": ".py",
   "mimetype": "text/x-python",
   "name": "python",
   "nbconvert_exporter": "python",
   "pygments_lexer": "ipython3",
   "version": "3.12.1"
  }
 },
 "nbformat": 4,
 "nbformat_minor": 2
}
