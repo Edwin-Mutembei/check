{
 "cells": [
  {
   "cell_type": "markdown",
   "metadata": {},
   "source": [
    "##### Round () function.\n",
    "- The function round the number to the nearest intenger by default. \n",
    "- It also has an argument, ndigits, which allows us to round a number out of certain numbers of decimal digits."
   ]
  },
  {
   "cell_type": "code",
   "execution_count": 4,
   "metadata": {},
   "outputs": [
    {
     "data": {
      "text/plain": [
       "4.7"
      ]
     },
     "execution_count": 4,
     "metadata": {},
     "output_type": "execute_result"
    }
   ],
   "source": [
    "# rounding 4.6785 to one decimal place\n",
    "x = 4.6785\n",
    "round(x, 1)\n",
    "# or\n",
    "round(x, ndigits= 1)"
   ]
  },
  {
   "cell_type": "markdown",
   "metadata": {},
   "source": [
    "- Within python, there are several built-in modules and packages that add functionality.\n",
    "- One that relate to numbers is the math module, which has various mathematical functions and constants.\n",
    "\n",
    "- i.e. import math\n",
    "- math.pi, math lcm()\n",
    "- The line import math loads the math module, and the math.pi line returns the value of pi from the module"
   ]
  }
 ],
 "metadata": {
  "kernelspec": {
   "display_name": "Python 3",
   "language": "python",
   "name": "python3"
  },
  "language_info": {
   "codemirror_mode": {
    "name": "ipython",
    "version": 3
   },
   "file_extension": ".py",
   "mimetype": "text/x-python",
   "name": "python",
   "nbconvert_exporter": "python",
   "pygments_lexer": "ipython3",
   "version": "3.12.1"
  }
 },
 "nbformat": 4,
 "nbformat_minor": 2
}
