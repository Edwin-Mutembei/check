{
 "cells": [
  {
   "cell_type": "markdown",
   "metadata": {},
   "source": [
    "###### Continue and break\n",
    "- The break keyword will end a loop.\n",
    "- The continue kwyword will immediately move on to the next iteration in the loop, skipping any code left below it.\n",
    "###### range() and len()\n",
    "- The range() function takes at least one argument(the size of the range from 0 to our size), but can also take up to three arguments, start, stop and step, which is the same idea as indexing lists and strings. Stop which is the upper boundary to the range is non-inclusive.\n",
    "###### enumerate() function\n",
    "- it a built-in function\n",
    "- The enumerate function returns a tuple of a counter that starts at 0, along with the elements of the list or other iterable object."
   ]
  },
  {
   "cell_type": "code",
   "execution_count": 3,
   "metadata": {},
   "outputs": [
    {
     "name": "stdout",
     "output_type": "stream",
     "text": [
      "0 1\n",
      "1 2\n",
      "2 3\n"
     ]
    }
   ],
   "source": [
    "a_list = [1, 2, 3]\n",
    "for index, element in enumerate(a_list):\n",
    "    print(index, element)"
   ]
  },
  {
   "cell_type": "markdown",
   "metadata": {},
   "source": [
    "- Loops through lists can also be accomplished with list comprehensions.\n",
    "- These are handy because they can make code shorter and sometimes run slightly faster than for loops."
   ]
  },
  {
   "cell_type": "code",
   "execution_count": 10,
   "metadata": {},
   "outputs": [
    {
     "name": "stdout",
     "output_type": "stream",
     "text": [
      "[0, 1, 2]\n"
     ]
    }
   ],
   "source": [
    "# using plain for loop\n",
    "a_list = []\n",
    "for i in range(3):\n",
    "    a_list.append(i)\n",
    "print(a_list)\n",
    "\n",
    "# a list comprehension for the same end-result as the loop above\n",
    "a_list = [i for i in range(3)]\n",
    "print(a_list)"
   ]
  },
  {
   "cell_type": "markdown",
   "metadata": {},
   "source": [
    "- To loop through a dictionary, we can use the .items() method/function."
   ]
  },
  {
   "cell_type": "code",
   "execution_count": 20,
   "metadata": {},
   "outputs": [
    {
     "name": "stdout",
     "output_type": "stream",
     "text": [
      "books:1\n",
      "magazines:2\n",
      "articles:7\n"
     ]
    }
   ],
   "source": [
    "a_dict = {'books': 1, 'magazines': 2, 'articles': 7}\n",
    "for key, value in a_dict.items():\n",
    "    print(f'{key}:{value}')\n",
    "\n",
    "    # The idea is the same as looping through a list, but the .items() method of dictionariesgives us tuples of keys and values from the dictionary, one pair at a time.\n",
    "    # f-string formatting is used to dynamically print out the keys and values as we loop through the dictionary\n"
   ]
  },
  {
   "cell_type": "code",
   "execution_count": 24,
   "metadata": {},
   "outputs": [
    {
     "name": "stdout",
     "output_type": "stream",
     "text": [
      "{1: 1, 2: 4, 3: 9}\n"
     ]
    }
   ],
   "source": [
    "# using dictionary comprehension\n",
    "a_dict = {i: i**2 for i in range(1,4)}\n",
    "print(a_dict)"
   ]
  }
 ],
 "metadata": {
  "kernelspec": {
   "display_name": "Python 3",
   "language": "python",
   "name": "python3"
  },
  "language_info": {
   "codemirror_mode": {
    "name": "ipython",
    "version": 3
   },
   "file_extension": ".py",
   "mimetype": "text/x-python",
   "name": "python",
   "nbconvert_exporter": "python",
   "pygments_lexer": "ipython3",
   "version": "3.12.1"
  }
 },
 "nbformat": 4,
 "nbformat_minor": 2
}
