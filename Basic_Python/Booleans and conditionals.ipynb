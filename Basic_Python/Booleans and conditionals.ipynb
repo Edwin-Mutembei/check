{
 "cells": [
  {
   "cell_type": "markdown",
   "metadata": {},
   "source": [
    "##### Booleans and Conditionals\n",
    "- Booleans take the binary values of True (1) and False (0). Booleans can be used to test for a condition. \n",
    "- The in keyword is used to check whether some variable is in another variable. This works for checking whether a substring is in a string, or if an item is in a list, set,tuple or dictionary."
   ]
  }
 ],
 "metadata": {
  "language_info": {
   "name": "python"
  }
 },
 "nbformat": 4,
 "nbformat_minor": 2
}
