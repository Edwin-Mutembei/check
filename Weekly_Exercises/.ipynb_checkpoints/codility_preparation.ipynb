{
 "cells": [
  {
   "cell_type": "markdown",
   "metadata": {},
   "source": [
    "##### **Challenge1**\n",
    "After recently joining Instacart's beta testing developer group, you decide to experiment with their new API. You know that the API returns item-specific display-ready strings like 10.0% higher than in-store or 5.0% lower than in-store that inform users when the price of an item is different from the one in-store. But you want to extend this functionality by giving people a better sense of how much more they will be paying for their entire shopping cart.\n",
    "\n",
    "Your app lets a user decide the total amount x they are willing to pay via Instacart over in-store prices. This you call their price sensitivity.\n",
    "\n",
    "Your job is to determine whether a given customer will be willing to pay for the given items in their cart based on their stated price sensitivity x.\n",
    "\n",
    "Example\n",
    "\n",
    "For prices = [110, 95, 70],\n",
    "\n",
    "notes = [\"10.0% higher than in-store\", \"5.0% lower than in-store\", \"Same as in-store\"] and x = 5, the output should be solution(prices, notes, x) = true.\n",
    "\n",
    "In-store prices of the first and the second items are 100, and the price of the third item is 70, which means the customer is overpaying 10 - 5 + 0 = 5, which they are willing to do based on their price sensitivity.\n",
    "\n",
    "For prices = [48, 165],\n",
    "\n",
    "notes = [\"20.00% lower than in-store\", \"10.00% higher than in-store\"] and x = 2, the output should be solution(prices, notes, x) = false.\n",
    "\n",
    "The in-store price of the first item is 60, and the second item is 150. The overpayment equals 15 - 12 = 3, which is too much for the customer to be willing to pay.\n",
    "\n",
    "Input/Output\n",
    "\n",
    "[execution time limit] 4 seconds (py3)\n",
    "\n",
    "[memory limit] 1 GB\n",
    "\n",
    "[input] array.float prices\n",
    "\n",
    "Positive numbers, representing prices of the items in the shopping cart.\n",
    "\n",
    "Guaranteed constraints: 1 ≤ prices.length ≤ 10, 20.0 ≤ prices[i] ≤ 35.0 · 103.\n",
    "\n",
    "[input] array.string notes\n",
    "\n",
    "Array of the same length as prices. For each valid i notes[i] has one of the following forms:\n",
    "\n",
    "\"x% higher than in-store\", which means that Instacart price of the ith item is x% higher than the local one; \"x% lower than in-store\", which means that Instacart price of the ith item is x% lower than the local one; \"Same as in-store\", which means that the ith item costs the same in Instacart and in the local store, where x is a positive float number with the decimal point and at least one digit after it.\n",
    "\n",
    "Guaranteed constraints: notes.length = prices.length, 16 ≤ notes[i].length ≤ 30.\n",
    "\n",
    "[input] float x\n",
    "\n",
    "A non-negative float, the maximum amount of money the customer is willing to overpay.\n",
    "\n",
    "Guaranteed constraints: 0 ≤ x ≤ 150.0.\n",
    "\n",
    "[output] boolean\n",
    "\n",
    "true if the overpayment is admissible, false otherwise."
   ]
  },
  {
   "cell_type": "code",
   "execution_count": 4,
   "metadata": {},
   "outputs": [
    {
     "name": "stdout",
     "output_type": "stream",
     "text": [
      "Prices: [110, 95, 70], notes: ['10.0% higher than in-store', '5.0% lower than in-store', 'Same as in-store'], Price_difference: 5.0, X: 6 = true\n"
     ]
    }
   ],
   "source": [
    "\n",
    "\n",
    "prices = [110, 95, 70]\n",
    "notes = [\"10.0% higher than in-store\", \n",
    "         \"5.0% lower than in-store\", \n",
    "         \"Same as in-store\"]\n",
    "\n",
    "price_difference = 0\n",
    "x= 6\n",
    "for i in range(len(prices)):\n",
    "    pct = notes[i].split()[0].rstrip('%')\n",
    "\n",
    "    # handle the instance where price in store equals price online\n",
    "    if pct.lower() == 'same':\n",
    "        continue # or price_difference += 0 No change to price_difference\n",
    "\n",
    "    else:\n",
    "        # our logic in the case of the first value being a percentage, where price is store does not equal price online\n",
    "        second_arg = notes[i].split()[1]\n",
    "        pct = float(pct)\n",
    "\n",
    "        if second_arg.lower() == 'higher':\n",
    "            price_difference += (pct/(100+pct)) * prices[i]\n",
    "\n",
    "        else:\n",
    "            price_difference -= (pct/(100-pct)) * prices[i]\n",
    "\n",
    "\n",
    "\n",
    "\n",
    "if price_difference <= x:\n",
    "    print(f'Prices: {prices}, notes: {notes}, Price_difference: {price_difference}, X: {x} = true')\n",
    "\n",
    "else:\n",
    "    print(f'Prices: {prices}, notes: {notes}, Price_difference: {price_difference}, X: {x} = false')\n",
    "\n",
    "\n",
    "\n",
    "\n"
   ]
  },
  {
   "cell_type": "markdown",
   "metadata": {},
   "source": [
    "##### **Challenge 2**\n",
    "- Write a recursive function for GCD?\n",
    "- recursion - function calling itself\n",
    "- factorial, fibonacci\n",
    "- repetitive process and the values can be reused\n",
    "- it goes hand in hand with caching / memoisation (advanced topics)\n",
    "\n",
    "OOP - problems in OOP, Introduction to advanced python concepts (memoisation, recursion, caching)"
   ]
  },
  {
   "cell_type": "code",
   "execution_count": 12,
   "metadata": {},
   "outputs": [
    {
     "data": {
      "text/plain": [
       "2"
      ]
     },
     "execution_count": 12,
     "metadata": {},
     "output_type": "execute_result"
    }
   ],
   "source": [
    "import math\n",
    "\n",
    "def gcd(a,b):\n",
    "    return math.gcd(a,b)\n",
    "\n",
    "gcd(50,8)"
   ]
  },
  {
   "cell_type": "code",
   "execution_count": 16,
   "metadata": {},
   "outputs": [
    {
     "name": "stdout",
     "output_type": "stream",
     "text": [
      "Name: Edwin Mutembei\n",
      "Adress: 1069-60200\n"
     ]
    }
   ],
   "source": [
    "def mailing_info():\n",
    "    information = 'Name: {}\\nAdress: {}'.format(name, adress)\n",
    "    print(information)\n",
    "\n",
    "name = 'Edwin Mutembei'\n",
    "adress = '1069-60200'\n",
    "\n",
    "mailing_info()"
   ]
  }
 ],
 "metadata": {
  "kernelspec": {
   "display_name": "Python 3",
   "language": "python",
   "name": "python3"
  },
  "language_info": {
   "codemirror_mode": {
    "name": "ipython",
    "version": 3
   },
   "file_extension": ".py",
   "mimetype": "text/x-python",
   "name": "python",
   "nbconvert_exporter": "python",
   "pygments_lexer": "ipython3",
   "version": "3.12.1"
  }
 },
 "nbformat": 4,
 "nbformat_minor": 2
}
