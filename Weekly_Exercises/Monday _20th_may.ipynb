{
 "cells": [
  {
   "cell_type": "markdown",
   "metadata": {},
   "source": [
    "###### Exercise 1: Mailing Address\n",
    "- Create a program that displays your name and complete mailing address formatted in\n",
    "the manner that you would usually see it on the outside of an envelope. Your program\n",
    "does not need to read any input from the user"
   ]
  },
  {
   "cell_type": "code",
   "execution_count": 7,
   "metadata": {},
   "outputs": [
    {
     "name": "stdout",
     "output_type": "stream",
     "text": [
      "Name: Edwin Mutembei\n",
      "Address: = 1069 - 60200\n",
      "City: = Meru\n"
     ]
    }
   ],
   "source": [
    "def mailing_address():\n",
    "    name = 'Edwin Mutembei'\n",
    "    address = 1069\n",
    "    street_code = 60200\n",
    "    city = 'Meru'\n",
    "    print(f'Name: {name}\\nAddress: = {address} - {street_code}\\nCity: = {city}')\n",
    "mailing_address()"
   ]
  },
  {
   "cell_type": "markdown",
   "metadata": {},
   "source": [
    "###### Exercise 2: Hello\n",
    "- Write a program that asks the user to enter his or her name. The program should\n",
    "respond with a message that says hello to the user, using his or her name."
   ]
  },
  {
   "cell_type": "code",
   "execution_count": 8,
   "metadata": {},
   "outputs": [
    {
     "name": "stdout",
     "output_type": "stream",
     "text": [
      "hello Edwin\n"
     ]
    }
   ],
   "source": [
    "def user_input():  \n",
    "    user_prompt = input('kindly write your name: ')\n",
    "    print(f'hello {user_prompt}')\n",
    "\n",
    "user_input()\n",
    "\n"
   ]
  },
  {
   "cell_type": "markdown",
   "metadata": {},
   "source": [
    "###### Exercise 3: Area of a Room\n",
    "- Write a program that asks the user to enter the width and length of a room. Once\n",
    "the values have been read, your program should compute and display the area of the\n",
    "room. The length and the width will be entered as floating point numbers. Include\n",
    "units in your prompt and output message; either feet or meters, depending on which\n",
    "unit you are more comfortable working with"
   ]
  },
  {
   "cell_type": "code",
   "execution_count": 17,
   "metadata": {},
   "outputs": [
    {
     "name": "stdout",
     "output_type": "stream",
     "text": [
      "The area of the room is 20.0 square feet\n"
     ]
    }
   ],
   "source": [
    "def room_area():\n",
    "    width = float(input('input the width measurement of your room in feet: '))\n",
    "    length = float(input('input the length measurement of your roomin feet: '))\n",
    "     # Area = length * width\n",
    "    Area = length * width\n",
    "    return \"The area of the room is {} square feet\".format(Area)\n",
    "result = room_area()\n",
    "print(result)"
   ]
  },
  {
   "cell_type": "markdown",
   "metadata": {},
   "source": [
    "###### Exercise 4: Area of a Field\n",
    "- Create a program that reads the length and width of a farmer’s field from the user in feet. Display the area of the field in acres.\n",
    "- Hint: There are 43,560 square feet in an acre."
   ]
  },
  {
   "cell_type": "code",
   "execution_count": 19,
   "metadata": {},
   "outputs": [
    {
     "name": "stdout",
     "output_type": "stream",
     "text": [
      "length: 50.0 feet\n",
      "Width: 100.0 feet\n",
      "Area: 0.1147842056932966 acres\n"
     ]
    }
   ],
   "source": [
    "def field_area():\n",
    "    length = float(input('Enter the length of the field in feet: '))\n",
    "    width = float(input('Enter the width of the field in feet: '))\n",
    "\n",
    "    Area = (length * width)/43560\n",
    "    return f'length: {length} feet\\nWidth: {width} feet\\nArea: {Area} acres'\n",
    "\n",
    "results = field_area()\n",
    "print(results)"
   ]
  },
  {
   "cell_type": "markdown",
   "metadata": {},
   "source": [
    "###### Exercise 5: Bottle Deposits\n",
    "- In many jurisdictions a small deposit is added to drink containers to encourage people to recycle them. In one particular jurisdiction, drink containers holding one liter or less have a $0.10 deposit, and drink containers holding more than one liter have a $0.25 deposit.\n",
    "- Write a program that reads the number of containers of each size from the user.\n",
    "Your program should continue by computing and displaying the refund that will be\n",
    "received for returning those containers. Format the output so that it includes a dollar sign and always displays exactly two decimal places."
   ]
  },
  {
   "cell_type": "code",
   "execution_count": 20,
   "metadata": {},
   "outputs": [
    {
     "name": "stdout",
     "output_type": "stream",
     "text": [
      "Large_containers: 9\n",
      "Small containers: 8\n",
      "Refund: $3.05\n"
     ]
    }
   ],
   "source": [
    "def refund():\n",
    "    small_containers = int(input('Enter the total number of containers <= 1 litre: '))\n",
    "    large_containers = int(input('Enter the total number of containers above one litre'))\n",
    "\n",
    "    least_deposit = 0.10\n",
    "    large_deposit = 0.25\n",
    "\n",
    "    refund = (small_containers * least_deposit) + (large_containers * large_deposit)\n",
    "    return f'Large_containers: {large_containers}\\nSmall containers: {small_containers}\\nRefund: ${refund:.2f}'\n",
    "total_refund = refund()\n",
    "print(total_refund)\n",
    "\n"
   ]
  },
  {
   "cell_type": "markdown",
   "metadata": {},
   "source": [
    "##### Exercise 6: Tax and Tip\n",
    "- The program that you create for this exercise will begin by reading the cost of a meal ordered at a restaurant from the user. Then your program will compute the tax and tip for the meal. Use your local tax rate when computing the amount of tax owing.\n",
    "Compute the tip as 18 percent of the meal amount (without the tax). The output from\n",
    "your program should include the tax amount, the tip amount, and the grand total for\n",
    "the meal including both the tax and the tip. Format the output so that all of the values are displayed using two decimal places."
   ]
  },
  {
   "cell_type": "code",
   "execution_count": 25,
   "metadata": {},
   "outputs": [
    {
     "name": "stdout",
     "output_type": "stream",
     "text": [
      "Tax amount: $140.00\n",
      "Tip: $180.00\n",
      "Grand total for the meal: $1320.00\n"
     ]
    }
   ],
   "source": [
    "def meal_cost():\n",
    "\n",
    "    tax_rate = 0.14\n",
    "    tip_rate = 0.18\n",
    "    # Read the cost of the meal from the user\n",
    "    Cost_of_meal = float(input('Enter the total cost of the meal ordered: '))\n",
    "\n",
    "    # Compute the tax and tip\n",
    "    # tax rate = 14%\n",
    "    tax_owing = tax_rate * Cost_of_meal\n",
    "    tip = tip_rate * Cost_of_meal\n",
    "    grand_meal_total = Cost_of_meal + tip + tax_owing\n",
    "    return f'Tax amount: ${tax_owing:.2f}\\nTip: ${tip:.2f}\\nGrand total for the meal: ${grand_meal_total:.2f}'\n",
    "output = meal_cost()\n",
    "print(output)"
   ]
  },
  {
   "cell_type": "markdown",
   "metadata": {},
   "source": [
    "##### Exercise 7: Sum of the First n Positive Integers\n",
    "- Write a program that reads a positive integer, n, from the user and then displays the sum of all of the integers from 1 to n. The sum of the first n positive integers can be computed using the formula:\n",
    "sum =(n)(n + 1)/2"
   ]
  },
  {
   "cell_type": "code",
   "execution_count": 40,
   "metadata": {},
   "outputs": [
    {
     "name": "stdout",
     "output_type": "stream",
     "text": [
      "15.0\n"
     ]
    }
   ],
   "source": [
    "def positive_intenger():\n",
    "    n = int(input('Enter an intenger n: '))\n",
    "    if n > 0:\n",
    "        sum_of_positive_intengers = (n * (n+1))/2\n",
    "        return sum_of_positive_intengers\n",
    "    else:\n",
    "        print('please enter a positive number')\n",
    "    \n",
    "    \n",
    "answer = positive_intenger()\n",
    "if answer != None:\n",
    "    print(answer)"
   ]
  },
  {
   "cell_type": "markdown",
   "metadata": {},
   "source": [
    "##### Exercise 8:Widgets and Gizmos\n",
    "- An online retailer sells two products: widgets and gizmos. Each widget weighs 75\n",
    "grams. Each gizmo weighs 112 grams. Write a program that reads the number of\n",
    "widgets and the number of gizmos in an order from the user. Then your program\n",
    "should compute and display the total weight of the order."
   ]
  },
  {
   "cell_type": "code",
   "execution_count": 42,
   "metadata": {},
   "outputs": [
    {
     "name": "stdout",
     "output_type": "stream",
     "text": [
      "823 grams\n"
     ]
    }
   ],
   "source": [
    "def total_weight():\n",
    "    widgets = 75\n",
    "    gizmo = 112\n",
    "    no_of_widgets = int(input('Enter the number of widgets: '))\n",
    "    no_of_gizmo = int(input('Enter the number of gizmos'))\n",
    "\n",
    "    total_order_weight = (no_of_widgets * widgets) + (no_of_gizmo * gizmo)\n",
    "    return f'{total_order_weight} grams'\n",
    "total = total_weight()\n",
    "print(total)\n"
   ]
  },
  {
   "cell_type": "markdown",
   "metadata": {},
   "source": [
    "##### Exercise 9: Compound Interest\n",
    "- Pretend that you have just opened a new savings account that earns 4 percent interest per year. The interest that you earn is paid at the end of the year, and is added to the balance of the savings account. Write a program that begins by reading the amount of money deposited into the account from the user. Then your program should compute and display the amount in the savings account after 1, 2, and 3 years. Display each amount so that it is rounded to 2 decimal places."
   ]
  },
  {
   "cell_type": "code",
   "execution_count": 46,
   "metadata": {},
   "outputs": [
    {
     "name": "stdout",
     "output_type": "stream",
     "text": [
      "year 1: 104.00\n",
      "Year 2: 112.49\n",
      "Year 3: 126.53\n"
     ]
    }
   ],
   "source": [
    "def compound_interest():\n",
    "    p = int(input('Enter the principle: '))\n",
    "    i = 0.04\n",
    "    t = 1\n",
    "    year_1 =p * ((1 + i)**t)\n",
    "    year_2 = year_1 * ((1 + i)**2 * t)\n",
    "    year_3 = year_2 * ((1 + i)**3 * t)\n",
    "\n",
    "    return f\"year 1: {year_1:.2f}\\nYear 2: {year_2:.2f}\\nYear 3: {year_3:.2f}\"\n",
    "\n",
    "total = compound_interest()\n",
    "print(total)"
   ]
  },
  {
   "cell_type": "markdown",
   "metadata": {},
   "source": [
    "##### Exercise 10: Arithmetic\n",
    "Create a program that reads two integers, a and b, from the user. Your program shouldcompute and display:\n",
    "- The sum of a and b\n",
    "- The difference when b is subtracted from a\n",
    "- The product of a and b\n",
    "- The quotient when a is divided by b\n",
    "- The remainder when a is divided by b\n",
    "- The result of log10 a\n",
    "- The result of a^b\n",
    "\n",
    "Hint: You will probably find the log10 function in the math module helpful\n",
    "for computing the second last item in the list."
   ]
  },
  {
   "cell_type": "code",
   "execution_count": 50,
   "metadata": {},
   "outputs": [
    {
     "name": "stdout",
     "output_type": "stream",
     "text": [
      "sum: 20\n",
      "Dif: 0\n",
      "Prod: 100\n",
      "Quotient:1\n",
      "Modulus: 2\n",
      "Log : 1.00\n",
      "Exponent: 10000000000.00\n"
     ]
    }
   ],
   "source": [
    "import math\n",
    "def arithmetic():\n",
    "    a = int(input('Enter your first number'))\n",
    "    b = int(input('enter your second number: '))\n",
    "\n",
    "    sm = a + b\n",
    "    dif = a - b\n",
    "    prod = a * b\n",
    "    quotient = a // b\n",
    "    modulus = 2 % b \n",
    "    loge = math.log10(a)\n",
    "    exponent = a **b\n",
    "\n",
    "    return f\"sum: {sm}\\nDif: {dif}\\nProd: {prod}\\nQuotient:{quotient}\\nModulus: {modulus}\\nLog : {loge:.2f}\\nExponent: {exponent:.2f}\"\n",
    "result = arithmetic()\n",
    "print(result)\n"
   ]
  },
  {
   "cell_type": "markdown",
   "metadata": {},
   "source": [
    "##### Exercise 11: Fuel Efficiency\n",
    "- In the United States, fuel efficiency for vehicles is normally expressed in miles-pergallon (MPG). In Canada, fuel efficiency is normally expressed in liters-per-hundred kilometers (L/100km). Use your research skills to determine how to convert from MPG to L/100km. Then create a program that reads a value from the user in American units and displays the equivalent fuel efficiency in Canadian units."
   ]
  },
  {
   "cell_type": "code",
   "execution_count": 52,
   "metadata": {},
   "outputs": [
    {
     "name": "stdout",
     "output_type": "stream",
     "text": [
      "705.645 L/100km\n"
     ]
    }
   ],
   "source": [
    "# 1 mpg = 235.215 L/100km\n",
    "def fuel_efficiency():\n",
    "    efficiency = float(input(\"Enter your vehicle's fuel efficiency: \"))\n",
    "    converted_efficiency = efficiency * 235.215\n",
    "    return f\"{converted_efficiency} L/100km\"\n",
    "\n",
    "result = fuel_efficiency()\n",
    "print(result)"
   ]
  },
  {
   "cell_type": "markdown",
   "metadata": {},
   "source": [
    "##### Exercise 12: Distance Between Two Points on Earth\n",
    "The surface of the Earth is curved, and the distance between degrees of longitude\n",
    "varies with latitude. As a result, finding the distance between two points on the surface of the Earth is more complicated than simply using the Pythagorean theorem.\n",
    "Let (t1, g1) and (t2, g2) be the latitude and longitude of two points on the Earth’s\n",
    "surface. The distance between these points, following the surface of the Earth, in\n",
    "kilometers is: \n",
    "\n",
    "distance = 6371.01 × arccos(sin(t1) × sin(t2) + cos(t1) × cos(t2) × cos(g1 − g2))\n",
    "\n",
    "The value 6371.01 in the previous equation wasn’t selected at random. It is\n",
    "the average radius of the Earth in kilometers.\n",
    "\n",
    "Create a program that allows the user to enter the latitude and longitude of two\n",
    "points on the Earth in degrees. Your program should display the distance between\n",
    "the points, following the surface of the earth, in kilometers.\n",
    "\n",
    "Hint: Python’s trigonometric functions operate in radians. As a result, you will\n",
    "need to convert the user’s input from degrees to radians before computing the\n",
    "distance with the formula discussed previously. The math module contains a\n",
    "function named radians which converts from degrees to radians.\n"
   ]
  },
  {
   "cell_type": "code",
   "execution_count": 55,
   "metadata": {},
   "outputs": [
    {
     "ename": "AttributeError",
     "evalue": "module 'math' has no attribute 'arccos'",
     "output_type": "error",
     "traceback": [
      "\u001b[1;31m---------------------------------------------------------------------------\u001b[0m",
      "\u001b[1;31mAttributeError\u001b[0m                            Traceback (most recent call last)",
      "Cell \u001b[1;32mIn[55], line 17\u001b[0m\n\u001b[0;32m     15\u001b[0m     distance \u001b[38;5;241m=\u001b[39m \u001b[38;5;241m6371.01\u001b[39m \u001b[38;5;241m*\u001b[39m math\u001b[38;5;241m.\u001b[39marccos(math\u001b[38;5;241m.\u001b[39msin(latitude1_converted) \u001b[38;5;241m*\u001b[39m math\u001b[38;5;241m.\u001b[39msin(latitude2_converted) \u001b[38;5;241m+\u001b[39m math\u001b[38;5;241m.\u001b[39mcos(latitude1_converted) \u001b[38;5;241m*\u001b[39m math\u001b[38;5;241m.\u001b[39mcos(longtude1_converted \u001b[38;5;241m-\u001b[39m longtude2_converted))\n\u001b[0;32m     16\u001b[0m     \u001b[38;5;28;01mreturn\u001b[39;00m distance\n\u001b[1;32m---> 17\u001b[0m calculated_distance \u001b[38;5;241m=\u001b[39m \u001b[43mearth_distance\u001b[49m\u001b[43m(\u001b[49m\u001b[43m)\u001b[49m\n\u001b[0;32m     18\u001b[0m \u001b[38;5;28mprint\u001b[39m(calculated_distance)\n",
      "Cell \u001b[1;32mIn[55], line 15\u001b[0m, in \u001b[0;36mearth_distance\u001b[1;34m()\u001b[0m\n\u001b[0;32m     12\u001b[0m latitude2_converted \u001b[38;5;241m=\u001b[39m math\u001b[38;5;241m.\u001b[39mradians(latitude2)\n\u001b[0;32m     13\u001b[0m longtude2_converted \u001b[38;5;241m=\u001b[39m math\u001b[38;5;241m.\u001b[39mradians(longtude2)\n\u001b[1;32m---> 15\u001b[0m distance \u001b[38;5;241m=\u001b[39m \u001b[38;5;241m6371.01\u001b[39m \u001b[38;5;241m*\u001b[39m \u001b[43mmath\u001b[49m\u001b[38;5;241;43m.\u001b[39;49m\u001b[43marccos\u001b[49m(math\u001b[38;5;241m.\u001b[39msin(latitude1_converted) \u001b[38;5;241m*\u001b[39m math\u001b[38;5;241m.\u001b[39msin(latitude2_converted) \u001b[38;5;241m+\u001b[39m math\u001b[38;5;241m.\u001b[39mcos(latitude1_converted) \u001b[38;5;241m*\u001b[39m math\u001b[38;5;241m.\u001b[39mcos(longtude1_converted \u001b[38;5;241m-\u001b[39m longtude2_converted))\n\u001b[0;32m     16\u001b[0m \u001b[38;5;28;01mreturn\u001b[39;00m distance\n",
      "\u001b[1;31mAttributeError\u001b[0m: module 'math' has no attribute 'arccos'"
     ]
    }
   ],
   "source": [
    "# distance = 6371.01 × arccos(sin(t1) × sin(t2) + cos(t1) × cos(t2) × cos(g1 − g2))\n",
    "import math\n",
    "def earth_distance():\n",
    "    latitude1= float(input('Enter the latitude of the first point: '))\n",
    "    longtude1 = float(input('Enter the longtude of the first point: '))\n",
    "    latitude2 = float(input('Enter the latitude of the second point: '))\n",
    "    longtude2 = float(input('Enter the longtude of the second point: '))\n",
    "\n",
    "\n",
    "    latitude1_converted = math.radians(latitude1)\n",
    "    longtude1_converted = math.radians(longtude1)\n",
    "    latitude2_converted = math.radians(latitude2)\n",
    "    longtude2_converted = math.radians(longtude2)\n",
    "\n",
    "    distance = 6371.01 * math.arccos(math.sin(latitude1_converted) * math.sin(latitude2_converted) + math.cos(latitude1_converted) * math.cos(longtude1_converted - longtude2_converted))\n",
    "    return distance\n",
    "calculated_distance = earth_distance()\n",
    "print(calculated_distance)\n"
   ]
  },
  {
   "cell_type": "markdown",
   "metadata": {},
   "source": [
    "##### Exercise 13: Making Change\n",
    "Consider the software that runs on a self-checkout machine. One task that it must be\n",
    "able to perform is to determine how much change to provide when the shopper pays\n",
    "for a purchase with cash. \n",
    "\n",
    "Write a program that begins by reading a number of cents from the user as an\n",
    "integer. Then your program should compute and display the denominations of the\n",
    "coins that should be used to give that amount of change to the shopper. The change\n",
    "should be given using as few coins as possible. Assume that the machine is loaded\n",
    "with pennies, nickels, dimes, quarters, loonies and toonies.\n",
    "\n",
    " A one dollar coin was introduced in Canada in 1987. It is referred to as a loonie because one side of the coin has a loon (a type of bird) on it. The two dollar coin, referred to as a toonie, was introduced 9 years later. It’s name is derived from the combination of the number two and the name of the loonie."
   ]
  },
  {
   "cell_type": "code",
   "execution_count": 57,
   "metadata": {},
   "outputs": [
    {
     "name": "stdout",
     "output_type": "stream",
     "text": [
      " 1 toonies\n",
      " 0 loonies\n",
      " 2 quarters\n",
      " 0 dimes\n",
      " 2 nickels\n",
      " 0 pennies\n"
     ]
    }
   ],
   "source": [
    "# denominations\n",
    "\n",
    "cents_per_toonie = 200\n",
    "cents_per_loonie = 100\n",
    "cents_per_quarter = 25\n",
    "cents_per_dime = 10\n",
    "cents_per_nickel = 5\n",
    "# cents_per_pennies =\n",
    "\n",
    "cents = int(input('Enter the change amount: '))\n",
    "\n",
    "\"\"\"\n",
    " Determine the number of toonies by performing an intenger division by 200. Then compute the\n",
    " amount of cgange that still needs to be considered by computing the reminder after deviding by 200\n",
    "\"\"\"\n",
    "print(\"\", cents// cents_per_toonie, \"toonies\")\n",
    "cents  %=  cents_per_toonie # it calculate the modulus or the remaining cents and stores it in the variable cents\n",
    "\n",
    "print(\"\", cents// cents_per_loonie, \"loonies\")\n",
    "cents %= cents_per_loonie\n",
    "\n",
    "print(\"\", cents// cents_per_quarter, \"quarters\")\n",
    "cents = cents % cents_per_quarter # the same as the previous two\n",
    "\n",
    "print(\"\", cents// cents_per_dime, \"dimes\")\n",
    "cents = cents_per_dime\n",
    "\n",
    "print(\"\", cents// cents_per_nickel, \"nickels\")\n",
    "cents = cents % cents_per_nickel\n",
    "\n",
    "# Display the number of pennies\n",
    "print(\"\", cents, \"pennies\")\n",
    "\n",
    "\n"
   ]
  },
  {
   "cell_type": "markdown",
   "metadata": {},
   "source": [
    "##### method 2\n",
    "using functions"
   ]
  },
  {
   "cell_type": "code",
   "execution_count": 59,
   "metadata": {},
   "outputs": [
    {
     "name": "stdout",
     "output_type": "stream",
     "text": [
      "Number of coins\n",
      "Toonie: 1\n",
      "Loonie: 0\n",
      "Quarter: 2\n",
      "Dime: 0\n",
      "Nickel: 0\n",
      "Penny: 0\n"
     ]
    }
   ],
   "source": [
    "# 1 dollar = 100cents\n",
    "\n",
    "# penny = 1 cent nickel = 5 cent dime = 10 cents quarter = 25 cents loonie = 1 dollar toonie = 2 dollars\n",
    "\n",
    "# The user enters number of cents We are supposed to give the user change using as minimal number of coins as possible\n",
    "\n",
    "def make_change():\n",
    "    # prompt the user for input of cents\n",
    "    number_of_cents = int(input(\"Enter number of cents: \"))\n",
    "    toonie, loonie, quarter, dime, nickel, penny = 0,0,0,0,0,0\n",
    "    \n",
    "    # use if else statement\n",
    "    if number_of_cents >= 200:\n",
    "        toonie += number_of_cents // 200\n",
    "        number_of_cents %= 200\n",
    "        \n",
    "    if number_of_cents >= 100:\n",
    "        loonie += number_of_cents // 100\n",
    "        number_of_cents %= 100\n",
    "        \n",
    "    if number_of_cents >= 25:\n",
    "        quarter += number_of_cents // 25\n",
    "        number_of_cents %= 25\n",
    "        \n",
    "    if number_of_cents >= 10:\n",
    "        dime += number_of_cents // 10\n",
    "        number_of_cents %= 10\n",
    "        \n",
    "    if number_of_cents >= 5:\n",
    "        nickel += number_of_cents // 5\n",
    "        number_of_cents %= 5\n",
    "        \n",
    "    if 0 < number_of_cents < 5:\n",
    "        penny = number_of_cents\n",
    "    \n",
    "    result = \"Number of coins\\nToonie: {}\\nLoonie: {}\\nQuarter: {}\\nDime: {}\\nNickel: {}\\nPenny: {}\".format(toonie, loonie, quarter, dime, nickel, penny)\n",
    "    \n",
    "    return result\n",
    "\n",
    "print(make_change())"
   ]
  },
  {
   "cell_type": "markdown",
   "metadata": {},
   "source": [
    "##### Exercise 14: Height Unit\n",
    "Many people think about their height in feet and inches, even in some countries that\n",
    "primarily use the metric system. Write a program that reads a number of feet from\n",
    "the user, followed by a number of inches. Once these values are read, your program\n",
    "should compute and display the equivalent number of centimeters.\n",
    "\n",
    "Hint: One foot is 12 inches. One inch is 2.54 centimeters."
   ]
  },
  {
   "cell_type": "code",
   "execution_count": 62,
   "metadata": {},
   "outputs": [
    {
     "name": "stdout",
     "output_type": "stream",
     "text": [
      "Total height: 208.28 centimeters\n"
     ]
    }
   ],
   "source": [
    "def height_unit():\n",
    "    feet = int(input('Enter your height in feet: '))\n",
    "    inches = int(input('Enter the inches above the feet: '))\n",
    "\n",
    "    # feet_conversion = feet * 30.48\n",
    "    # inch_conversion = inches * 2.54\n",
    "\n",
    "    feet_conversion = feet * 12 * 2.54\n",
    "    inch_conversion = inches * 2.54\n",
    "\n",
    "    total_height = feet_conversion + inch_conversion\n",
    "    return f'Total height: {total_height} centimeters'\n",
    "\n",
    "result = height_unit()\n",
    "print(result)"
   ]
  },
  {
   "cell_type": "markdown",
   "metadata": {},
   "source": [
    "##### Exercise 15: Distance Units\n",
    "In this exercise, you will create a program that begins by reading a measurement\n",
    "in feet from the user. Then your program should display the equivalent distance in\n",
    "inches, yards and miles. Use the Internet to look up the necessary conversion factors\n",
    "if you don’t have them memorized."
   ]
  },
  {
   "cell_type": "code",
   "execution_count": 65,
   "metadata": {},
   "outputs": [
    {
     "name": "stdout",
     "output_type": "stream",
     "text": [
      "Height: 0.0189 miles\n",
      "Height: 1200.0000 inches\n",
      "Height: 33.3333 yards\n"
     ]
    }
   ],
   "source": [
    "# 1 foot = 0.000189394 miles\n",
    "# 1 foot = 12 inches\n",
    "# 3 feet = 1 yard\n",
    "def distance_units():\n",
    "    feet = float(input('Enter your height in feet: '))\n",
    "    \n",
    "    height_in_miles = feet * 0.000189394\n",
    "    height_in_inches = feet * 12\n",
    "    height_in_yards = feet/3\n",
    "\n",
    "    return f'Height: {height_in_miles:.4f} miles\\nHeight: {height_in_inches:.4f} inches\\nHeight: {height_in_yards:.4f} yards'\n",
    "result = distance_units()\n",
    "print(result)"
   ]
  },
  {
   "cell_type": "markdown",
   "metadata": {},
   "source": [
    "##### Exercise 16: Area and Volume\n",
    "Write a program that begins by reading a radius, r, from the user. The program will\n",
    "continue by computing and displaying the area of a circle with radius r and the\n",
    "volume of a sphere with radius r. Use the pi constant in the math module in your\n",
    "calculations.\n",
    "\n",
    "Hint: The area of a circle is computed using the formula area = πr2. The\n",
    "volume of a sphere is computed using the formula volume = 43πr3."
   ]
  },
  {
   "cell_type": "code",
   "execution_count": 67,
   "metadata": {},
   "outputs": [
    {
     "name": "stdout",
     "output_type": "stream",
     "text": [
      "Area: 153.94\n",
      "Volume: 12930.80\n"
     ]
    }
   ],
   "source": [
    "import math\n",
    "def area_and_volume():\n",
    "    r =float(input('Enter the radius: '))\n",
    "\n",
    "    area = math.pi * r**2\n",
    "    volume = 4 * 3 * math.pi * r**3\n",
    "\n",
    "    return  f'Area: {area:.2f}\\nVolume: {volume:.2f}'\n",
    "\n",
    "result = area_and_volume()\n",
    "print(result)"
   ]
  },
  {
   "cell_type": "markdown",
   "metadata": {},
   "source": [
    "##### Exercise 17: Heat Capacity\n",
    "The amount of energy required to increase the temperature of one gram of a material\n",
    "by one degree Celsius is the material’s specific heat capacity, C. The total amount\n",
    "of energy required to raise m grams of a material by ∆T degrees Celsius can be\n",
    "computed using the formula:\n",
    "\n",
    "- q = mC∆T.\n",
    "\n",
    "Write a program that reads the mass of some water and the temperature change\n",
    "from the user. Your program should display the total amount of energy that must be\n",
    "added or removed to achieve the desired temperature change.\n",
    "\n",
    "Hint: The specific heat capacity of water is 4.186 J /g◦C. Because water has a density of 1.0 gram per millilitre, you can use grams and millilitres interchangeably\n",
    "in this exercise.\n",
    "\n",
    "Extend your program so that it also computes the cost of heating the water. Electricity is normally billed using units of kilowatt hours rather than Joules. In this exercise, you should assume that electricity costs 8.9 cents per kilowatt-hour. Useyour program to compute the cost of boiling  water for a cup of coffee.\n",
    "\n",
    "Hint: You will need to look up the factor for converting between Joules and\n",
    "kilowatt hours to complete the last part of this exercise."
   ]
  },
  {
   "cell_type": "code",
   "execution_count": 70,
   "metadata": {},
   "outputs": [
    {
     "name": "stdout",
     "output_type": "stream",
     "text": [
      "Energy amount: 418600.00j\n",
      "Cost of heating the water: $1.03\n"
     ]
    }
   ],
   "source": [
    "def heat_capacity():\n",
    "    m = float(input('Enter the mass of water: '))\n",
    "    change_in_temparature = float(input('Enter the change in temperature: '))\n",
    "    # 1kw = 3,600,000 j\n",
    "    specific_heat_capacity = 4.186\n",
    "    electricity_costs = 8.9\n",
    "\n",
    "    total_energy = m * specific_heat_capacity *change_in_temparature\n",
    "    temp_in_kilowat_hour = total_energy/3600000\n",
    "\n",
    "    cost_of_heating_water = temp_in_kilowat_hour * electricity_costs\n",
    "\n",
    "    return f\"Energy amount: {total_energy:.2f}j\\nCost of heating the water: ${cost_of_heating_water:.2f}\"\n",
    "result = heat_capacity()\n",
    "print(result)\n",
    "    "
   ]
  },
  {
   "cell_type": "markdown",
   "metadata": {},
   "source": [
    "##### Exercise 18: Volume of a Cylinder\n",
    "The volume of a cylinder can be computed by multiplying the area of its circular\n",
    "base by its height. Write a program that reads the radius of the cylinder, along with\n",
    "its height, from the user and computes its volume. Display the result rounded to one\n",
    "decimal place."
   ]
  },
  {
   "cell_type": "code",
   "execution_count": 2,
   "metadata": {},
   "outputs": [
    {
     "name": "stdout",
     "output_type": "stream",
     "text": [
      "Radius: 15.0 cm\n",
      "Height: 20.0 cm\n",
      "Volume: 7068.6 cm^3\n"
     ]
    }
   ],
   "source": [
    "# volume of a cylinder is equal to base area * height\n",
    "import math\n",
    "\n",
    "def volume_of_cylinder():\n",
    "    radius = float(input('Enter the radius of the cylinder: '))\n",
    "    height = float(input('Enter the height of the cylinder: '))\n",
    "\n",
    "    base_area = 0.5 * math.pi * radius**2\n",
    "    volume = base_area * height\n",
    "\n",
    "    return f'Radius: {radius:.1f} cm\\nHeight: {height:.1f} cm\\nVolume: {volume:.1f} cm^3'\n",
    "result = volume_of_cylinder()\n",
    "print(result)"
   ]
  },
  {
   "cell_type": "markdown",
   "metadata": {},
   "source": [
    "##### Exercise 19: Free Fall\n",
    "Create a program that determines how quickly an object is traveling when it hits the\n",
    "ground. The user will enter the height from which the object is dropped in meters (m).\n",
    "Because the object is dropped its initial speed is 0m/s. Assume that the acceleration\n",
    "due to gravity is 9.8m/s2. You can use the formula vf = vi2 + 2ad to compute the\n",
    "final speed, vf , when the initial speed, vi, acceleration, a, and distance, d, are known."
   ]
  },
  {
   "cell_type": "code",
   "execution_count": 5,
   "metadata": {},
   "outputs": [
    {
     "name": "stdout",
     "output_type": "stream",
     "text": [
      "28.00 m/^2\n"
     ]
    }
   ],
   "source": [
    "def free_fall():\n",
    "    d = float(input('Enter the height in metres: '))\n",
    "    a = 9.8  #acceleration due to gravity in m/s^2\n",
    "    vi = 0   # initial velocity in m/s\n",
    "\n",
    "    vf = (vi**2 + 2*(a * d))**0.5  # final verocity in m/s\n",
    "    return f'{vf:.2f} m/^2'\n",
    "\n",
    "result = free_fall()\n",
    "print(result)"
   ]
  },
  {
   "cell_type": "markdown",
   "metadata": {},
   "source": [
    "##### Exercise 20: Ideal Gas Law\n",
    "The ideal gas law is a mathematical approximation of the behavior of gasses as\n",
    "pressure, volume and temperature change. It is usually stated as:\n",
    "PV = nRT\n",
    "where P is the pressure in Pascals, V is the volume in liters, n is the amount of\n",
    "substance in moles, R is the ideal gas constant, equal to 8.314mol K J , and T is the\n",
    "temperature in degrees Kelvin.\n",
    "Write a program that computes the amount of gas in moles when the user supplies\n",
    "the pressure, volume and temperature. Test your program by determining the number\n",
    "of moles of gas in a SCUBA tank. A typical SCUBA tank holds 12 liters of gas at\n",
    "a pressure of 20,000,000 Pascals (approximately 3,000 PSI). Room temperature is\n",
    "approximately 20 degrees Celsius or 68 degrees Fahrenheit.\n",
    "\n",
    "Hint: A temperature is converted from Celsius to Kelvin by adding 273.15\n",
    "to it. To convert a temperature from Fahrenheit to Kelvin, deduct 32 from it,\n",
    "multiply it by 59 and then add 273.15 to it."
   ]
  },
  {
   "cell_type": "code",
   "execution_count": 8,
   "metadata": {},
   "outputs": [
    {
     "name": "stdout",
     "output_type": "stream",
     "text": [
      "98471.67 moles\n"
     ]
    }
   ],
   "source": [
    "\"\"\"\n",
    "Formula\n",
    "\n",
    "    PV = nRT\n",
    "\n",
    "    where p is the pressure in pascals, V is the volume in liters,\n",
    "    n is the amount of substance in moles, R is the ideal gas constant, equal to 8.314,\n",
    "    and T is the temperature in degrees kelvin.\n",
    "\n",
    "    PV = 'nRT'\n",
    "    n = 'PV/RT'\n",
    "\"\"\"\n",
    "def ideal_gas_law():\n",
    "    v = 12\n",
    "    p = 20000000\n",
    "    T = 20 + 273.15\n",
    "    R = 8.314\n",
    "\n",
    "    n = (p * v)/(R * T)\n",
    "    return f'{n:.2f} moles'\n",
    "\n",
    "result = ideal_gas_law()\n",
    "print(result)\n",
    "\n"
   ]
  },
  {
   "cell_type": "markdown",
   "metadata": {},
   "source": [
    "##### Exercise 21: Area of a Triangle\n",
    "The area of a triangle can be computed using the following formula, where b is the\n",
    "length of the base of the triangle, and h is its height:\n",
    "\n",
    "area =\n",
    "(b × h)/2\n",
    "\n",
    "Write a program that allows the user to enter values for b and h. The program\n",
    "should then compute and display the area of a triangle with base length b and height h."
   ]
  },
  {
   "cell_type": "code",
   "execution_count": 10,
   "metadata": {},
   "outputs": [
    {
     "name": "stdout",
     "output_type": "stream",
     "text": [
      "297.50 M^2\n"
     ]
    }
   ],
   "source": [
    "def area_of_a_triangle():\n",
    "    base = float(input('Enter base length in meters: '))\n",
    "    height = float(input('Enter the height of the triangle: '))\n",
    "\n",
    "    area = (base * height)/2\n",
    "\n",
    "    return f'{area:.2F} M^2'\n",
    "\n",
    "result = area_of_a_triangle()\n",
    "print(result)"
   ]
  },
  {
   "cell_type": "markdown",
   "metadata": {},
   "source": [
    "##### Exercise 22: Area of a Triangle (Again)\n",
    "In the previous exercise you created a program that computed the area of a triangle\n",
    "when the length of its base and its height were known. It is also possible to compute\n",
    "the area of a triangle when the lengths of all three sides are known. Let s1, s2 and s3\n",
    "be the lengths of the sides. Let s = (s1 + s2 + s3)/2. Then the area of the triangle\n",
    "can be calculated using the following formula:\n",
    "\n",
    "area = sqrt(s × (s − s1) × (s − s2) × (s − s3))\n",
    "\n",
    "Develop a program that reads the lengths of the sides of a triangle from the user and\n",
    "displays its area."
   ]
  },
  {
   "cell_type": "code",
   "execution_count": 17,
   "metadata": {},
   "outputs": [
    {
     "name": "stdout",
     "output_type": "stream",
     "text": [
      "781.98 cm^2\n"
     ]
    }
   ],
   "source": [
    "from math import sqrt\n",
    "# sqrt from math module throws an error whe the sides of triangle provided by the user is not valid\n",
    "def area_of_a_triangle():\n",
    "    s1 = float(input('Enter the length of the first side: '))\n",
    "    s2 = float(input('Enter the length of the second side: '))\n",
    "    s3 = float(input('Enter the length of the third side: '))\n",
    "\n",
    "    s = (s1 + s2 + s3)/2\n",
    "    area = (s * (s - s1) * (s - s2) * (s - s3))**0.5\n",
    "    return f'{area:.2f} cm^2'\n",
    "\n",
    "result = area_of_a_triangle()\n",
    "print(result)\n"
   ]
  },
  {
   "cell_type": "markdown",
   "metadata": {},
   "source": [
    "##### Exercise 23: Area of a Regular Polygon\n",
    "A polygon is regular if its sides are all the same length and the angles between all of\n",
    "the adjacent sides are equal. The area of a regular polygon can be computed using\n",
    "the following formula, where s is the length of a side and n is the number of sides:\n",
    "\n",
    "area =(n × s2)/4 × tan (π/n )\n",
    "\n",
    "Write a program that reads s and n from the user and then displays the area of a\n",
    "regular polygon constructed from these values."
   ]
  },
  {
   "cell_type": "code",
   "execution_count": 20,
   "metadata": {},
   "outputs": [
    {
     "name": "stdout",
     "output_type": "stream",
     "text": [
      "3483.9667 cm^2\n"
     ]
    }
   ],
   "source": [
    "from math import tan, pi\n",
    "def area_of_regular_polygon():\n",
    "    s = float(input('Enter the length of the polygon side: '))\n",
    "    n = int(input('Enter the number of sides of the polygon: '))\n",
    "\n",
    "    area = (n * s**2)/(4 * tan(pi/n))\n",
    "    return f'{area:.4f} cm^2'\n",
    "result = area_of_regular_polygon()\n",
    "print(result)"
   ]
  },
  {
   "cell_type": "markdown",
   "metadata": {},
   "source": [
    "##### Exercise 24: Units of Time\n",
    "Create a program that reads a duration from the user as a number of days, hours,\n",
    "minutes, and seconds. Compute and display the total number of seconds represented\n",
    "by this duration."
   ]
  },
  {
   "cell_type": "code",
   "execution_count": 3,
   "metadata": {},
   "outputs": [
    {
     "name": "stdout",
     "output_type": "stream",
     "text": [
      "273906 seconds\n"
     ]
    }
   ],
   "source": [
    "def unit_of_time():\n",
    "    days = int(input('Enter the number of days: '))\n",
    "    hours = int(input('Enter the number of hours: '))\n",
    "    minutes = int(input('Enter the number of minutes: '))\n",
    "    seconds = int(input('Enter the number of seconds: '))\n",
    "\n",
    "    hours_converted = hours * 60 * 60\n",
    "    minutes_converted = minutes * 60\n",
    "    days_converted = days * 60 *60 * 24\n",
    "    \n",
    "    duration_in_seconds = days_converted + hours_converted + minutes_converted + seconds\n",
    "    return f'{duration_in_seconds} seconds'\n",
    "\n",
    "result = unit_of_time()\n",
    "print(result)\n"
   ]
  },
  {
   "cell_type": "markdown",
   "metadata": {},
   "source": [
    "##### Exercise 25: Units of Time (Again)\n",
    "In this exercise you will reverse the process described in the previous exercise.\n",
    "Develop a program that begins by reading a number of seconds from the user.\n",
    "Then your program should display the equivalent amount of time in the form\n",
    "D:HH:MM:SS, where D, HH, MM, and SS represent days, hours, minutes and seconds respectively. The hours, minutes and seconds should all be formatted so that\n",
    "they occupy exactly two digits, with a leading 0 displayed if necessary."
   ]
  },
  {
   "cell_type": "code",
   "execution_count": 15,
   "metadata": {},
   "outputs": [
    {
     "name": "stdout",
     "output_type": "stream",
     "text": [
      "06: 13: 44: 50\n"
     ]
    }
   ],
   "source": [
    "\"\"\"\n",
    "Number of seconds in a day = 86400\n",
    "Number of seconds in an hour = 3600\n",
    "Number of days in a minute = 60\n",
    "\n",
    "\"\"\"\n",
    "def unit_of_time():\n",
    "    input_seconds = int(input('Enter the number of seconds: '))\n",
    "    days = 0\n",
    "    hours = 0 \n",
    "    minute = 0\n",
    "    seconds = 0\n",
    "\n",
    "    if input_seconds >= 86400:\n",
    "        days += input_seconds // 86400 \n",
    "        input_seconds %= 86400\n",
    "\n",
    "    if input_seconds >= 3600:\n",
    "        hours += input_seconds // 3600\n",
    "        input_seconds %= 3600\n",
    "\n",
    "    if input_seconds >= 60:\n",
    "        minute += input_seconds // 60\n",
    "        input_seconds %= 60\n",
    "\n",
    "    if input_seconds < 60:\n",
    "        seconds += input_seconds\n",
    "\n",
    "    return f'{days:02d}: {hours:02d}: {minute:02d}: {seconds:02d}'\n",
    "\n",
    "result = unit_of_time()\n",
    "print(result)\n",
    "\n",
    "\n"
   ]
  },
  {
   "cell_type": "markdown",
   "metadata": {},
   "source": [
    "##### method 2"
   ]
  },
  {
   "cell_type": "code",
   "execution_count": 27,
   "metadata": {},
   "outputs": [
    {
     "name": "stdout",
     "output_type": "stream",
     "text": [
      "1: 03: 46: 40\n"
     ]
    }
   ],
   "source": [
    "def unit_of_time():\n",
    "\n",
    "    # Read input from the user\n",
    "    input_seconds =int(input('Enter the number of seconds: '))\n",
    "\n",
    "    # Compute the days, hours, munutes and seconds\n",
    "    days = input_seconds // 86400\n",
    "    remender_1 = input_seconds % 86400\n",
    "\n",
    "    hours = remender_1 // 3600\n",
    "    remender_2 = remender_1 % 3600\n",
    "\n",
    "    minute = remender_2 // 60\n",
    "    remender_3 = remender_2 % 60\n",
    "\n",
    "    seconds = remender_3\n",
    "\n",
    "    return f'{days}: {hours:02d}: {minute:02d}: {seconds:02d}'\n",
    "\n",
    "result = unit_of_time()\n",
    "print(result)\n"
   ]
  },
  {
   "cell_type": "markdown",
   "metadata": {},
   "source": [
    "##### Exercise 26: Current Time\n",
    "Python includes a library of functions for working with time, including a function\n",
    "called asctime in the time module. It reads the current time from the computer’s internal clock and returns it in a human-readable format. Write a program\n",
    "that displays the current time and date. Your program will not require any input from\n",
    "the user."
   ]
  },
  {
   "cell_type": "code",
   "execution_count": 29,
   "metadata": {},
   "outputs": [
    {
     "data": {
      "text/plain": [
       "'Sat May 25 18:10:47 2024'"
      ]
     },
     "execution_count": 29,
     "metadata": {},
     "output_type": "execute_result"
    }
   ],
   "source": [
    "from time import asctime\n",
    "asctime()"
   ]
  },
  {
   "cell_type": "code",
   "execution_count": 32,
   "metadata": {},
   "outputs": [
    {
     "name": "stdout",
     "output_type": "stream",
     "text": [
      "25 / 18:16:39 / 2024\n"
     ]
    }
   ],
   "source": [
    "current_time = asctime().split()\n",
    "\n",
    "current_date = current_time[2]\n",
    "current_clock_time = current_time[3]\n",
    "current_year = current_time[-1]\n",
    "\n",
    "print(f'{current_date} / {current_clock_time} / {current_year}')"
   ]
  },
  {
   "cell_type": "markdown",
   "metadata": {},
   "source": [
    "##### Exercise 27: Body Mass Index\n",
    "Write a program that computes the body mass index (BMI) of an individual. Your\n",
    "program should begin by reading a height and weight from the user. Then it should use one of the following two formulas to compute the BMI before displaying it. If\n",
    "you read the height in inches and the weight in pounds then body mass index is\n",
    "computed using the following formula:\n",
    "\n",
    "BMI = (weight/(height × height)) * 703.\n",
    "\n",
    "If you read the height in meters and the weight in kilograms then body mass index\n",
    "is computed using this slightly simpler formula:\n",
    "\n",
    "BMI = weight/(height × height)"
   ]
  },
  {
   "cell_type": "code",
   "execution_count": 34,
   "metadata": {},
   "outputs": [
    {
     "name": "stdout",
     "output_type": "stream",
     "text": [
      "18.00\n"
     ]
    }
   ],
   "source": [
    "def body_mass_index():\n",
    "    height = float(input('Enter your height in meters: '))\n",
    "    weight = float(input('Enter your weight in kilograms: '))\n",
    "\n",
    "    BMI = weight/(height *height)\n",
    "    return f'{BMI:.2f}'\n",
    "\n",
    "result = body_mass_index()\n",
    "print(result)"
   ]
  },
  {
   "cell_type": "markdown",
   "metadata": {},
   "source": [
    "##### Exercise 28: Wind Chill\n",
    "When the wind blows in cold weather, the air feels even colder than it actually is\n",
    "because the movement of the air increases the rate of cooling for warm objects, like\n",
    "people. This effect is known as wind chill.\n",
    "\n",
    "In 2001, Canada, the United Kingdom and the United States adopted the following formula for computing the wind chill index. Within the formula Ta is the\n",
    "air temperature in degrees Celsius and V is the wind speed in kilometers per hour.\n",
    "A similar formula with different constant values can be used with temperatures in\n",
    "degrees Fahrenheit and wind speeds in miles per hour.\n",
    "\n",
    "WCI = 13.12 + 0.6215Ta − 11.37V^ 0.16 + 0.3965TaV ^0.16\n",
    "\n",
    "Write a program that begins by reading the air temperature and wind speed from the\n",
    "user. Once these values have been read your program should display the wind chill\n",
    "index rounded to the closest integer.\n",
    "\n",
    "The wind chill index is only considered valid for temperatures less than or\n",
    "equal to 10 degrees Celsius and wind speeds exceeding 4.8 kilometers per\n",
    "hour."
   ]
  },
  {
   "cell_type": "code",
   "execution_count": 7,
   "metadata": {},
   "outputs": [
    {
     "name": "stdout",
     "output_type": "stream",
     "text": [
      "6\n"
     ]
    }
   ],
   "source": [
    "\"\"\"\n",
    "Ta = air temperature in degrees celcius\n",
    "V = wind speed in kilometers per hour\n",
    "\"\"\"\n",
    "\n",
    "def wind_chill():\n",
    "    Ta = float(input('Enter the temperature in degrees celcius: '))\n",
    "    V = float(input('Enter the wind speed in kilometers per hour: '))\n",
    "\n",
    "    if Ta <= 10 and V > 4.8:\n",
    "        wind_chill = 13.12 + (0.6215 * Ta) - (11.37 * V**0.16) + (0.3965 *Ta * V**0.16)\n",
    "        return f'{wind_chill:.0f}'\n",
    "    else:\n",
    "        print('For wind chill to be valid the temperature should be <= 10 degrees celcius and wind speeds exceeding 4.8km/h')\n",
    "\n",
    "result = wind_chill()\n",
    "print(result)\n",
    "\n"
   ]
  },
  {
   "cell_type": "markdown",
   "metadata": {},
   "source": [
    "##### Exercise 29: Celsius to Fahrenheit and Kelvin\n",
    "Write a program that begins by reading a temperature from the user in degrees\n",
    "Celsius. Then your program should display the equivalent temperature in degrees\n",
    "Fahrenheit and degrees Kelvin. The calculations needed to convert between different\n",
    "units of temperature can be found on the internet."
   ]
  },
  {
   "cell_type": "code",
   "execution_count": 8,
   "metadata": {},
   "outputs": [
    {
     "name": "stdout",
     "output_type": "stream",
     "text": [
      "313.15 Kelvin\n",
      "72.0 fahrenheit\n"
     ]
    }
   ],
   "source": [
    "\"\"\"\n",
    "0 degrees celcious = 273.15 K\n",
    "0 degrees celcious = 32 fahrenheit\n",
    "\"\"\"\n",
    "\n",
    "def temperature_conversion():\n",
    "    temperature = float(input('Enter the temparature in degrees celcious: '))\n",
    "\n",
    "    kelvin = temperature + 273.15\n",
    "    fahrenheit = temperature + 32\n",
    "\n",
    "    return f'{kelvin} Kelvin\\n{fahrenheit} fahrenheit'\n",
    "\n",
    "result = temperature_conversion()\n",
    "print(result)"
   ]
  },
  {
   "cell_type": "markdown",
   "metadata": {},
   "source": [
    "##### Exercise 31: Sum of the Digits in an Integer\n",
    "Develop a program that reads a four-digit integer from the user and displays the sum\n",
    "of the digits in the number. For example, if the user enters 3141 then your program\n",
    "should display 3+1+4+1=9."
   ]
  },
  {
   "cell_type": "code",
   "execution_count": 19,
   "metadata": {},
   "outputs": [
    {
     "name": "stdout",
     "output_type": "stream",
     "text": [
      "9 + 1 + 2 + 7 = 19\n"
     ]
    }
   ],
   "source": [
    "def digit_sum():\n",
    "    digit = input('Enter a four digit integer: ')\n",
    "\n",
    "    num1 = int(digit[0])\n",
    "    num2 = int(digit[1])\n",
    "    num3 = int(digit[2])\n",
    "    num4 = int(digit[3])\n",
    "    total_sum = num1 + num2 + num3 + num4\n",
    "    return f'{num1} + {num2} + {num3} + {num4} = {total_sum}'\n",
    "\n",
    "result = digit_sum()\n",
    "print(result)\n"
   ]
  },
  {
   "cell_type": "markdown",
   "metadata": {},
   "source": [
    "##### Mehtod 2"
   ]
  },
  {
   "cell_type": "code",
   "execution_count": 22,
   "metadata": {},
   "outputs": [
    {
     "name": "stdout",
     "output_type": "stream",
     "text": [
      "25\n"
     ]
    }
   ],
   "source": [
    "def digit_sum():\n",
    "    digit = input('Enter a four digit integer: ')\n",
    "    number_sum = 0\n",
    "\n",
    "    for i in digit:\n",
    "        number_sum += int(i)\n",
    "    return number_sum\n",
    "\n",
    "result = digit_sum()\n",
    "print(result)\n",
    "\n",
    "    \n"
   ]
  },
  {
   "cell_type": "markdown",
   "metadata": {},
   "source": [
    "##### Method 3\n",
    "using map method and list comprehension"
   ]
  },
  {
   "cell_type": "code",
   "execution_count": 27,
   "metadata": {},
   "outputs": [
    {
     "name": "stdout",
     "output_type": "stream",
     "text": [
      "25\n"
     ]
    }
   ],
   "source": [
    "def digit_sum():\n",
    "    digit = input('Enter a four digit integer: ')\n",
    "    digit_list = [i for i in digit]\n",
    "    digit_sum = sum(list(map(int, digit_list)))\n",
    "\n",
    "    return digit_sum\n",
    "\n",
    "result = digit_sum()\n",
    "print(result)\n",
    "   "
   ]
  },
  {
   "cell_type": "markdown",
   "metadata": {},
   "source": [
    "##### Exercise 32: Sort 3 Integers\n",
    "Create a program that reads three integers from the user and displays them in sorted\n",
    "order (from smallest to largest). Use the min and max functions to find the smallest\n",
    "and largest values. The middle value can be found by computing the sum of all three\n",
    "values, and then subtracting the minimum value and the maximum value."
   ]
  },
  {
   "cell_type": "code",
   "execution_count": 35,
   "metadata": {},
   "outputs": [
    {
     "name": "stdout",
     "output_type": "stream",
     "text": [
      "[3, 5, 7]\n"
     ]
    }
   ],
   "source": [
    "def sort_intengers():\n",
    "    int1 = int(input('Enter the first intenger: '))\n",
    "    int2 = int(input('Enter the second integer: '))\n",
    "    int3 = int(input('Enter the third intenger: '))\n",
    "\n",
    "    a_list= [int1, int2, int3]\n",
    "    sorted_nums =[i for i in sorted(a_list)] \n",
    "    return sorted_nums\n",
    "    \n",
    "result = sort_intengers()\n",
    "print(result)"
   ]
  },
  {
   "cell_type": "markdown",
   "metadata": {},
   "source": [
    "##### Method 2"
   ]
  },
  {
   "cell_type": "code",
   "execution_count": 40,
   "metadata": {},
   "outputs": [
    {
     "name": "stdout",
     "output_type": "stream",
     "text": [
      "The numbers in sorted order are: 3, 5, 7\n"
     ]
    }
   ],
   "source": [
    "def sort_intengers():\n",
    "    # read three values entered by the user\n",
    "    a = int(input('Enter the first number: '))\n",
    "    b = int(input('Enter the second number: '))\n",
    "    c = int(input('Enter the third number: '))\n",
    "\n",
    "    min_number = min(a,b,c)\n",
    "    max_number = max(a,b,c)\n",
    "    mid_number = a + b + c -min_number - max_number\n",
    "\n",
    "    return f'The numbers in sorted order are: {min_number}, {mid_number}, {max_number}'\n",
    "\n",
    "result = sort_intengers()\n",
    "print(result)"
   ]
  },
  {
   "cell_type": "markdown",
   "metadata": {},
   "source": [
    "##### method 3"
   ]
  },
  {
   "cell_type": "code",
   "execution_count": 47,
   "metadata": {},
   "outputs": [
    {
     "name": "stdout",
     "output_type": "stream",
     "text": [
      "sorted integers: 3, 5, 7\n"
     ]
    }
   ],
   "source": [
    "def sort_intengers():\n",
    "    a = int(input('Enter the first number: '))\n",
    "    b = int(input('Enter the second number: '))\n",
    "    c = int(input('Enter the third number: '))\n",
    "\n",
    "    a_list = [a, b, c]\n",
    "    maximum = max(a_list)\n",
    "    minimum = min(a_list)\n",
    "    middle = sum(a_list) - sum([minimum, maximum])\n",
    "\n",
    "    return f'sorted integers: {minimum}, {middle}, {maximum}'\n",
    "\n",
    "result = sort_intengers()\n",
    "print(result)"
   ]
  },
  {
   "cell_type": "markdown",
   "metadata": {},
   "source": [
    "##### Exercise 33: Day Old Bread\n",
    "A bakery sells loaves of bread for $3.49 each. Day old bread is discounted by 60\n",
    "percent. Write a program that begins by reading the number of loaves of day old\n",
    "bread being purchased from the user. Then your program should display the regular\n",
    "price for the bread, the discount because it is a day old, and the total price. All of the values should be displayed using two decimal places, and the decimal points in all of the numbers should be aligned when reasonable values are entered by the user."
   ]
  },
  {
   "cell_type": "code",
   "execution_count": 63,
   "metadata": {},
   "outputs": [
    {
     "name": "stdout",
     "output_type": "stream",
     "text": [
      "Regular price: $17.45\n",
      "Bread discount: $10.47\n",
      "Total price: $6.98\n"
     ]
    }
   ],
   "source": [
    "\"\"\"\n",
    "New bread price = 3.49\n",
    "old bread discount = discounted by 60 % = 2.094\n",
    "old bread price = 3.49 - 2.094 = 1.396\n",
    "\"\"\"\n",
    "def day_old_bread():\n",
    "    bread_price = 3.49\n",
    "    discount_rate = 0.6\n",
    "    loaves = int(input('Enter the number of day old bread being purchased: '))\n",
    "    regular_price = loaves * bread_price\n",
    "    discount= regular_price * discount_rate\n",
    "    day_old_price = regular_price - discount\n",
    "\n",
    "    return f'Regular price: ${regular_price:.2f}\\nBread discount: ${discount:.2f}\\nTotal price: ${day_old_price:.2f}'\n",
    "\n",
    "result = day_old_bread()\n",
    "print(result)\n",
    "\n"
   ]
  }
 ],
 "metadata": {
  "kernelspec": {
   "display_name": "Python 3",
   "language": "python",
   "name": "python3"
  },
  "language_info": {
   "codemirror_mode": {
    "name": "ipython",
    "version": 3
   },
   "file_extension": ".py",
   "mimetype": "text/x-python",
   "name": "python",
   "nbconvert_exporter": "python",
   "pygments_lexer": "ipython3",
   "version": "3.12.1"
  }
 },
 "nbformat": 4,
 "nbformat_minor": 2
}
