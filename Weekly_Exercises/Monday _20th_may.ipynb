{
 "cells": [
  {
   "cell_type": "markdown",
   "metadata": {},
   "source": [
    "###### Exercise 1: Mailing Address\n",
    "- Create a program that displays your name and complete mailing address formatted in\n",
    "the manner that you would usually see it on the outside of an envelope. Your program\n",
    "does not need to read any input from the user"
   ]
  },
  {
   "cell_type": "code",
   "execution_count": 7,
   "metadata": {},
   "outputs": [
    {
     "name": "stdout",
     "output_type": "stream",
     "text": [
      "Name: Edwin Mutembei\n",
      "Address: = 1069 - 60200\n",
      "City: = Meru\n"
     ]
    }
   ],
   "source": [
    "def mailing_address():\n",
    "    name = 'Edwin Mutembei'\n",
    "    address = 1069\n",
    "    street_code = 60200\n",
    "    city = 'Meru'\n",
    "    print(f'Name: {name}\\nAddress: = {address} - {street_code}\\nCity: = {city}')\n",
    "mailing_address()"
   ]
  },
  {
   "cell_type": "markdown",
   "metadata": {},
   "source": [
    "###### Exercise 2: Hello\n",
    "- Write a program that asks the user to enter his or her name. The program should\n",
    "respond with a message that says hello to the user, using his or her name."
   ]
  },
  {
   "cell_type": "code",
   "execution_count": 8,
   "metadata": {},
   "outputs": [
    {
     "name": "stdout",
     "output_type": "stream",
     "text": [
      "hello Edwin\n"
     ]
    }
   ],
   "source": [
    "def user_input():  \n",
    "    user_prompt = input('kindly write your name: ')\n",
    "    print(f'hello {user_prompt}')\n",
    "\n",
    "user_input()\n",
    "\n"
   ]
  },
  {
   "cell_type": "markdown",
   "metadata": {},
   "source": [
    "###### Exercise 3: Area of a Room\n",
    "- Write a program that asks the user to enter the width and length of a room. Once\n",
    "the values have been read, your program should compute and display the area of the\n",
    "room. The length and the width will be entered as floating point numbers. Include\n",
    "units in your prompt and output message; either feet or meters, depending on which\n",
    "unit you are more comfortable working with"
   ]
  },
  {
   "cell_type": "code",
   "execution_count": 17,
   "metadata": {},
   "outputs": [
    {
     "name": "stdout",
     "output_type": "stream",
     "text": [
      "The area of the room is 20.0 square feet\n"
     ]
    }
   ],
   "source": [
    "def room_area():\n",
    "    width = float(input('input the width measurement of your room in feet: '))\n",
    "    length = float(input('input the length measurement of your roomin feet: '))\n",
    "     # Area = length * width\n",
    "    Area = length * width\n",
    "    return \"The area of the room is {} square feet\".format(Area)\n",
    "result = room_area()\n",
    "print(result)"
   ]
  },
  {
   "cell_type": "markdown",
   "metadata": {},
   "source": [
    "###### Exercise 4: Area of a Field\n",
    "- Create a program that reads the length and width of a farmer’s field from the user in feet. Display the area of the field in acres.\n",
    "- Hint: There are 43,560 square feet in an acre."
   ]
  },
  {
   "cell_type": "code",
   "execution_count": 19,
   "metadata": {},
   "outputs": [
    {
     "name": "stdout",
     "output_type": "stream",
     "text": [
      "length: 50.0 feet\n",
      "Width: 100.0 feet\n",
      "Area: 0.1147842056932966 acres\n"
     ]
    }
   ],
   "source": [
    "def field_area():\n",
    "    length = float(input('Enter the length of the field in feet: '))\n",
    "    width = float(input('Enter the width of the field in feet: '))\n",
    "\n",
    "    Area = (length * width)/43560\n",
    "    return f'length: {length} feet\\nWidth: {width} feet\\nArea: {Area} acres'\n",
    "\n",
    "results = field_area()\n",
    "print(results)"
   ]
  },
  {
   "cell_type": "markdown",
   "metadata": {},
   "source": [
    "###### Exercise 5: Bottle Deposits\n",
    "- In many jurisdictions a small deposit is added to drink containers to encourage people to recycle them. In one particular jurisdiction, drink containers holding one liter or less have a $0.10 deposit, and drink containers holding more than one liter have a $0.25 deposit.\n",
    "- Write a program that reads the number of containers of each size from the user.\n",
    "Your program should continue by computing and displaying the refund that will be\n",
    "received for returning those containers. Format the output so that it includes a dollar sign and always displays exactly two decimal places."
   ]
  },
  {
   "cell_type": "code",
   "execution_count": 20,
   "metadata": {},
   "outputs": [
    {
     "name": "stdout",
     "output_type": "stream",
     "text": [
      "Large_containers: 9\n",
      "Small containers: 8\n",
      "Refund: $3.05\n"
     ]
    }
   ],
   "source": [
    "def refund():\n",
    "    small_containers = int(input('Enter the total number of containers <= 1 litre: '))\n",
    "    large_containers = int(input('Enter the total number of containers above one litre'))\n",
    "\n",
    "    least_deposit = 0.10\n",
    "    large_deposit = 0.25\n",
    "\n",
    "    refund = (small_containers * least_deposit) + (large_containers * large_deposit)\n",
    "    return f'Large_containers: {large_containers}\\nSmall containers: {small_containers}\\nRefund: ${refund:.2f}'\n",
    "total_refund = refund()\n",
    "print(total_refund)\n",
    "\n"
   ]
  },
  {
   "cell_type": "markdown",
   "metadata": {},
   "source": [
    "##### Exercise 6: Tax and Tip\n",
    "- The program that you create for this exercise will begin by reading the cost of a meal ordered at a restaurant from the user. Then your program will compute the tax and tip for the meal. Use your local tax rate when computing the amount of tax owing.\n",
    "Compute the tip as 18 percent of the meal amount (without the tax). The output from\n",
    "your program should include the tax amount, the tip amount, and the grand total for\n",
    "the meal including both the tax and the tip. Format the output so that all of the values are displayed using two decimal places."
   ]
  },
  {
   "cell_type": "code",
   "execution_count": 25,
   "metadata": {},
   "outputs": [
    {
     "name": "stdout",
     "output_type": "stream",
     "text": [
      "Tax amount: $140.00\n",
      "Tip: $180.00\n",
      "Grand total for the meal: $1320.00\n"
     ]
    }
   ],
   "source": [
    "def meal_cost():\n",
    "\n",
    "    tax_rate = 0.14\n",
    "    tip_rate = 0.18\n",
    "    # Read the cost of the meal from the user\n",
    "    Cost_of_meal = float(input('Enter the total cost of the meal ordered: '))\n",
    "\n",
    "    # Compute the tax and tip\n",
    "    # tax rate = 14%\n",
    "    tax_owing = tax_rate * Cost_of_meal\n",
    "    tip = tip_rate * Cost_of_meal\n",
    "    grand_meal_total = Cost_of_meal + tip + tax_owing\n",
    "    return f'Tax amount: ${tax_owing:.2f}\\nTip: ${tip:.2f}\\nGrand total for the meal: ${grand_meal_total:.2f}'\n",
    "output = meal_cost()\n",
    "print(output)"
   ]
  },
  {
   "cell_type": "markdown",
   "metadata": {},
   "source": [
    "##### Exercise 7: Sum of the First n Positive Integers\n",
    "- Write a program that reads a positive integer, n, from the user and then displays the sum of all of the integers from 1 to n. The sum of the first n positive integers can be computed using the formula:\n",
    "sum =(n)(n + 1)/2"
   ]
  },
  {
   "cell_type": "code",
   "execution_count": 40,
   "metadata": {},
   "outputs": [
    {
     "name": "stdout",
     "output_type": "stream",
     "text": [
      "15.0\n"
     ]
    }
   ],
   "source": [
    "def positive_intenger():\n",
    "    n = int(input('Enter an intenger n: '))\n",
    "    if n > 0:\n",
    "        sum_of_positive_intengers = (n * (n+1))/2\n",
    "        return sum_of_positive_intengers\n",
    "    else:\n",
    "        print('please enter a positive number')\n",
    "    \n",
    "    \n",
    "answer = positive_intenger()\n",
    "if answer != None:\n",
    "    print(answer)"
   ]
  },
  {
   "cell_type": "markdown",
   "metadata": {},
   "source": [
    "##### Exercise 8:Widgets and Gizmos\n",
    "- An online retailer sells two products: widgets and gizmos. Each widget weighs 75\n",
    "grams. Each gizmo weighs 112 grams. Write a program that reads the number of\n",
    "widgets and the number of gizmos in an order from the user. Then your program\n",
    "should compute and display the total weight of the order."
   ]
  },
  {
   "cell_type": "code",
   "execution_count": 42,
   "metadata": {},
   "outputs": [
    {
     "name": "stdout",
     "output_type": "stream",
     "text": [
      "823 grams\n"
     ]
    }
   ],
   "source": [
    "def total_weight():\n",
    "    widgets = 75\n",
    "    gizmo = 112\n",
    "    no_of_widgets = int(input('Enter the number of widgets: '))\n",
    "    no_of_gizmo = int(input('Enter the number of gizmos'))\n",
    "\n",
    "    total_order_weight = (no_of_widgets * widgets) + (no_of_gizmo * gizmo)\n",
    "    return f'{total_order_weight} grams'\n",
    "total = total_weight()\n",
    "print(total)\n"
   ]
  },
  {
   "cell_type": "markdown",
   "metadata": {},
   "source": [
    "##### Exercise 9: Compound Interest\n",
    "- Pretend that you have just opened a new savings account that earns 4 percent interest per year. The interest that you earn is paid at the end of the year, and is added to the balance of the savings account. Write a program that begins by reading the amount of money deposited into the account from the user. Then your program should compute and display the amount in the savings account after 1, 2, and 3 years. Display each amount so that it is rounded to 2 decimal places."
   ]
  },
  {
   "cell_type": "code",
   "execution_count": 46,
   "metadata": {},
   "outputs": [
    {
     "name": "stdout",
     "output_type": "stream",
     "text": [
      "year 1: 104.00\n",
      "Year 2: 112.49\n",
      "Year 3: 126.53\n"
     ]
    }
   ],
   "source": [
    "def compound_interest():\n",
    "    p = int(input('Enter the principle: '))\n",
    "    i = 0.04\n",
    "    t = 1\n",
    "    year_1 =p * ((1 + i)**t)\n",
    "    year_2 = year_1 * ((1 + i)**2 * t)\n",
    "    year_3 = year_2 * ((1 + i)**3 * t)\n",
    "\n",
    "    return f\"year 1: {year_1:.2f}\\nYear 2: {year_2:.2f}\\nYear 3: {year_3:.2f}\"\n",
    "\n",
    "total = compound_interest()\n",
    "print(total)"
   ]
  },
  {
   "cell_type": "markdown",
   "metadata": {},
   "source": [
    "##### Exercise 10: Arithmetic\n",
    "Create a program that reads two integers, a and b, from the user. Your program shouldcompute and display:\n",
    "- The sum of a and b\n",
    "- The difference when b is subtracted from a\n",
    "- The product of a and b\n",
    "- The quotient when a is divided by b\n",
    "- The remainder when a is divided by b\n",
    "- The result of log10 a\n",
    "- The result of a^b\n",
    "\n",
    "Hint: You will probably find the log10 function in the math module helpful\n",
    "for computing the second last item in the list."
   ]
  },
  {
   "cell_type": "code",
   "execution_count": 50,
   "metadata": {},
   "outputs": [
    {
     "name": "stdout",
     "output_type": "stream",
     "text": [
      "sum: 20\n",
      "Dif: 0\n",
      "Prod: 100\n",
      "Quotient:1\n",
      "Modulus: 2\n",
      "Log : 1.00\n",
      "Exponent: 10000000000.00\n"
     ]
    }
   ],
   "source": [
    "import math\n",
    "def arithmetic():\n",
    "    a = int(input('Enter your first number'))\n",
    "    b = int(input('enter your second number: '))\n",
    "\n",
    "    sm = a + b\n",
    "    dif = a - b\n",
    "    prod = a * b\n",
    "    quotient = a // b\n",
    "    modulus = 2 % b \n",
    "    loge = math.log10(a)\n",
    "    exponent = a **b\n",
    "\n",
    "    return f\"sum: {sm}\\nDif: {dif}\\nProd: {prod}\\nQuotient:{quotient}\\nModulus: {modulus}\\nLog : {loge:.2f}\\nExponent: {exponent:.2f}\"\n",
    "result = arithmetic()\n",
    "print(result)\n"
   ]
  },
  {
   "cell_type": "markdown",
   "metadata": {},
   "source": [
    "##### Exercise 11: Fuel Efficiency\n",
    "- In the United States, fuel efficiency for vehicles is normally expressed in miles-pergallon (MPG). In Canada, fuel efficiency is normally expressed in liters-per-hundred kilometers (L/100km). Use your research skills to determine how to convert from MPG to L/100km. Then create a program that reads a value from the user in American units and displays the equivalent fuel efficiency in Canadian units."
   ]
  },
  {
   "cell_type": "code",
   "execution_count": 52,
   "metadata": {},
   "outputs": [
    {
     "name": "stdout",
     "output_type": "stream",
     "text": [
      "705.645 L/100km\n"
     ]
    }
   ],
   "source": [
    "# 1 mpg = 235.215 L/100km\n",
    "def fuel_efficiency():\n",
    "    efficiency = float(input(\"Enter your vehicle's fuel efficiency: \"))\n",
    "    converted_efficiency = efficiency * 235.215\n",
    "    return f\"{converted_efficiency} L/100km\"\n",
    "\n",
    "result = fuel_efficiency()\n",
    "print(result)"
   ]
  },
  {
   "cell_type": "markdown",
   "metadata": {},
   "source": [
    "##### Exercise 12: Distance Between Two Points on Earth\n",
    "The surface of the Earth is curved, and the distance between degrees of longitude\n",
    "varies with latitude. As a result, finding the distance between two points on the surface of the Earth is more complicated than simply using the Pythagorean theorem.\n",
    "Let (t1, g1) and (t2, g2) be the latitude and longitude of two points on the Earth’s\n",
    "surface. The distance between these points, following the surface of the Earth, in\n",
    "kilometers is: \n",
    "\n",
    "distance = 6371.01 × arccos(sin(t1) × sin(t2) + cos(t1) × cos(t2) × cos(g1 − g2))\n",
    "\n",
    "The value 6371.01 in the previous equation wasn’t selected at random. It is\n",
    "the average radius of the Earth in kilometers.\n",
    "\n",
    "Create a program that allows the user to enter the latitude and longitude of two\n",
    "points on the Earth in degrees. Your program should display the distance between\n",
    "the points, following the surface of the earth, in kilometers.\n",
    "\n",
    "Hint: Python’s trigonometric functions operate in radians. As a result, you will\n",
    "need to convert the user’s input from degrees to radians before computing the\n",
    "distance with the formula discussed previously. The math module contains a\n",
    "function named radians which converts from degrees to radians.\n"
   ]
  },
  {
   "cell_type": "code",
   "execution_count": 55,
   "metadata": {},
   "outputs": [
    {
     "ename": "AttributeError",
     "evalue": "module 'math' has no attribute 'arccos'",
     "output_type": "error",
     "traceback": [
      "\u001b[1;31m---------------------------------------------------------------------------\u001b[0m",
      "\u001b[1;31mAttributeError\u001b[0m                            Traceback (most recent call last)",
      "Cell \u001b[1;32mIn[55], line 17\u001b[0m\n\u001b[0;32m     15\u001b[0m     distance \u001b[38;5;241m=\u001b[39m \u001b[38;5;241m6371.01\u001b[39m \u001b[38;5;241m*\u001b[39m math\u001b[38;5;241m.\u001b[39marccos(math\u001b[38;5;241m.\u001b[39msin(latitude1_converted) \u001b[38;5;241m*\u001b[39m math\u001b[38;5;241m.\u001b[39msin(latitude2_converted) \u001b[38;5;241m+\u001b[39m math\u001b[38;5;241m.\u001b[39mcos(latitude1_converted) \u001b[38;5;241m*\u001b[39m math\u001b[38;5;241m.\u001b[39mcos(longtude1_converted \u001b[38;5;241m-\u001b[39m longtude2_converted))\n\u001b[0;32m     16\u001b[0m     \u001b[38;5;28;01mreturn\u001b[39;00m distance\n\u001b[1;32m---> 17\u001b[0m calculated_distance \u001b[38;5;241m=\u001b[39m \u001b[43mearth_distance\u001b[49m\u001b[43m(\u001b[49m\u001b[43m)\u001b[49m\n\u001b[0;32m     18\u001b[0m \u001b[38;5;28mprint\u001b[39m(calculated_distance)\n",
      "Cell \u001b[1;32mIn[55], line 15\u001b[0m, in \u001b[0;36mearth_distance\u001b[1;34m()\u001b[0m\n\u001b[0;32m     12\u001b[0m latitude2_converted \u001b[38;5;241m=\u001b[39m math\u001b[38;5;241m.\u001b[39mradians(latitude2)\n\u001b[0;32m     13\u001b[0m longtude2_converted \u001b[38;5;241m=\u001b[39m math\u001b[38;5;241m.\u001b[39mradians(longtude2)\n\u001b[1;32m---> 15\u001b[0m distance \u001b[38;5;241m=\u001b[39m \u001b[38;5;241m6371.01\u001b[39m \u001b[38;5;241m*\u001b[39m \u001b[43mmath\u001b[49m\u001b[38;5;241;43m.\u001b[39;49m\u001b[43marccos\u001b[49m(math\u001b[38;5;241m.\u001b[39msin(latitude1_converted) \u001b[38;5;241m*\u001b[39m math\u001b[38;5;241m.\u001b[39msin(latitude2_converted) \u001b[38;5;241m+\u001b[39m math\u001b[38;5;241m.\u001b[39mcos(latitude1_converted) \u001b[38;5;241m*\u001b[39m math\u001b[38;5;241m.\u001b[39mcos(longtude1_converted \u001b[38;5;241m-\u001b[39m longtude2_converted))\n\u001b[0;32m     16\u001b[0m \u001b[38;5;28;01mreturn\u001b[39;00m distance\n",
      "\u001b[1;31mAttributeError\u001b[0m: module 'math' has no attribute 'arccos'"
     ]
    }
   ],
   "source": [
    "# distance = 6371.01 × arccos(sin(t1) × sin(t2) + cos(t1) × cos(t2) × cos(g1 − g2))\n",
    "import math\n",
    "def earth_distance():\n",
    "    latitude1= float(input('Enter the latitude of the first point: '))\n",
    "    longtude1 = float(input('Enter the longtude of the first point: '))\n",
    "    latitude2 = float(input('Enter the latitude of the second point: '))\n",
    "    longtude2 = float(input('Enter the longtude of the second point: '))\n",
    "\n",
    "\n",
    "    latitude1_converted = math.radians(latitude1)\n",
    "    longtude1_converted = math.radians(longtude1)\n",
    "    latitude2_converted = math.radians(latitude2)\n",
    "    longtude2_converted = math.radians(longtude2)\n",
    "\n",
    "    distance = 6371.01 * math.arccos(math.sin(latitude1_converted) * math.sin(latitude2_converted) + math.cos(latitude1_converted) * math.cos(longtude1_converted - longtude2_converted))\n",
    "    return distance\n",
    "calculated_distance = earth_distance()\n",
    "print(calculated_distance)\n"
   ]
  },
  {
   "cell_type": "markdown",
   "metadata": {},
   "source": [
    "##### Exercise 13: Making Change\n",
    "Consider the software that runs on a self-checkout machine. One task that it must be\n",
    "able to perform is to determine how much change to provide when the shopper pays\n",
    "for a purchase with cash. \n",
    "\n",
    "Write a program that begins by reading a number of cents from the user as an\n",
    "integer. Then your program should compute and display the denominations of the\n",
    "coins that should be used to give that amount of change to the shopper. The change\n",
    "should be given using as few coins as possible. Assume that the machine is loaded\n",
    "with pennies, nickels, dimes, quarters, loonies and toonies.\n",
    "\n",
    " A one dollar coin was introduced in Canada in 1987. It is referred to as a loonie because one side of the coin has a loon (a type of bird) on it. The two dollar coin, referred to as a toonie, was introduced 9 years later. It’s name is derived from the combination of the number two and the name of the loonie."
   ]
  },
  {
   "cell_type": "code",
   "execution_count": 57,
   "metadata": {},
   "outputs": [
    {
     "name": "stdout",
     "output_type": "stream",
     "text": [
      " 1 toonies\n",
      " 0 loonies\n",
      " 2 quarters\n",
      " 0 dimes\n",
      " 2 nickels\n",
      " 0 pennies\n"
     ]
    }
   ],
   "source": [
    "# denominations\n",
    "\n",
    "cents_per_toonie = 200\n",
    "cents_per_loonie = 100\n",
    "cents_per_quarter = 25\n",
    "cents_per_dime = 10\n",
    "cents_per_nickel = 5\n",
    "# cents_per_pennies =\n",
    "\n",
    "cents = int(input('Enter the change amount: '))\n",
    "\n",
    "\"\"\"\n",
    " Determine the number of toonies by performing an intenger division by 200. Then compute the\n",
    " amount of cgange that still needs to be considered by computing the reminder after deviding by 200\n",
    "\"\"\"\n",
    "print(\"\", cents// cents_per_toonie, \"toonies\")\n",
    "cents  %=  cents_per_toonie # it calculate the modulus or the remaining cents and stores it in the variable cents\n",
    "\n",
    "print(\"\", cents// cents_per_loonie, \"loonies\")\n",
    "cents %= cents_per_loonie\n",
    "\n",
    "print(\"\", cents// cents_per_quarter, \"quarters\")\n",
    "cents = cents % cents_per_quarter # the same as the previous two\n",
    "\n",
    "print(\"\", cents// cents_per_dime, \"dimes\")\n",
    "cents = cents_per_dime\n",
    "\n",
    "print(\"\", cents// cents_per_nickel, \"nickels\")\n",
    "cents = cents % cents_per_nickel\n",
    "\n",
    "# Display the number of pennies\n",
    "print(\"\", cents, \"pennies\")\n",
    "\n",
    "\n"
   ]
  },
  {
   "cell_type": "markdown",
   "metadata": {},
   "source": [
    "##### method 2\n",
    "using functions"
   ]
  },
  {
   "cell_type": "code",
   "execution_count": 59,
   "metadata": {},
   "outputs": [
    {
     "name": "stdout",
     "output_type": "stream",
     "text": [
      "Number of coins\n",
      "Toonie: 1\n",
      "Loonie: 0\n",
      "Quarter: 2\n",
      "Dime: 0\n",
      "Nickel: 0\n",
      "Penny: 0\n"
     ]
    }
   ],
   "source": [
    "# 1 dollar = 100cents\n",
    "\n",
    "# penny = 1 cent nickel = 5 cent dime = 10 cents quarter = 25 cents loonie = 1 dollar toonie = 2 dollars\n",
    "\n",
    "# The user enters number of cents We are supposed to give the user change using as minimal number of coins as possible\n",
    "\n",
    "def make_change():\n",
    "    # prompt the user for input of cents\n",
    "    number_of_cents = int(input(\"Enter number of cents: \"))\n",
    "    toonie, loonie, quarter, dime, nickel, penny = 0,0,0,0,0,0\n",
    "    \n",
    "    # use if else statement\n",
    "    if number_of_cents >= 200:\n",
    "        toonie += number_of_cents // 200\n",
    "        number_of_cents %= 200\n",
    "        \n",
    "    if number_of_cents >= 100:\n",
    "        loonie += number_of_cents // 100\n",
    "        number_of_cents %= 100\n",
    "        \n",
    "    if number_of_cents >= 25:\n",
    "        quarter += number_of_cents // 25\n",
    "        number_of_cents %= 25\n",
    "        \n",
    "    if number_of_cents >= 10:\n",
    "        dime += number_of_cents // 10\n",
    "        number_of_cents %= 10\n",
    "        \n",
    "    if number_of_cents >= 5:\n",
    "        nickel += number_of_cents // 5\n",
    "        number_of_cents %= 5\n",
    "        \n",
    "    if 0 < number_of_cents < 5:\n",
    "        penny = number_of_cents\n",
    "    \n",
    "    result = \"Number of coins\\nToonie: {}\\nLoonie: {}\\nQuarter: {}\\nDime: {}\\nNickel: {}\\nPenny: {}\".format(toonie, loonie, quarter, dime, nickel, penny)\n",
    "    \n",
    "    return result\n",
    "\n",
    "print(make_change())"
   ]
  },
  {
   "cell_type": "markdown",
   "metadata": {},
   "source": [
    "##### Exercise 14: Height Unit\n",
    "Many people think about their height in feet and inches, even in some countries that\n",
    "primarily use the metric system. Write a program that reads a number of feet from\n",
    "the user, followed by a number of inches. Once these values are read, your program\n",
    "should compute and display the equivalent number of centimeters.\n",
    "\n",
    "Hint: One foot is 12 inches. One inch is 2.54 centimeters."
   ]
  },
  {
   "cell_type": "code",
   "execution_count": 62,
   "metadata": {},
   "outputs": [
    {
     "name": "stdout",
     "output_type": "stream",
     "text": [
      "Total height: 208.28 centimeters\n"
     ]
    }
   ],
   "source": [
    "def height_unit():\n",
    "    feet = int(input('Enter your height in feet: '))\n",
    "    inches = int(input('Enter the inches above the feet: '))\n",
    "\n",
    "    # feet_conversion = feet * 30.48\n",
    "    # inch_conversion = inches * 2.54\n",
    "\n",
    "    feet_conversion = feet * 12 * 2.54\n",
    "    inch_conversion = inches * 2.54\n",
    "\n",
    "    total_height = feet_conversion + inch_conversion\n",
    "    return f'Total height: {total_height} centimeters'\n",
    "\n",
    "result = height_unit()\n",
    "print(result)"
   ]
  },
  {
   "cell_type": "markdown",
   "metadata": {},
   "source": [
    "##### Exercise 15: Distance Units\n",
    "In this exercise, you will create a program that begins by reading a measurement\n",
    "in feet from the user. Then your program should display the equivalent distance in\n",
    "inches, yards and miles. Use the Internet to look up the necessary conversion factors\n",
    "if you don’t have them memorized."
   ]
  },
  {
   "cell_type": "code",
   "execution_count": 65,
   "metadata": {},
   "outputs": [
    {
     "name": "stdout",
     "output_type": "stream",
     "text": [
      "Height: 0.0189 miles\n",
      "Height: 1200.0000 inches\n",
      "Height: 33.3333 yards\n"
     ]
    }
   ],
   "source": [
    "# 1 foot = 0.000189394 miles\n",
    "# 1 foot = 12 inches\n",
    "# 3 feet = 1 yard\n",
    "def distance_units():\n",
    "    feet = float(input('Enter your height in feet: '))\n",
    "    \n",
    "    height_in_miles = feet * 0.000189394\n",
    "    height_in_inches = feet * 12\n",
    "    height_in_yards = feet/3\n",
    "\n",
    "    return f'Height: {height_in_miles:.4f} miles\\nHeight: {height_in_inches:.4f} inches\\nHeight: {height_in_yards:.4f} yards'\n",
    "result = distance_units()\n",
    "print(result)"
   ]
  },
  {
   "cell_type": "markdown",
   "metadata": {},
   "source": [
    "##### Exercise 16: Area and Volume\n",
    "Write a program that begins by reading a radius, r, from the user. The program will\n",
    "continue by computing and displaying the area of a circle with radius r and the\n",
    "volume of a sphere with radius r. Use the pi constant in the math module in your\n",
    "calculations.\n",
    "\n",
    "Hint: The area of a circle is computed using the formula area = πr2. The\n",
    "volume of a sphere is computed using the formula volume = 43πr3."
   ]
  },
  {
   "cell_type": "code",
   "execution_count": 67,
   "metadata": {},
   "outputs": [
    {
     "name": "stdout",
     "output_type": "stream",
     "text": [
      "Area: 153.94\n",
      "Volume: 12930.80\n"
     ]
    }
   ],
   "source": [
    "import math\n",
    "def area_and_volume():\n",
    "    r =float(input('Enter the radius: '))\n",
    "\n",
    "    area = math.pi * r**2\n",
    "    volume = 4 * 3 * math.pi * r**3\n",
    "\n",
    "    return  f'Area: {area:.2f}\\nVolume: {volume:.2f}'\n",
    "\n",
    "result = area_and_volume()\n",
    "print(result)"
   ]
  },
  {
   "cell_type": "markdown",
   "metadata": {},
   "source": [
    "##### Exercise 17: Heat Capacity\n",
    "The amount of energy required to increase the temperature of one gram of a material\n",
    "by one degree Celsius is the material’s specific heat capacity, C. The total amount\n",
    "of energy required to raise m grams of a material by ∆T degrees Celsius can be\n",
    "computed using the formula:\n",
    "\n",
    "- q = mC∆T.\n",
    "\n",
    "Write a program that reads the mass of some water and the temperature change\n",
    "from the user. Your program should display the total amount of energy that must be\n",
    "added or removed to achieve the desired temperature change.\n",
    "\n",
    "Hint: The specific heat capacity of water is 4.186 J /g◦C. Because water has a density of 1.0 gram per millilitre, you can use grams and millilitres interchangeably\n",
    "in this exercise.\n",
    "\n",
    "Extend your program so that it also computes the cost of heating the water. Electricity is normally billed using units of kilowatt hours rather than Joules. In this exercise, you should assume that electricity costs 8.9 cents per kilowatt-hour. Useyour program to compute the cost of boiling  water for a cup of coffee.\n",
    "\n",
    "Hint: You will need to look up the factor for converting between Joules and\n",
    "kilowatt hours to complete the last part of this exercise."
   ]
  },
  {
   "cell_type": "code",
   "execution_count": 70,
   "metadata": {},
   "outputs": [
    {
     "name": "stdout",
     "output_type": "stream",
     "text": [
      "Energy amount: 418600.00j\n",
      "Cost of heating the water: $1.03\n"
     ]
    }
   ],
   "source": [
    "def heat_capacity():\n",
    "    m = float(input('Enter the mass of water: '))\n",
    "    change_in_temparature = float(input('Enter the change in temperature: '))\n",
    "    # 1kw = 3,600,000 j\n",
    "    specific_heat_capacity = 4.186\n",
    "    electricity_costs = 8.9\n",
    "\n",
    "    total_energy = m * specific_heat_capacity *change_in_temparature\n",
    "    temp_in_kilowat_hour = total_energy/3600000\n",
    "\n",
    "    cost_of_heating_water = temp_in_kilowat_hour * electricity_costs\n",
    "\n",
    "    return f\"Energy amount: {total_energy:.2f}j\\nCost of heating the water: ${cost_of_heating_water:.2f}\"\n",
    "result = heat_capacity()\n",
    "print(result)\n",
    "    "
   ]
  },
  {
   "cell_type": "markdown",
   "metadata": {},
   "source": [
    "##### Exercise 18: Volume of a Cylinder\n",
    "The volume of a cylinder can be computed by multiplying the area of its circular\n",
    "base by its height. Write a program that reads the radius of the cylinder, along with\n",
    "its height, from the user and computes its volume. Display the result rounded to one\n",
    "decimal place."
   ]
  },
  {
   "cell_type": "code",
   "execution_count": null,
   "metadata": {},
   "outputs": [],
   "source": [
    "# volume of a cylinder is equal to base area * height\n",
    "import math\n",
    "\n",
    "def volume_of_cylinder():\n",
    "    radius = float(input('Enter the radius of the cylinder: '))\n",
    "    height = float(input('Enter the height of the cylinder: '))\n",
    "\n",
    "    "
   ]
  }
 ],
 "metadata": {
  "kernelspec": {
   "display_name": "Python 3",
   "language": "python",
   "name": "python3"
  },
  "language_info": {
   "codemirror_mode": {
    "name": "ipython",
    "version": 3
   },
   "file_extension": ".py",
   "mimetype": "text/x-python",
   "name": "python",
   "nbconvert_exporter": "python",
   "pygments_lexer": "ipython3",
   "version": "3.12.1"
  }
 },
 "nbformat": 4,
 "nbformat_minor": 2
}
