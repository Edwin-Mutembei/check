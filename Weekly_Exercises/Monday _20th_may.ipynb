{
 "cells": [
  {
   "cell_type": "markdown",
   "metadata": {},
   "source": [
    "###### Exercise 1: Mailing Address\n",
    "- Create a program that displays your name and complete mailing address formatted in\n",
    "the manner that you would usually see it on the outside of an envelope. Your program\n",
    "does not need to read any input from the user"
   ]
  },
  {
   "cell_type": "code",
   "execution_count": 7,
   "metadata": {},
   "outputs": [
    {
     "name": "stdout",
     "output_type": "stream",
     "text": [
      "Name: Edwin Mutembei\n",
      "Address: = 1069 - 60200\n",
      "City: = Meru\n"
     ]
    }
   ],
   "source": [
    "def mailing_address():\n",
    "    name = 'Edwin Mutembei'\n",
    "    address = 1069\n",
    "    street_code = 60200\n",
    "    city = 'Meru'\n",
    "    print(f'Name: {name}\\nAddress: = {address} - {street_code}\\nCity: = {city}')\n",
    "mailing_address()"
   ]
  },
  {
   "cell_type": "markdown",
   "metadata": {},
   "source": [
    "###### Exercise 2: Hello\n",
    "- Write a program that asks the user to enter his or her name. The program should\n",
    "respond with a message that says hello to the user, using his or her name."
   ]
  },
  {
   "cell_type": "code",
   "execution_count": 8,
   "metadata": {},
   "outputs": [
    {
     "name": "stdout",
     "output_type": "stream",
     "text": [
      "hello Edwin\n"
     ]
    }
   ],
   "source": [
    "def user_input():  \n",
    "    user_prompt = input('kindly write your name: ')\n",
    "    print(f'hello {user_prompt}')\n",
    "\n",
    "user_input()\n",
    "\n"
   ]
  },
  {
   "cell_type": "markdown",
   "metadata": {},
   "source": [
    "###### Exercise 3: Area of a Room\n",
    "- Write a program that asks the user to enter the width and length of a room. Once\n",
    "the values have been read, your program should compute and display the area of the\n",
    "room. The length and the width will be entered as floating point numbers. Include\n",
    "units in your prompt and output message; either feet or meters, depending on which\n",
    "unit you are more comfortable working with"
   ]
  },
  {
   "cell_type": "code",
   "execution_count": 17,
   "metadata": {},
   "outputs": [
    {
     "name": "stdout",
     "output_type": "stream",
     "text": [
      "The area of the room is 20.0 square feet\n"
     ]
    }
   ],
   "source": [
    "def room_area():\n",
    "    width = float(input('input the width measurement of your room in feet: '))\n",
    "    length = float(input('input the length measurement of your roomin feet: '))\n",
    "     # Area = length * width\n",
    "    Area = length * width\n",
    "    return \"The area of the room is {} square feet\".format(Area)\n",
    "result = room_area()\n",
    "print(result)"
   ]
  },
  {
   "cell_type": "markdown",
   "metadata": {},
   "source": [
    "###### Exercise 4: Area of a Field\n",
    "- Create a program that reads the length and width of a farmer’s field from the user in feet. Display the area of the field in acres.\n",
    "- Hint: There are 43,560 square feet in an acre."
   ]
  },
  {
   "cell_type": "code",
   "execution_count": 19,
   "metadata": {},
   "outputs": [
    {
     "name": "stdout",
     "output_type": "stream",
     "text": [
      "length: 50.0 feet\n",
      "Width: 100.0 feet\n",
      "Area: 0.1147842056932966 acres\n"
     ]
    }
   ],
   "source": [
    "def field_area():\n",
    "    length = float(input('Enter the length of the field in feet: '))\n",
    "    width = float(input('Enter the width of the field in feet: '))\n",
    "\n",
    "    Area = (length * width)/43560\n",
    "    return f'length: {length} feet\\nWidth: {width} feet\\nArea: {Area} acres'\n",
    "\n",
    "results = field_area()\n",
    "print(results)"
   ]
  },
  {
   "cell_type": "markdown",
   "metadata": {},
   "source": [
    "###### Exercise 5: Bottle Deposits\n",
    "- In many jurisdictions a small deposit is added to drink containers to encourage people to recycle them. In one particular jurisdiction, drink containers holding one liter or less have a $0.10 deposit, and drink containers holding more than one liter have a $0.25 deposit.\n",
    "- Write a program that reads the number of containers of each size from the user.\n",
    "Your program should continue by computing and displaying the refund that will be\n",
    "received for returning those containers. Format the output so that it includes a dollar sign and always displays exactly two decimal places."
   ]
  },
  {
   "cell_type": "code",
   "execution_count": 20,
   "metadata": {},
   "outputs": [
    {
     "name": "stdout",
     "output_type": "stream",
     "text": [
      "Large_containers: 9\n",
      "Small containers: 8\n",
      "Refund: $3.05\n"
     ]
    }
   ],
   "source": [
    "def refund():\n",
    "    small_containers = int(input('Enter the total number of containers <= 1 litre: '))\n",
    "    large_containers = int(input('Enter the total number of containers above one litre'))\n",
    "\n",
    "    least_deposit = 0.10\n",
    "    large_deposit = 0.25\n",
    "\n",
    "    refund = (small_containers * least_deposit) + (large_containers * large_deposit)\n",
    "    return f'Large_containers: {large_containers}\\nSmall containers: {small_containers}\\nRefund: ${refund:.2f}'\n",
    "total_refund = refund()\n",
    "print(total_refund)\n",
    "\n"
   ]
  },
  {
   "cell_type": "markdown",
   "metadata": {},
   "source": [
    "##### Exercise 6: Tax and Tip\n",
    "- The program that you create for this exercise will begin by reading the cost of a meal ordered at a restaurant from the user. Then your program will compute the tax and tip for the meal. Use your local tax rate when computing the amount of tax owing.\n",
    "Compute the tip as 18 percent of the meal amount (without the tax). The output from\n",
    "your program should include the tax amount, the tip amount, and the grand total for\n",
    "the meal including both the tax and the tip. Format the output so that all of the values are displayed using two decimal places."
   ]
  },
  {
   "cell_type": "code",
   "execution_count": 25,
   "metadata": {},
   "outputs": [
    {
     "name": "stdout",
     "output_type": "stream",
     "text": [
      "Tax amount: $140.00\n",
      "Tip: $180.00\n",
      "Grand total for the meal: $1320.00\n"
     ]
    }
   ],
   "source": [
    "def meal_cost():\n",
    "\n",
    "    tax_rate = 0.14\n",
    "    tip_rate = 0.18\n",
    "    # Read the cost of the meal from the user\n",
    "    Cost_of_meal = float(input('Enter the total cost of the meal ordered: '))\n",
    "\n",
    "    # Compute the tax and tip\n",
    "    # tax rate = 14%\n",
    "    tax_owing = tax_rate * Cost_of_meal\n",
    "    tip = tip_rate * Cost_of_meal\n",
    "    grand_meal_total = Cost_of_meal + tip + tax_owing\n",
    "    return f'Tax amount: ${tax_owing:.2f}\\nTip: ${tip:.2f}\\nGrand total for the meal: ${grand_meal_total:.2f}'\n",
    "output = meal_cost()\n",
    "print(output)"
   ]
  },
  {
   "cell_type": "markdown",
   "metadata": {},
   "source": [
    "##### Exercise 7: Sum of the First n Positive Integers\n",
    "- Write a program that reads a positive integer, n, from the user and then displays the sum of all of the integers from 1 to n. The sum of the first n positive integers can be computed using the formula:\n",
    "sum =(n)(n + 1)/2"
   ]
  },
  {
   "cell_type": "code",
   "execution_count": 40,
   "metadata": {},
   "outputs": [
    {
     "name": "stdout",
     "output_type": "stream",
     "text": [
      "15.0\n"
     ]
    }
   ],
   "source": [
    "def positive_intenger():\n",
    "    n = int(input('Enter an intenger n: '))\n",
    "    if n > 0:\n",
    "        sum_of_positive_intengers = (n * (n+1))/2\n",
    "        return sum_of_positive_intengers\n",
    "    else:\n",
    "        print('please enter a positive number')\n",
    "    \n",
    "    \n",
    "answer = positive_intenger()\n",
    "if answer != None:\n",
    "    print(answer)"
   ]
  },
  {
   "cell_type": "markdown",
   "metadata": {},
   "source": [
    "##### Exercise 8:Widgets and Gizmos\n",
    "- An online retailer sells two products: widgets and gizmos. Each widget weighs 75\n",
    "grams. Each gizmo weighs 112 grams. Write a program that reads the number of\n",
    "widgets and the number of gizmos in an order from the user. Then your program\n",
    "should compute and display the total weight of the order."
   ]
  },
  {
   "cell_type": "code",
   "execution_count": 42,
   "metadata": {},
   "outputs": [
    {
     "name": "stdout",
     "output_type": "stream",
     "text": [
      "823 grams\n"
     ]
    }
   ],
   "source": [
    "def total_weight():\n",
    "    widgets = 75\n",
    "    gizmo = 112\n",
    "    no_of_widgets = int(input('Enter the number of widgets: '))\n",
    "    no_of_gizmo = int(input('Enter the number of gizmos'))\n",
    "\n",
    "    total_order_weight = (no_of_widgets * widgets) + (no_of_gizmo * gizmo)\n",
    "    return f'{total_order_weight} grams'\n",
    "total = total_weight()\n",
    "print(total)\n"
   ]
  },
  {
   "cell_type": "markdown",
   "metadata": {},
   "source": [
    "##### Exercise 9: Compound Interest\n",
    "- Pretend that you have just opened a new savings account that earns 4 percent interest per year. The interest that you earn is paid at the end of the year, and is added to the balance of the savings account. Write a program that begins by reading the amount of money deposited into the account from the user. Then your program should compute and display the amount in the savings account after 1, 2, and 3 years. Display each amount so that it is rounded to 2 decimal places."
   ]
  },
  {
   "cell_type": "code",
   "execution_count": 46,
   "metadata": {},
   "outputs": [
    {
     "name": "stdout",
     "output_type": "stream",
     "text": [
      "year 1: 104.00\n",
      "Year 2: 112.49\n",
      "Year 3: 126.53\n"
     ]
    }
   ],
   "source": [
    "def compound_interest():\n",
    "    p = int(input('Enter the principle: '))\n",
    "    i = 0.04\n",
    "    t = 1\n",
    "    year_1 =p * ((1 + i)**t)\n",
    "    year_2 = year_1 * ((1 + i)**2 * t)\n",
    "    year_3 = year_2 * ((1 + i)**3 * t)\n",
    "\n",
    "    return f\"year 1: {year_1:.2f}\\nYear 2: {year_2:.2f}\\nYear 3: {year_3:.2f}\"\n",
    "\n",
    "total = compound_interest()\n",
    "print(total)"
   ]
  },
  {
   "cell_type": "markdown",
   "metadata": {},
   "source": [
    "##### Exercise 10: Arithmetic\n",
    "Create a program that reads two integers, a and b, from the user. Your program shouldcompute and display:\n",
    "- The sum of a and b\n",
    "- The difference when b is subtracted from a\n",
    "- The product of a and b\n",
    "- The quotient when a is divided by b\n",
    "- The remainder when a is divided by b\n",
    "- The result of log10 a\n",
    "- The result of a^b\n",
    "\n",
    "Hint: You will probably find the log10 function in the math module helpful\n",
    "for computing the second last item in the list."
   ]
  },
  {
   "cell_type": "code",
   "execution_count": 50,
   "metadata": {},
   "outputs": [
    {
     "name": "stdout",
     "output_type": "stream",
     "text": [
      "sum: 20\n",
      "Dif: 0\n",
      "Prod: 100\n",
      "Quotient:1\n",
      "Modulus: 2\n",
      "Log : 1.00\n",
      "Exponent: 10000000000.00\n"
     ]
    }
   ],
   "source": [
    "import math\n",
    "def arithmetic():\n",
    "    a = int(input('Enter your first number'))\n",
    "    b = int(input('enter your second number: '))\n",
    "\n",
    "    sm = a + b\n",
    "    dif = a - b\n",
    "    prod = a * b\n",
    "    quotient = a // b\n",
    "    modulus = 2 % b \n",
    "    loge = math.log10(a)\n",
    "    exponent = a **b\n",
    "\n",
    "    return f\"sum: {sm}\\nDif: {dif}\\nProd: {prod}\\nQuotient:{quotient}\\nModulus: {modulus}\\nLog : {loge:.2f}\\nExponent: {exponent:.2f}\"\n",
    "result = arithmetic()\n",
    "print(result)\n"
   ]
  }
 ],
 "metadata": {
  "kernelspec": {
   "display_name": "Python 3",
   "language": "python",
   "name": "python3"
  },
  "language_info": {
   "codemirror_mode": {
    "name": "ipython",
    "version": 3
   },
   "file_extension": ".py",
   "mimetype": "text/x-python",
   "name": "python",
   "nbconvert_exporter": "python",
   "pygments_lexer": "ipython3",
   "version": "3.12.1"
  }
 },
 "nbformat": 4,
 "nbformat_minor": 2
}
