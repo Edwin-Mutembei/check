{
 "cells": [
  {
   "cell_type": "markdown",
   "metadata": {},
   "source": [
    "##### Exercise 34: Even or Odd?\n",
    "Write a program that reads an integer from the user. Then your program should\n",
    "display a message indicating whether the integer is even or odd."
   ]
  },
  {
   "cell_type": "code",
   "execution_count": 9,
   "metadata": {},
   "outputs": [
    {
     "name": "stdout",
     "output_type": "stream",
     "text": [
      "6 is even\n"
     ]
    }
   ],
   "source": [
    "def number_check():\n",
    "    number = int(input('Enter an intenger: '))\n",
    "\n",
    "    if number % 2 == 0:\n",
    "        print(number, 'is even')\n",
    "\n",
    "    else:\n",
    "        print(number, 'is odd')\n",
    "    \n",
    "result = number_check()\n"
   ]
  },
  {
   "cell_type": "markdown",
   "metadata": {},
   "source": [
    "##### Exercise 35: Dog Years\n",
    "It is commonly said that one human year is equivalent to 7 dog years. However this\n",
    "simple conversion fails to recognize that dogs reach adulthood in approximately two\n",
    "years. As a result, some people believe that it is better to count each of the first two human years as 10.5 dog years, and then count each additional human year as 4 dog\n",
    "years.\n",
    "\n",
    "Write a program that implements the conversion from human years to dog years\n",
    "described in the previous paragraph. Ensure that your program works correctly for\n",
    "conversions of less than two human years and for conversions of two or more human\n",
    "years. Your program should display an appropriate error message if the user enters\n",
    "a negative number."
   ]
  },
  {
   "cell_type": "code",
   "execution_count": 53,
   "metadata": {},
   "outputs": [
    {
     "name": "stdout",
     "output_type": "stream",
     "text": [
      "Human years: 5.0\n",
      "Dog years: 33.0\n"
     ]
    }
   ],
   "source": [
    "\"\"\"\n",
    "1 human year = 7 dog years\n",
    "limitation: dog reach adulthood in approximately 2 years\n",
    "1st 2 human years = 10.5 dog years then,\n",
    "each additional human year = 4 dog years\n",
    "\"\"\"\n",
    "def year_conversion():\n",
    "    human_years = float(input('Enter human years: '))\n",
    "    if human_years <= 0:\n",
    "        return f'Age should be greator than 0'\n",
    "\n",
    "    elif human_years <= 2:\n",
    "        dog_years = human_years * 10.5\n",
    "\n",
    "    else:\n",
    "        dog_years = (2 * 10.5) + ((human_years - 2) * 4)\n",
    "\n",
    "    return f'Human years: {human_years}\\nDog years: {dog_years}'\n",
    "\n",
    "result = year_conversion()\n",
    "print(result)\n",
    "\n",
    "\n"
   ]
  },
  {
   "cell_type": "markdown",
   "metadata": {},
   "source": [
    "##### Exercise 36: Vowel or Consonant\n",
    "In this exercise you will create a program that reads a letter of the alphabet from the user. If the user enters a, e, i, o or u then your program should display a message indicating that the entered letter is a vowel. If the user enters y then your program should display a message indicating that sometimes y is a vowel, and sometimes y is a consonant. Otherwise your program should display a message indicating that the letter is a consonant."
   ]
  },
  {
   "cell_type": "code",
   "execution_count": 65,
   "metadata": {},
   "outputs": [
    {
     "name": "stdout",
     "output_type": "stream",
     "text": [
      "The letter is a consonant\n"
     ]
    }
   ],
   "source": [
    "def alphabet_differentiation():\n",
    "    alphabet = input('Enter an alphabet: ')\n",
    "    vowels =['a', 'e','i','o','u']\n",
    "    if alphabet in vowels:\n",
    "        print('The entered letter is a vowel!')\n",
    "\n",
    "    elif alphabet == 'y':\n",
    "        print('sometimes y is a vowel and sometimes y is a consonant')\n",
    "\n",
    "    else:\n",
    "        print('The letter is a consonant')\n",
    "\n",
    "alphabet_differentiation()\n"
   ]
  },
  {
   "cell_type": "markdown",
   "metadata": {},
   "source": [
    "##### Method 2"
   ]
  },
  {
   "cell_type": "code",
   "execution_count": 70,
   "metadata": {},
   "outputs": [
    {
     "name": "stdout",
     "output_type": "stream",
     "text": [
      "The letter is a vowel\n"
     ]
    }
   ],
   "source": [
    "def alphabet_differentiation():\n",
    "    # Read a letter from the user\n",
    "    letter = input('Enter a letter of the alphabet: ')\n",
    "\n",
    "    # classify the letter and report the result\n",
    "    if letter == 'a' or letter == 'e' or \\\n",
    "    letter == 'i' or letter == 'o' or \\\n",
    "    letter == 'u':\n",
    "        print('The letter is a vowel')\n",
    "\n",
    "    elif letter == 'y':\n",
    "        print('Sometimes y is a vowel and sometimes it is a consonant')\n",
    "\n",
    "    else:\n",
    "        print('It is a consonant')\n",
    "\n",
    "alphabet_differentiation() # NB: it is case sensitive\n",
    "\n",
    "\n"
   ]
  },
  {
   "cell_type": "markdown",
   "metadata": {},
   "source": [
    "##### Exercise 37: Name that Shape\n",
    "Write a program that determines the name of a shape from its number of sides. Read\n",
    "the number of sides from the user and then report the appropriate name as part of\n",
    "a meaningful message. Your program should support shapes with anywhere from 3\n",
    "up to (and including) 10 sides. If a number of sides outside of this range is entered\n",
    "then your program should display an appropriate error message."
   ]
  },
  {
   "cell_type": "code",
   "execution_count": 7,
   "metadata": {},
   "outputs": [
    {
     "name": "stdout",
     "output_type": "stream",
     "text": [
      "Pentagon\n"
     ]
    }
   ],
   "source": [
    "def shape():\n",
    "    sides = int(input('Enter the number of sides'))\n",
    "    if sides == 3:\n",
    "        print('Triangle')\n",
    "    elif sides == 4:\n",
    "        print('Quadrilateral')\n",
    "    elif sides == 5:\n",
    "        print('Pentagon')\n",
    "    elif sides == 6:\n",
    "        print('Hexagon')\n",
    "    elif sides == 7:\n",
    "        print('Heptagon')\n",
    "    elif sides ==8:\n",
    "        print('Octagon')\n",
    "    elif sides == 9:\n",
    "        print('Nonagon')\n",
    "    elif sides == 10:\n",
    "        print('Decagon')\n",
    "    else:\n",
    "        print('Shape out of range')\n",
    "\n",
    "shape()    \n"
   ]
  },
  {
   "cell_type": "markdown",
   "metadata": {},
   "source": [
    "##### Exercise 38: Month Name to Number of Days\n",
    "The length of a month varies from 28 to 31 days. In this exercise you will create\n",
    "a program that reads the name of a month from the user as a string. Then your\n",
    "program should display the number of days in that month. Display “28 or 29 days”\n",
    "for February so that leap years are addressed."
   ]
  },
  {
   "cell_type": "code",
   "execution_count": 16,
   "metadata": {},
   "outputs": [
    {
     "data": {
      "text/plain": [
       "31"
      ]
     },
     "execution_count": 16,
     "metadata": {},
     "output_type": "execute_result"
    }
   ],
   "source": [
    "def month_days():\n",
    "    # list of month and their respective days\n",
    "    days_31 = ['january','march', 'may','jully','august','october','december']\n",
    "    days_28_or_29 = 'february'\n",
    "    days_30 = ['april','june','september','november']\n",
    "    days = ''\n",
    "\n",
    "    month = input('Enter the name of the month: ').lower()\n",
    "    if month in days_31:\n",
    "        days = 31\n",
    "\n",
    "    elif month in days_28_or_29:\n",
    "        days  = '28 or 29'\n",
    "\n",
    "    elif month in days_30:\n",
    "        days = 30\n",
    "\n",
    "    return days\n",
    "\n",
    "month_days()\n",
    "\n",
    "\n"
   ]
  },
  {
   "cell_type": "markdown",
   "metadata": {},
   "source": [
    "##### Method 2"
   ]
  },
  {
   "cell_type": "code",
   "execution_count": 22,
   "metadata": {},
   "outputs": [
    {
     "name": "stdout",
     "output_type": "stream",
     "text": [
      "December has 31 days in it.\n"
     ]
    }
   ],
   "source": [
    "def month_days():\n",
    "    # read input from the user\n",
    "    month = input('Enter the name of the month: ').title()\n",
    "\n",
    "    # compute number of days in month\n",
    "    days = 31\n",
    "\n",
    "    if month == 'April' or month == 'June' or \\\n",
    "    month =='September' or month == 'November':\n",
    "        days = 30\n",
    "\n",
    "    elif month == 'February':\n",
    "        days = '28 or 29'\n",
    "\n",
    "    # disply the result\n",
    "    print(month, 'has', days, 'days in it.')\n",
    "\n",
    "month_days()"
   ]
  },
  {
   "cell_type": "markdown",
   "metadata": {},
   "source": [
    "##### Exercise 39: Sound Levels\n",
    "The following table lists the sound level in decibels for several common noises.\n",
    "\n",
    "Exercise 39: Sound Levels 17(dB)\n",
    "\n",
    "- Noise     ----------------            Decibel level \n",
    "\n",
    "- Jackhammer     ----------------              130\n",
    "- Gas lawnmower ----------------   106\n",
    "- Alarm clock        ----------------          70\n",
    "- Quiet room ----------------   40\n",
    "\n",
    "Write a program that reads a sound level in decibels from the user. If the user\n",
    "enters a decibel level that matches one of the noises in the table then your program\n",
    "should display a message containing only that noise. If the user enters a number\n",
    "of decibels between the noises listed then your program should display a message\n",
    "indicating which noises the level is between. Ensure that your program also generates\n",
    "reasonable output for a value smaller than the quietest noise in the table, and for a\n",
    "value larger than the loudest noise in the table."
   ]
  },
  {
   "cell_type": "code",
   "execution_count": 17,
   "metadata": {},
   "outputs": [
    {
     "name": "stdout",
     "output_type": "stream",
     "text": [
      "Noice levels is greator than Jackhammer\n"
     ]
    }
   ],
   "source": [
    "def sound_levels(sound):\n",
    "    \"\"\"\n",
    "    Jackhammer = 130\n",
    "    Gas_lawnmower = 106\n",
    "    Alarm_clock = 70\n",
    "    Quiet_room = 40\n",
    "    \"\"\"\n",
    "\n",
    "    if decibel_level < 40:\n",
    "        print(\"A very Quiet room\")\n",
    "    elif decibel_level == 40:\n",
    "        print('Quiet room')\n",
    "    elif decibel_level > 40 and decibel_level < 70:\n",
    "        print('The noice level is between a Quiet room and Alarm clock')\n",
    "\n",
    "    elif decibel_level == 70:\n",
    "        print('Alarm clock')\n",
    "\n",
    "    elif decibel_level > 70 and decibel_level < 106:\n",
    "        print('The noice level is between Alarm_clock and gas lawnmower')\n",
    "\n",
    "    elif decibel_level == 106:\n",
    "        print('Gas lawnmower!')\n",
    "\n",
    "    elif decibel_level > 106 and decibel_level < 130:\n",
    "        print('The noice is level is between Gas lawnmower and Jackhammer')\n",
    "\n",
    "    elif decibel_level == 130:\n",
    "        print('Jackhammer')\n",
    "\n",
    "    elif decibel_level > 130:\n",
    "        print('Noice levels is greator than Jackhammer')\n",
    "\n",
    "decibel_level = float(input('Enter the noice level in Decibel(dB): '))\n",
    "sound_levels(decibel_level)\n",
    "\n"
   ]
  },
  {
   "cell_type": "markdown",
   "metadata": {},
   "source": [
    "##### Exercise 40: Name that Triangle\n",
    "A triangle can be classified based on the lengths of its sides as equilateral, isosceles\n",
    "or scalene. All 3 sides of an equilateral triangle have the same length. An isosceles\n",
    "triangle has two sides that are the same length, and a third side that is a different\n",
    "length. If all of the sides have different lengths then the triangle is scalene.\n",
    "Write a program that reads the lengths of 3 sides of a triangle from the user.\n",
    "Display a message indicating the type of the triangle."
   ]
  },
  {
   "cell_type": "code",
   "execution_count": 28,
   "metadata": {},
   "outputs": [
    {
     "name": "stdout",
     "output_type": "stream",
     "text": [
      "That a isosceles triangle\n"
     ]
    }
   ],
   "source": [
    "def triangle_name(side_1, side_2, side_3):\n",
    "    \"\"\"\n",
    "    equilateral - all sides are equal\n",
    "    isosceles - two sides are equal\n",
    "    scalane - all sides are different\n",
    "\n",
    "    \"\"\"\n",
    "\n",
    "\n",
    "    if side_1 == side_2 == side_3:\n",
    "        name = 'Equilateral'\n",
    "\n",
    "    elif side_1 == side_2 or side_1 == side_3 or side_2 == side_3:\n",
    "        name = 'isosceles'\n",
    "\n",
    "    else:\n",
    "        name = 'Scalene'\n",
    "\n",
    "    return f'That a {name} triangle'\n",
    "\n",
    "side_1 = float(input('Enter the length of the first side: '))\n",
    "side_2 = float(input('Enter the length of the second side: '))\n",
    "side_3 = float(input('Enter the length of the third side: '))\n",
    "\n",
    "result = triangle_name(side_1,side_2,side_3)\n",
    "print(result)\n"
   ]
  },
  {
   "cell_type": "markdown",
   "metadata": {},
   "source": [
    "##### Exercise 41: Note To Frequency\n",
    "The following table lists an octave of music notes, beginning with middle C, along\n",
    "with their frequencies.\n",
    "- Note -----------------Frequency (Hz)\n",
    "\n",
    "- C4 -------------261.63\n",
    "- D4 --------------293.66\n",
    "- E4 --------------329.63\n",
    "- F4 --------------349.23\n",
    "- G4 --------------392.00\n",
    "- A4 --------------440.00\n",
    "- B4 --------------493.8\n",
    "\n",
    "Begin by writing a program that reads the name of a note from the user and\n",
    "displays the note’s frequency. Your program should support all of the notes listed\n",
    "previously\n",
    "\n",
    "Once you have your program working correctly for the notes listed previously you\n",
    "should add support for all of the notes from C0 to C8. While this could be done by\n",
    "adding many additional cases to your if statement, such a solution is cumbersome,\n",
    "inelegant and unacceptable for the purposes of this exercise. Instead, you should\n",
    "exploit the relationship between notes in adjacent octaves. In particular, the frequency\n",
    "of any note in octave n is half the frequency of the corresponding note in octave n+1.\n",
    "By using this relationship, you should be able to add support for the additional notes\n",
    "without adding additional cases to your if statement.\n",
    "\n",
    "Hint: To complete this exercise you will need to extract individual characters\n",
    "from the two-character note name so that you can work with the letter and\n",
    "the octave number separately. Once you have separated the parts, compute the\n",
    "frequency of the note in the fourth octave using the data in the table above.\n",
    "Then divide the frequency by 2^4−x, where x is the octave number entered by\n",
    "the user. This will halve or double the frequency the correct number of times."
   ]
  },
  {
   "cell_type": "code",
   "execution_count": 24,
   "metadata": {},
   "outputs": [
    {
     "name": "stdout",
     "output_type": "stream",
     "text": [
      "The frequency of D8 is 4698.56\n"
     ]
    }
   ],
   "source": [
    "def note_frequency():\n",
    "    note = input('Enter the music notes: ').strip()\n",
    "    for i in range(9):\n",
    "        if note[0].upper() == 'C' and int(note[1]) == i:\n",
    "            frequency = 261.63/2**(4 - int(note[1]))\n",
    "\n",
    "        elif note[0].upper() == 'D' and int(note[1]) == i:\n",
    "            frequency = 293.66/2**(4 - int(note[1]))\n",
    "\n",
    "\n",
    "        elif note[0].upper() == 'E' and int(note[1]) == i:\n",
    "            frequency = 329.63/2**(4 - int(note[1]))\n",
    "\n",
    "        elif note[0].upper() == 'F' and int(note[1]) == i:\n",
    "            frequency = 349.23/2**(4 - int(note[1]))\n",
    "\n",
    "        elif note[0].upper() == 'G' and int(note[1]) == i:\n",
    "            frequency = 392.00/2**(4 - int(note[1]))\n",
    "\n",
    "        elif note[0].upper() == 'A' and int(note[1]) == i:\n",
    "            frequency = 440.00/2**(4 - int(note[1]))\n",
    "\n",
    "        elif note[0].upper() == 'B' and int(note[1]) == i:\n",
    "            frequency = 493.88/2**(4 - int(note[1]))\n",
    "\n",
    "    return f'The frequency of {note.upper()} is {frequency}'\n",
    "result = note_frequency()\n",
    "print(result)\n",
    "\n",
    "    "
   ]
  },
  {
   "cell_type": "markdown",
   "metadata": {},
   "source": [
    "##### Method 2"
   ]
  },
  {
   "cell_type": "code",
   "execution_count": 28,
   "metadata": {},
   "outputs": [
    {
     "name": "stdout",
     "output_type": "stream",
     "text": [
      "Invalid note format. Please enter a note like 'C4'.\n"
     ]
    }
   ],
   "source": [
    "def note_frequency():\n",
    "    note = input('Enter the music note (e.g., C4): ').strip()\n",
    "    \n",
    "    if len(note) != 2 or not note[0].upper() in 'CDEFGAB' or not note[1].isdigit() or not (0 <= int(note[1]) <= 8):\n",
    "        return \"Invalid note format. Please enter a note like 'C4'.\"\n",
    "    \n",
    "    note_name = note[0].upper()\n",
    "    octave = int(note[1])\n",
    "\n",
    "    base_frequencies = {\n",
    "        'C': 261.63,\n",
    "        'D': 293.66,\n",
    "        'E': 329.63,\n",
    "        'F': 349.23,\n",
    "        'G': 392.00,\n",
    "        'A': 440.00,\n",
    "        'B': 493.88\n",
    "    }\n",
    "\n",
    "    if note_name in base_frequencies:\n",
    "        base_frequency = base_frequencies[note_name]\n",
    "        frequency = base_frequency / (2 ** (4 - octave))\n",
    "        return f'The frequency of {note.upper()} is {frequency:.2f} Hz'\n",
    "\n",
    "result = note_frequency()\n",
    "print(result)\n"
   ]
  },
  {
   "cell_type": "markdown",
   "metadata": {},
   "source": [
    "##### Method 3"
   ]
  },
  {
   "cell_type": "code",
   "execution_count": 31,
   "metadata": {},
   "outputs": [
    {
     "name": "stdout",
     "output_type": "stream",
     "text": [
      "The frequency of G6 is 1568.00 Hz\n"
     ]
    }
   ],
   "source": [
    "def note_frequency():\n",
    "    # Dictionary of base frequencies for notes in the 4th octave\n",
    "    base_frequencies = {\n",
    "        'C': 261.63,\n",
    "        'D': 293.66,\n",
    "        'E': 329.63,\n",
    "        'F': 349.23,\n",
    "        'G': 392.00,\n",
    "        'A': 440.00,\n",
    "        'B': 493.88\n",
    "    }\n",
    "\n",
    "    # Prompt the user to enter a note\n",
    "    note = input('Enter the music note (e.g., C4): ').strip()\n",
    "\n",
    "    # Validate the input format\n",
    "    if len(note) != 2 or note[0].upper() not in base_frequencies or not note[1].isdigit():\n",
    "        return \"Invalid note format. Please enter a note like 'C4'.\"\n",
    "\n",
    "    # Extract the note and octave\n",
    "    note_name = note[0].upper()\n",
    "    octave = int(note[1])\n",
    "\n",
    "    # Validate the octave range\n",
    "    if octave < 0 or octave > 8:\n",
    "        return \"Invalid octave. Please enter an octave between 0 and 8.\"\n",
    "\n",
    "    # Get the base frequency for the note in the 4th octave\n",
    "    base_frequency = base_frequencies[note_name]\n",
    "\n",
    "    # Calculate the frequency for the given note and octave\n",
    "    frequency = base_frequency / (2 ** (4 - octave))\n",
    "\n",
    "    # Return the result\n",
    "    return f'The frequency of {note.upper()} is {frequency:.2f} Hz'\n",
    "\n",
    "# Run the function and print the result\n",
    "result = note_frequency()\n",
    "print(result)\n"
   ]
  },
  {
   "cell_type": "markdown",
   "metadata": {},
   "source": [
    "##### Exercise 42: Frequency To Note\n",
    "In the previous question you converted from note name to frequency. In this question\n",
    "you will write a program that reverses that process. Begin by reading a frequency\n",
    "from the user. If the frequency is within one Hertz of a value listed in the table in\n",
    "the previous question then report the name of the note. Otherwise report that the\n",
    "frequency does not correspond to a known note. In this exercise you only need to\n",
    "consider the notes listed in the table. There is no need to consider notes from other\n",
    "octaves."
   ]
  },
  {
   "cell_type": "code",
   "execution_count": 49,
   "metadata": {},
   "outputs": [
    {
     "name": "stdout",
     "output_type": "stream",
     "text": [
      "A4\n"
     ]
    }
   ],
   "source": [
    "def frequency_to_note():\n",
    "    frequency = float(input('Enter the freqquency: '))\n",
    "\n",
    "    C = 261.63\n",
    "    D = 293.66\n",
    "    E = 329.63\n",
    "    F = 349.23\n",
    "    G = 392.00\n",
    "    A = 440.00\n",
    "    B = 493.88\n",
    "    limit = 1\n",
    "\n",
    "    if frequency >= C - limit and frequency <= C + limit:\n",
    "        note = 'C4'\n",
    "\n",
    "    elif frequency >= D - limit and frequency <= D + limit:\n",
    "        note = 'D4'\n",
    "\n",
    "    elif frequency >= E - limit and frequency <= E + limit:\n",
    "        note = 'E4'\n",
    "\n",
    "    elif frequency >= F - limit and frequency <= F + limit:\n",
    "        note = 'F4'\n",
    "\n",
    "    elif frequency >= G - limit and frequency <= G + limit:\n",
    "        note = 'G4'\n",
    "\n",
    "    elif frequency >= A - limit and frequency <= A + limit:\n",
    "        note = 'A4'\n",
    "\n",
    "    elif frequency >= B - limit and frequency <= B + limit:\n",
    "        note = 'B4'\n",
    "\n",
    "    else:\n",
    "        return f'The frequency does not correspond to a known note'\n",
    "\n",
    "    return note\n",
    "\n",
    "result = frequency_to_note()\n",
    "print(result)\n",
    "\n",
    "\n",
    "     \n",
    "    \n",
    "    \n"
   ]
  },
  {
   "cell_type": "markdown",
   "metadata": {},
   "source": [
    "##### Method 2"
   ]
  },
  {
   "cell_type": "code",
   "execution_count": 52,
   "metadata": {},
   "outputs": [
    {
     "name": "stdout",
     "output_type": "stream",
     "text": [
      "Invalid input. Please enter a numeric value.\n"
     ]
    }
   ],
   "source": [
    "def frequency_to_note():\n",
    "    # Dictionary of base frequencies for notes in the 4th octave\n",
    "    notes = {\n",
    "        'C4': 261.63,\n",
    "        'D4': 293.66,\n",
    "        'E4': 329.63,\n",
    "        'F4': 349.23,\n",
    "        'G4': 392.00,\n",
    "        'A4': 440.00,\n",
    "        'B4': 493.88\n",
    "    }\n",
    "\n",
    "    # Prompt the user to enter a frequency\n",
    "    try:\n",
    "        frequency = float(input('Enter the frequency (Hz): '))\n",
    "    except ValueError:\n",
    "        return \"Invalid input. Please enter a numeric value.\"\n",
    "\n",
    "    # Compare the input frequency with the note frequencies\n",
    "    for note, base_frequency in notes.items():\n",
    "        if abs(frequency - base_frequency) <= 1:\n",
    "            return f'The frequency {frequency} Hz corresponds to the note {note}.'\n",
    "\n",
    "    # If no match is found\n",
    "    return f'The frequency {frequency} Hz does not correspond to a known note.'\n",
    "\n",
    "# Run the function and print the result\n",
    "result = frequency_to_note()\n",
    "print(result)\n"
   ]
  },
  {
   "cell_type": "markdown",
   "metadata": {},
   "source": [
    "##### Exercise 43: Faces on Money\n",
    "It is common for images of a country’s previous leaders, or other individuals of historical significance, to appear on its money. The individuals that appear on banknotes in the United States are listed in Table 2.1.\n",
    "\n",
    "Write a program that begins by reading the denomination of a banknote from the\n",
    "user. Then your program should display the name of the individual that appears on the banknote of the entered amount. An appropriate error message should be displayed\n",
    "if no such note exists.\n",
    "\n",
    "- Table 2.1 Individuals that appear on Banknotes\n",
    "\n",
    "- Individual -----------------------------Amount\n",
    "- George Washington ----------------------$1\n",
    "- Thomas Jefferson -----------------------$2\n",
    "- Abraham Lincoln ------------------------$5\n",
    "- Alexander Hamilton ---------------------$10\n",
    "- Andrew Jackson -------------------------$20\n",
    "- Ulysses S. Grant -----------------------$50\n",
    "- Benjamin Franklin ----------------------$100\n",
    "\n",
    "While two dollar banknotes are rarely seen in circulation in the United States,\n",
    "they are legal tender that can be spent just like any other denomination. The\n",
    "United States has also issued banknotes in denominations of $500, $1,000,\n",
    "$5,000, and $10,000 for public use. However, high denomination banknotes\n",
    "have not been printed since 1945 and were officially discontinued in 1969. As\n",
    "a result, we will not consider them in this exercise."
   ]
  },
  {
   "cell_type": "code",
   "execution_count": 58,
   "metadata": {},
   "outputs": [
    {
     "name": "stdout",
     "output_type": "stream",
     "text": [
      "Invalid denomination\n"
     ]
    }
   ],
   "source": [
    "def faces_on_money():\n",
    "    banknote = int(input('Enter he denomination of the bank note: '))\n",
    "    denominations = [1, 2, 5, 10, 20, 50, 100]\n",
    "    if banknote == 1:\n",
    "        name = 'George Washington'\n",
    "\n",
    "    elif banknote == 2:\n",
    "        name = 'Thomas Jefferson'\n",
    "\n",
    "    elif banknote == 5:\n",
    "        name = 'Abraham Lincoln'\n",
    "\n",
    "    elif banknote == 10:\n",
    "        name = 'Alexander Hamilton'\n",
    "\n",
    "    elif banknote == 20:\n",
    "        name = ' Andrew Jackson '\n",
    "\n",
    "    elif banknote == 50:\n",
    "        name = 'Ulysses S. Grant'\n",
    "\n",
    "    elif banknote == 100:\n",
    "        name = 'Benjamin Franklin'\n",
    "\n",
    "    else: \n",
    "        if banknote not in denominations:\n",
    "            return f'Invalid denomination'\n",
    "\n",
    "    return name\n",
    "\n",
    "result = faces_on_money()\n",
    "print(result)"
   ]
  },
  {
   "cell_type": "markdown",
   "metadata": {},
   "source": [
    "##### Method 2"
   ]
  },
  {
   "cell_type": "code",
   "execution_count": 63,
   "metadata": {},
   "outputs": [
    {
     "name": "stdout",
     "output_type": "stream",
     "text": [
      "The individual on the $100 banknote is Benjamin Franklin.\n"
     ]
    }
   ],
   "source": []
  },
  {
   "cell_type": "code",
   "execution_count": null,
   "metadata": {},
   "outputs": [],
   "source": [
    "def banknote_individual():\n",
    "    # Dictionary mapping denominations to individuals\n",
    "    banknotes = {\n",
    "        1: \"George Washington\",\n",
    "        2: \"Thomas Jefferson\",\n",
    "        5: \"Abraham Lincoln\",\n",
    "        10: \"Alexander Hamilton\",\n",
    "        20: \"Andrew Jackson\",\n",
    "        50: \"Ulysses S. Grant\",\n",
    "        100: \"Benjamin Franklin\"\n",
    "    }\n",
    "\n",
    "    # Prompt the user to enter a banknote denomination\n",
    "    try:\n",
    "        denomination = int(input(\"Enter the denomination of the banknote: \"))\n",
    "    except ValueError:\n",
    "        return \"Invalid input. Please enter a numeric value.\"\n",
    "\n",
    "    # Check if the denomination exists in the dictionary\n",
    "    if denomination in banknotes:\n",
    "        return f'The individual on the ${denomination} banknote is {banknotes[denomination]}.'\n",
    "    else:\n",
    "        return \"No such banknote exists.\"\n",
    "\n",
    "# Run the function and print the result\n",
    "result = banknote_individual()\n",
    "print(result)\n"
   ]
  },
  {
   "cell_type": "markdown",
   "metadata": {},
   "source": [
    "##### Exercise 44: Date to Holiday Name\n",
    "\n",
    "Canada has three national holidays which fall on the same dates each year.\n",
    "- Holiday ------------- Date\n",
    "- New year’s day ---------- january 1\n",
    "- Canada day ---------July 1\n",
    "- Christmas day ---------December 25\n",
    "\n",
    "Write a program that reads a month and day from the user. If the month and day\n",
    "match one of the holidays listed previously then your program should display the\n",
    "holiday’s name. Otherwise your program should indicate that the entered month and\n",
    "day do not correspond to a fixed-date holiday"
   ]
  },
  {
   "cell_type": "markdown",
   "metadata": {},
   "source": []
  },
  {
   "cell_type": "code",
   "execution_count": 3,
   "metadata": {},
   "outputs": [
    {
     "name": "stdout",
     "output_type": "stream",
     "text": [
      "New year's day\n"
     ]
    }
   ],
   "source": [
    "\n",
    "\n",
    "from urllib3 import encode_multipart_formdata\n",
    "\n",
    "\n",
    "def  holiday_name(day, month):\n",
    "    if day == 1 and month == 'January':\n",
    "        holiday = \"New year's day\"\n",
    "\n",
    "    elif day == 1 and month == 'July':\n",
    "        holiday = 'Cananda day'\n",
    "\n",
    "    elif day ==25 and month == 'December':\n",
    "        holiday = 'Chistmass'\n",
    "\n",
    "    else:\n",
    "        return f'The entered month and day do not correspond to a fixed-date holiday'\n",
    "    \n",
    "    return holiday\n",
    "\n",
    "date = int(input('Enter date of the month: '))\n",
    "month =input('Enter month of the year: ').title()\n",
    "\n",
    "result = holiday_name(date, month)\n",
    "print(result)"
   ]
  },
  {
   "attachments": {
    "image.png": {
     "image/png": "[encoded data removed]"
    }
   },
   "cell_type": "markdown",
   "metadata": {},
   "source": [
    "##### Exercise 45: What Color is that Square?\n",
    "Positions on a chess board are identified by a letter and a number. The letter identifies\n",
    "the column, while the number identifies the row, as shown below:\n",
    "\n",
    "![image.png](attachment:image.png)\n",
    "\n",
    "\n",
    "\n",
    "\n",
    "Write a program that reads a position from the user. Use an if statement to determine if the column begins with a black square or a white square. Then use modular\n",
    "arithmetic to report the color of the square in that row. For example, if the user enters\n",
    "a1 then your program should report that the square is black. If the user enters d5\n",
    "then your program should report that the square is white. Your program may assume\n",
    "that a valid position will always be entered. It does not need to perform any error\n",
    "checking"
   ]
  },
  {
   "cell_type": "code",
   "execution_count": 4,
   "metadata": {},
   "outputs": [
    {
     "name": "stdout",
     "output_type": "stream",
     "text": [
      "The square at g5 is black.\n"
     ]
    }
   ],
   "source": [
    "def get_square_color(position):\n",
    "    column = position[0].lower()\n",
    "    row = int(position[1])\n",
    "\n",
    "    # Determine if the column starts with a black or white square\n",
    "    # Columns 'a', 'c', 'e', 'g' start with black squares (odd columns)\n",
    "    # Columns 'b', 'd', 'f', 'h' start with white squares (even columns)\n",
    "    if column in 'aceg':  # These columns start with black on odd rows\n",
    "        start_black = True\n",
    "    else:  # Columns 'b', 'd', 'f', 'h' start with white on odd rows\n",
    "        start_black = False\n",
    "\n",
    "    # Determine the color based on the row number\n",
    "    if (row % 2 == 1 and start_black) or (row % 2 == 0 and not start_black):\n",
    "        return \"black\"\n",
    "    else:\n",
    "        return \"white\"\n",
    "\n",
    "# Get input from the user\n",
    "position = input(\"Enter the position on the chessboard (e.g., 'a1', 'd5'): \")\n",
    "\n",
    "# Determine and print the color of the square\n",
    "color = get_square_color(position)\n",
    "print(f\"The square at {position} is {color}.\")"
   ]
  },
  {
   "attachments": {
    "image.png": {
     "image/png": "[encoded data removed]"
    }
   },
   "cell_type": "markdown",
   "metadata": {},
   "source": [
    "##### Exercise 46: Season from Month and Day\n",
    "The year is divided into four seasons: spring, summer, fall and winter. While the\n",
    "exact dates that the seasons change vary a little bit from year to year because of the\n",
    "way that the calendar is constructed, we will use the following dates for this exercise:\n",
    "\n",
    "![image.png](attachment:image.png)\n",
    "\n",
    "Create a program that reads a month and day from the user. The user will enter\n",
    "the name of the month as a string, followed by the day within the month as an\n",
    "integer. Then your program should display the season associated with the date that\n",
    "was entered.\n"
   ]
  },
  {
   "cell_type": "code",
   "execution_count": 14,
   "metadata": {},
   "outputs": [
    {
     "name": "stdout",
     "output_type": "stream",
     "text": [
      "Summer\n"
     ]
    }
   ],
   "source": [
    "def seasons():\n",
    "    time = input('Enter the month and day of the season in order: ').title()\n",
    "    x = time.split()\n",
    "    month = x[0]\n",
    "    day = int( x[1])\n",
    "    \n",
    "    if month == 'March' and day == 20:\n",
    "        season = 'Spring'\n",
    "\n",
    "    elif month == 'June' and day == 21:\n",
    "        season = 'Summer'\n",
    "\n",
    "    elif month == 'September' and day == 22:\n",
    "        season = 'Fall'\n",
    "\n",
    "    elif month == 'December' and day == 21:\n",
    "        season = 'Winter'\n",
    "\n",
    "    else:\n",
    "        return f' The date provided is not a holiday'\n",
    "    return season\n",
    "\n",
    "\n",
    "\n",
    "result = seasons()\n",
    "print(result)\n"
   ]
  },
  {
   "cell_type": "code",
   "execution_count": 6,
   "metadata": {},
   "outputs": [
    {
     "data": {
      "text/plain": [
       "['susan', 'mamu']"
      ]
     },
     "execution_count": 6,
     "metadata": {},
     "output_type": "execute_result"
    }
   ],
   "source": []
  }
 ],
 "metadata": {
  "kernelspec": {
   "display_name": "Python 3 (ipykernel)",
   "language": "python",
   "name": "python3"
  },
  "language_info": {
   "codemirror_mode": {
    "name": "ipython",
    "version": 3
   },
   "file_extension": ".py",
   "mimetype": "text/x-python",
   "name": "python",
   "nbconvert_exporter": "python",
   "pygments_lexer": "ipython3",
   "version": "3.12.1"
  }
 },
 "nbformat": 4,
 "nbformat_minor": 4
}
