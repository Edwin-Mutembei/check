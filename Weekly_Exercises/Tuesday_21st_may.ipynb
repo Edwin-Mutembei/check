{
 "cells": [
  {
   "cell_type": "markdown",
   "metadata": {},
   "source": [
    "##### Exercise 34: Even or Odd?\n",
    "Write a program that reads an integer from the user. Then your program should\n",
    "display a message indicating whether the integer is even or odd."
   ]
  },
  {
   "cell_type": "code",
   "execution_count": 9,
   "metadata": {},
   "outputs": [
    {
     "name": "stdout",
     "output_type": "stream",
     "text": [
      "6 is even\n"
     ]
    }
   ],
   "source": [
    "def number_check():\n",
    "    number = int(input('Enter an intenger: '))\n",
    "\n",
    "    if number % 2 == 0:\n",
    "        print(number, 'is even')\n",
    "\n",
    "    else:\n",
    "        print(number, 'is odd')\n",
    "    \n",
    "result = number_check()\n"
   ]
  },
  {
   "cell_type": "markdown",
   "metadata": {},
   "source": [
    "##### Exercise 35: Dog Years\n",
    "It is commonly said that one human year is equivalent to 7 dog years. However this\n",
    "simple conversion fails to recognize that dogs reach adulthood in approximately two\n",
    "years. As a result, some people believe that it is better to count each of the first two human years as 10.5 dog years, and then count each additional human year as 4 dog\n",
    "years.\n",
    "\n",
    "Write a program that implements the conversion from human years to dog years\n",
    "described in the previous paragraph. Ensure that your program works correctly for\n",
    "conversions of less than two human years and for conversions of two or more human\n",
    "years. Your program should display an appropriate error message if the user enters\n",
    "a negative number."
   ]
  },
  {
   "cell_type": "code",
   "execution_count": 53,
   "metadata": {},
   "outputs": [
    {
     "name": "stdout",
     "output_type": "stream",
     "text": [
      "Human years: 5.0\n",
      "Dog years: 33.0\n"
     ]
    }
   ],
   "source": [
    "\"\"\"\n",
    "1 human year = 7 dog years\n",
    "limitation: dog reach adulthood in approximately 2 years\n",
    "1st 2 human years = 10.5 dog years then,\n",
    "each additional human year = 4 dog years\n",
    "\"\"\"\n",
    "def year_conversion():\n",
    "    human_years = float(input('Enter human years: '))\n",
    "    if human_years <= 0:\n",
    "        return f'Age should be greator than 0'\n",
    "\n",
    "    elif human_years <= 2:\n",
    "        dog_years = human_years * 10.5\n",
    "\n",
    "    else:\n",
    "        dog_years = (2 * 10.5) + ((human_years - 2) * 4)\n",
    "\n",
    "    return f'Human years: {human_years}\\nDog years: {dog_years}'\n",
    "\n",
    "result = year_conversion()\n",
    "print(result)\n",
    "\n",
    "\n"
   ]
  },
  {
   "cell_type": "markdown",
   "metadata": {},
   "source": [
    "##### Exercise 36: Vowel or Consonant\n",
    "In this exercise you will create a program that reads a letter of the alphabet from the user. If the user enters a, e, i, o or u then your program should display a message indicating that the entered letter is a vowel. If the user enters y then your program should display a message indicating that sometimes y is a vowel, and sometimes y is a consonant. Otherwise your program should display a message indicating that the letter is a consonant."
   ]
  },
  {
   "cell_type": "code",
   "execution_count": 65,
   "metadata": {},
   "outputs": [
    {
     "name": "stdout",
     "output_type": "stream",
     "text": [
      "The letter is a consonant\n"
     ]
    }
   ],
   "source": [
    "def alphabet_differentiation():\n",
    "    alphabet = input('Enter an alphabet: ')\n",
    "    vowels =['a', 'e','i','o','u']\n",
    "    if alphabet in vowels:\n",
    "        print('The entered letter is a vowel!')\n",
    "\n",
    "    elif alphabet == 'y':\n",
    "        print('sometimes y is a vowel and sometimes y is a consonant')\n",
    "\n",
    "    else:\n",
    "        print('The letter is a consonant')\n",
    "\n",
    "alphabet_differentiation()\n"
   ]
  },
  {
   "cell_type": "markdown",
   "metadata": {},
   "source": [
    "##### Method 2"
   ]
  },
  {
   "cell_type": "code",
   "execution_count": 70,
   "metadata": {},
   "outputs": [
    {
     "name": "stdout",
     "output_type": "stream",
     "text": [
      "The letter is a vowel\n"
     ]
    }
   ],
   "source": [
    "def alphabet_differentiation():\n",
    "    # Read a letter from the user\n",
    "    letter = input('Enter a letter of the alphabet: ')\n",
    "\n",
    "    # classify the letter and report the result\n",
    "    if letter == 'a' or letter == 'e' or \\\n",
    "    letter == 'i' or letter == 'o' or \\\n",
    "    letter == 'u':\n",
    "        print('The letter is a vowel')\n",
    "\n",
    "    elif letter == 'y':\n",
    "        print('Sometimes y is a vowel and sometimes it is a consonant')\n",
    "\n",
    "    else:\n",
    "        print('It is a consonant')\n",
    "\n",
    "alphabet_differentiation() # NB: it is case sensitive\n",
    "\n",
    "\n"
   ]
  }
 ],
 "metadata": {
  "kernelspec": {
   "display_name": "Python 3",
   "language": "python",
   "name": "python3"
  },
  "language_info": {
   "codemirror_mode": {
    "name": "ipython",
    "version": 3
   },
   "file_extension": ".py",
   "mimetype": "text/x-python",
   "name": "python",
   "nbconvert_exporter": "python",
   "pygments_lexer": "ipython3",
   "version": "3.12.1"
  }
 },
 "nbformat": 4,
 "nbformat_minor": 2
}
