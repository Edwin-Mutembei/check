{
 "cells": [
  {
   "cell_type": "markdown",
   "metadata": {},
   "source": [
    "##### Exercise 34: Even or Odd?\n",
    "Write a program that reads an integer from the user. Then your program should\n",
    "display a message indicating whether the integer is even or odd."
   ]
  },
  {
   "cell_type": "code",
   "execution_count": 9,
   "metadata": {},
   "outputs": [
    {
     "name": "stdout",
     "output_type": "stream",
     "text": [
      "6 is even\n"
     ]
    }
   ],
   "source": [
    "def number_check():\n",
    "    number = int(input('Enter an intenger: '))\n",
    "\n",
    "    if number % 2 == 0:\n",
    "        print(number, 'is even')\n",
    "\n",
    "    else:\n",
    "        print(number, 'is odd')\n",
    "    \n",
    "result = number_check()\n"
   ]
  },
  {
   "cell_type": "markdown",
   "metadata": {},
   "source": [
    "##### Exercise 35: Dog Years\n",
    "It is commonly said that one human year is equivalent to 7 dog years. However this\n",
    "simple conversion fails to recognize that dogs reach adulthood in approximately two\n",
    "years. As a result, some people believe that it is better to count each of the first two human years as 10.5 dog years, and then count each additional human year as 4 dog\n",
    "years.\n",
    "\n",
    "Write a program that implements the conversion from human years to dog years\n",
    "described in the previous paragraph. Ensure that your program works correctly for\n",
    "conversions of less than two human years and for conversions of two or more human\n",
    "years. Your program should display an appropriate error message if the user enters\n",
    "a negative number."
   ]
  },
  {
   "cell_type": "code",
   "execution_count": 21,
   "metadata": {},
   "outputs": [
    {
     "name": "stdout",
     "output_type": "stream",
     "text": [
      "Human years: 1.0\n",
      "Dog years: 7\n"
     ]
    }
   ],
   "source": [
    "\"\"\"\n",
    "1 human year = 7 dog years\n",
    "limitation: dog reach adulthood in approximately 2 years\n",
    "1st 2 human years = 10.5 dog years then,\n",
    "each additional human year = 4 dog years\n",
    "\"\"\"\n",
    "def year_conversion():\n",
    "    human_years = float(input('Enter human years: '))\n",
    "    dog_years = 0\n",
    "\n",
    "    if human_years < 2:\n",
    "        dog_years += 7\n",
    "\n",
    "    if human_years == 2:\n",
    "        dog_years += 10.5\n",
    "        rem_human_years -= 2\n",
    "\n",
    "    if rem_human_years > 2:\n",
    "        dog_years += human_years * 4\n",
    "\n",
    "    elif human_years < 0:\n",
    "        print('Age should be greator than zero!')\n",
    "\n",
    "    return f'Human years: {human_years}\\nDog years: {dog_years}'\n",
    "\n",
    "result = year_conversion()\n",
    "print(result)\n",
    "\n",
    "\n"
   ]
  },
  {
   "cell_type": "code",
   "execution_count": 18,
   "metadata": {},
   "outputs": [
    {
     "data": {
      "text/plain": [
       "22.5"
      ]
     },
     "execution_count": 18,
     "metadata": {},
     "output_type": "execute_result"
    }
   ],
   "source": [
    "10.5 + (3*4)"
   ]
  },
  {
   "cell_type": "code",
   "execution_count": null,
   "metadata": {},
   "outputs": [],
   "source": []
  }
 ],
 "metadata": {
  "kernelspec": {
   "display_name": "Python 3",
   "language": "python",
   "name": "python3"
  },
  "language_info": {
   "codemirror_mode": {
    "name": "ipython",
    "version": 3
   },
   "file_extension": ".py",
   "mimetype": "text/x-python",
   "name": "python",
   "nbconvert_exporter": "python",
   "pygments_lexer": "ipython3",
   "version": "3.12.1"
  }
 },
 "nbformat": 4,
 "nbformat_minor": 2
}
