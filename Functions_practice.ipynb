{
 "cells": [
  {
   "cell_type": "markdown",
   "metadata": {},
   "source": [
    "\n",
    " ###### 1. Print Name: Define a function called myName, and have it print out your name when called.\n"
   ]
  },
  {
   "cell_type": "code",
   "execution_count": 5,
   "metadata": {},
   "outputs": [
    {
     "name": "stdout",
     "output_type": "stream",
     "text": [
      "Hello: edwin\n"
     ]
    }
   ],
   "source": [
    "def myName(name):\n",
    "    print(f'Hello: {name}')\n",
    "name = input('Hello, kindly write your full name: ')\n",
    "\n",
    "myName(name)"
   ]
  },
  {
   "cell_type": "markdown",
   "metadata": {},
   "source": [
    "###### 2. Pizza Toppings: Define a function that prints out all your favorite pizza toppings called pizzaToppings. Call the function three times."
   ]
  },
  {
   "cell_type": "code",
   "execution_count": 7,
   "metadata": {},
   "outputs": [
    {
     "name": "stdout",
     "output_type": "stream",
     "text": [
      "Miami pizza\n",
      "Roman pizza\n",
      "California-style Pizza.\n"
     ]
    }
   ],
   "source": [
    "def pizzaToppings():\n",
    "    fav_pizza = ['Miami pizza','Roman pizza','California-style Pizza.']\n",
    "    for pizza in fav_pizza:\n",
    "        print(pizza)\n",
    "pizzaToppings()\n"
   ]
  }
 ],
 "metadata": {
  "kernelspec": {
   "display_name": "Python 3",
   "language": "python",
   "name": "python3"
  },
  "language_info": {
   "codemirror_mode": {
    "name": "ipython",
    "version": 3
   },
   "file_extension": ".py",
   "mimetype": "text/x-python",
   "name": "python",
   "nbconvert_exporter": "python",
   "pygments_lexer": "ipython3",
   "version": "3.12.1"
  }
 },
 "nbformat": 4,
 "nbformat_minor": 2
}
