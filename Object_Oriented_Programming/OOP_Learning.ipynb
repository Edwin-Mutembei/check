{
 "cells": [
  {
   "cell_type": "markdown",
   "metadata": {},
   "source": [
    "##### Creating and Instantiating a Class\n",
    "A class is a blueprint for how an objects is created\n",
    "##### OOP Stages\n",
    "There ere two stages when using classes: Class defination  and Instantiation.\n",
    "- Class definition is a stasge where you write the blueprint to be used when called.\n",
    "- Instantiation is the process of creating an object from the class defination\n",
    "- After an object is instantiated is called an instance.\n",
    "- You can create many instances from each class; however, you have to store them in separate variables or data collections.\n"
   ]
  },
  {
   "cell_type": "markdown",
   "metadata": {},
   "source": [
    "##### Attributes\n",
    "- Attributes are variables defined within a class. An attribute is how we store information for an object.\n",
    "##### Declaring and Accessing Attribute\n",
    "- Like variables, we declare atributes with a name and value; however they are declared inside the class. Further, they are only available within classes they are defined, so in order to access an attribute, you must create an instance."
   ]
  },
  {
   "cell_type": "code",
   "execution_count": 1,
   "metadata": {},
   "outputs": [
    {
     "name": "stdout",
     "output_type": "stream",
     "text": [
      "beep\n",
      "red\n"
     ]
    }
   ],
   "source": [
    "# how to declare a class attribute\n",
    "\n",
    "class Car():\n",
    "    sound = 'beep' # all car objects will have this sound attributes and its value\n",
    "    color = 'red' # all car objects will have this color attributes and its value\n",
    "\n",
    "subaru = Car()\n",
    "print(subaru.sound)\n",
    "print(subaru.color) # Use the 'dot syntax'\n",
    "\n",
    "# When we instantiated the subaru variable from the Car class, it was created with all the attributes of the Car class \n",
    "# To access the attributes, you start by writting the name of the instance, followed by a dot and the attributes you want to acess.\n"
   ]
  },
  {
   "cell_type": "code",
   "execution_count": 2,
   "metadata": {},
   "outputs": [
    {
     "name": "stdout",
     "output_type": "stream",
     "text": [
      "Yellow\n"
     ]
    }
   ],
   "source": [
    "# changing the value of an attribute\n",
    "class Car():\n",
    "    sound = 'beep'\n",
    "    color = 'green'\n",
    "ford = Car()\n",
    "ford.color = 'Yellow' # this changes the value of the attributes color defined in the class from green to yellow\n",
    "print(ford.color)"
   ]
  },
  {
   "cell_type": "markdown",
   "metadata": {},
   "source": [
    "##### Using the __init__() Method\n",
    "When you want to instantiate an object with specific properties, you need to use the initialization (init) method. You can use this method to instantiate objects with different attribute values upon creation.This allows to easily create class instances with personalized attributes. The declaration of this method has two underscxores before and after the word init and also includes the 'self' keyword uinside of the parenthesis as a madatory parameter."
   ]
  },
  {
   "cell_type": "code",
   "execution_count": 4,
   "metadata": {},
   "outputs": [
    {
     "name": "stdout",
     "output_type": "stream",
     "text": [
      "honk\n"
     ]
    }
   ],
   "source": [
    "# using the init method to give instances personalized attributes upon creation\n",
    "class Car():\n",
    "    def __init__(self,sound):\n",
    "        self.sound = sound #set the attibutes sound to the value that is passed in\n",
    "\n",
    "subaru = Car('honk') # NB Parameters for this method work the same as functions and need to be in the correct order.\n",
    "print(subaru.sound) "
   ]
  },
  {
   "cell_type": "markdown",
   "metadata": {},
   "source": [
    "##### The 'self' keyword\n",
    "The self keyword is a reference to the current instance of the class and is used to access variables and methods associated with that instance. When you want to instantiate an object with personalized attributes, you need to have the init method declared and use the self keyword to save each attributes value.\n",
    "\n",
    "\n"
   ]
  },
  {
   "cell_type": "code",
   "execution_count": 8,
   "metadata": {},
   "outputs": [
    {
     "name": "stdout",
     "output_type": "stream",
     "text": [
      "Color: green\tSound: honk\n",
      "Color: yellow\tSound: beep\n"
     ]
    }
   ],
   "source": [
    "# Instantiating multiple objects with __init__()\n",
    "\n",
    "class Car():\n",
    "    def __init__(self,color, sound):\n",
    "        self.color = color  # sets the attributes color to the value that is passed in\n",
    "        self.sound = sound  # sets the attributes sound to the value that is passed in\n",
    "subaru = Car('green','honk') # create a car objects with personalized color green and sound honk\n",
    "\n",
    "ford = Car('yellow','beep')\n",
    "\n",
    "print('Color: {}\\tSound: {}'.format(subaru.color, subaru.sound))\n",
    "print('Color: {}\\tSound: {}'.format(ford.color,ford.sound))"
   ]
  },
  {
   "cell_type": "markdown",
   "metadata": {},
   "source": [
    "##### Exercises\n",
    "1. Dogs: Create a Dog class that has one global attribute and two instance level\n",
    "attributes. the global attribute should be “species” with a value of “Canine.”\n",
    "the two instance attributes should be “name” and “breed.” then instantiate\n",
    "two dog objects, a Husky named Sammi and a Chocolate Lab named Casey."
   ]
  },
  {
   "cell_type": "code",
   "execution_count": 12,
   "metadata": {},
   "outputs": [
    {
     "name": "stdout",
     "output_type": "stream",
     "text": [
      "Name: Sammi\tBreed: Husky\t\tSpecies: Canine\n",
      "Name: Casey\tBreed: Chocolate Lab\tSpecies: Canine\n"
     ]
    }
   ],
   "source": [
    "class Dog():\n",
    "    species = 'Canine'\n",
    "    def __init__(self, name, breed):\n",
    "        self.name = name\n",
    "        self.breed = breed\n",
    "\n",
    "dog1 = Dog('Sammi','Husky')\n",
    "dog2 = Dog('Casey','Chocolate Lab')\n",
    "\n",
    "print('Name: {}\\tBreed: {}\\t\\tSpecies: {}'.format(dog1.name, dog1.breed, dog1.species))\n",
    "print('Name: {}\\tBreed: {}\\tSpecies: {}'.format(dog2.name,dog2.breed, dog2.species))"
   ]
  },
  {
   "cell_type": "markdown",
   "metadata": {},
   "source": [
    "2. User Input: Create a Person class that has a single instance level attribute of\n",
    "“name.” ask the user to input their name, and create an instance of the Person\n",
    "class with the name they typed in. then print out their name."
   ]
  },
  {
   "cell_type": "code",
   "execution_count": 14,
   "metadata": {},
   "outputs": [
    {
     "name": "stdout",
     "output_type": "stream",
     "text": [
      "Edwin\n"
     ]
    }
   ],
   "source": [
    "class Person():\n",
    "    def __init__(self, name):\n",
    "        self.name = name\n",
    "name = input('Kindly writte your name: ')\n",
    "\n",
    "students = Person(name)\n",
    "print(students.name)\n",
    "\n"
   ]
  },
  {
   "cell_type": "markdown",
   "metadata": {},
   "source": [
    "##### Methods\n",
    "Methods are essentially functions that are within classes.\n",
    "##### Defining and calling a method\n",
    "Defining a method is the same as defining a function; however, you simply put the code within the class identition block. When declaring methods that are accessible through instances, you must use the self parameter in the defination. Without the self keyword, the method can only be accesed by the class itself.In order to call a method, you use dot syntax. "
   ]
  },
  {
   "cell_type": "code",
   "execution_count": 17,
   "metadata": {},
   "outputs": [
    {
     "name": "stdout",
     "output_type": "stream",
     "text": [
      "bark\n"
     ]
    }
   ],
   "source": [
    "# using the self keyword to access attributes within class methods\n",
    "class Dog():\n",
    "    sound = 'bark'\n",
    "    def makesound(self):\n",
    "        print(self.sound)  #self required to access attributes defined in the class\n",
    "\n",
    "simba = Dog()\n",
    "simba.makesound()\n",
    "\n"
   ]
  },
  {
   "cell_type": "markdown",
   "metadata": {},
   "source": [
    "##### Method scope\n",
    "Like global attributes, you may have methods that are accessible through the class itself rather than an instance of the class. They are known as static methods. They are not accessible by intances of the class."
   ]
  },
  {
   "cell_type": "code",
   "execution_count": 20,
   "metadata": {},
   "outputs": [
    {
     "name": "stdout",
     "output_type": "stream",
     "text": [
      "Subaru is my favourite car\n",
      "beep\n"
     ]
    }
   ],
   "source": [
    "# Understanding which methods are accessible via the class itself and class instances\n",
    "class Car():\n",
    "    sound = 'beep'\n",
    "    def makeSound(self): # method accessible through the instances. It cotains self in the parenthesis\n",
    "        print(self.sound)\n",
    "    def printInfo():          # method only accessible through the class itself. It lacks self keyword in the parenthesis\n",
    "        print('Subaru is my favourite car')\n",
    "\n",
    "Car.printInfo()\n",
    "\n",
    "subaru = Car()\n",
    "subaru.makeSound()\n",
    "\n",
    "\n",
    "#NB The method without the self parameter can be accessed through the class itself only while the method  the the self keyword can only be accessed by the instances of the class."
   ]
  },
  {
   "cell_type": "markdown",
   "metadata": {},
   "source": [
    "##### Passing Arguments into Methods\n",
    "Methods work the same way as functions, where you can pass arguments into the method to be used. When these arguments are are passed in, they do not need to be referenced with the self parameter, as they are not attributes, but rather temporary variables that the method can use."
   ]
  },
  {
   "cell_type": "code",
   "execution_count": 21,
   "metadata": {},
   "outputs": [
    {
     "name": "stdout",
     "output_type": "stream",
     "text": [
      "5\n"
     ]
    }
   ],
   "source": [
    "#writing methods that accept parameters\n",
    "class Dog():\n",
    "    def showAge(self, age):\n",
    "        print(age)            # does not need self, age is referencing the parameter not an attribute\n",
    "\n",
    "simba = Dog()\n",
    "simba.showAge(5)    # passing the intenger 5 as an argument to the showAge method"
   ]
  },
  {
   "cell_type": "markdown",
   "metadata": {},
   "source": [
    "##### Using Setters and Getters\n",
    "They are the methods that you create to re_declare attribute values and return attribute values. They help to create a method that will alter the attribute value and call that method when you need to set a new value. The same goes for when you want to access a given attributes value; instead of accessing it directly, you call a method that will return the value. This gives us a safer way to access an instances attributes."
   ]
  },
  {
   "cell_type": "code",
   "execution_count": 22,
   "metadata": {},
   "outputs": [
    {
     "name": "stdout",
     "output_type": "stream",
     "text": [
      "Chui\n"
     ]
    }
   ],
   "source": [
    "# using methods to set or return attributes values, proper programming practice\n",
    "class Dog():\n",
    "    name = ''\n",
    "    def setName(self, new_name):\n",
    "        self.name = new_name       # declares the new value for the name attribute\n",
    "\n",
    "    def getName(self):\n",
    "        return self.name            # returns the value of the name attributes\n",
    "    \n",
    "simba = Dog()\n",
    "simba.setName('Chui')\n",
    "print(simba.getName())              # prints the returned value of self.name"
   ]
  },
  {
   "cell_type": "code",
   "execution_count": 9,
   "metadata": {},
   "outputs": [
    {
     "name": "stdout",
     "output_type": "stream",
     "text": [
      "Happiest birthday, you,re now 11 years old!\n"
     ]
    }
   ],
   "source": [
    "# incrementing/decrementing attribute values with methods, best programming practice\n",
    "class Dog():\n",
    "    age = ''\n",
    "    def setHappyBirthday(self, new_age):\n",
    "        new_age += 1\n",
    "        self.age = new_age \n",
    "\n",
    "    def getHappyBirthday(self):\n",
    "        return \"Happiest birthday, you,re now {} years old!\".format(self.age)\n",
    "       \n",
    "\n",
    "simba = Dog()\n",
    "\n",
    "simba.setHappyBirthday(10)\n",
    "print(simba.getHappyBirthday())\n"
   ]
  },
  {
   "cell_type": "markdown",
   "metadata": {},
   "source": [
    "##### Methods Calling Methods\n",
    "When calling a method from another method, you need to use the self parameter."
   ]
  },
  {
   "cell_type": "code",
   "execution_count": 10,
   "metadata": {},
   "outputs": [
    {
     "name": "stdout",
     "output_type": "stream",
     "text": [
      "Puppy!\n"
     ]
    }
   ],
   "source": [
    "# calling a class method from another method\n",
    "\n",
    "class Dog():\n",
    "    age = 8\n",
    "    def getAge(self):\n",
    "        return self.age\n",
    "\n",
    "    def printInfo(self):\n",
    "        if self.getAge() < 10:  # need self to call other method for an instance\n",
    "            print('Puppy!')\n",
    "\n",
    "simba = Dog()\n",
    "simba.printInfo()\n"
   ]
  },
  {
   "cell_type": "markdown",
   "metadata": {},
   "source": [
    "##### Exercises\n",
    "1. Animals: Create a class definition of an animal that has a species attribute and\n",
    "both a setter and getter to change or access the attributes value. Create an\n",
    "instance called “lion,” and call the setter method with an argument of “feline.”\n",
    "then print out the species by calling the getter method.\n"
   ]
  },
  {
   "cell_type": "code",
   "execution_count": 11,
   "metadata": {},
   "outputs": [
    {
     "name": "stdout",
     "output_type": "stream",
     "text": [
      "feline\n"
     ]
    }
   ],
   "source": [
    "class Animal():\n",
    "    species = ''\n",
    "    def setSpecies(self, species_name):\n",
    "        self.species = species_name\n",
    "\n",
    "    def getSpecies(self):\n",
    "        return self.species\n",
    "    \n",
    "lion = Animal()\n",
    "lion.setSpecies('feline')\n",
    "print(lion.getSpecies())"
   ]
  },
  {
   "cell_type": "markdown",
   "metadata": {},
   "source": [
    "2. User Input: Create a class Person that takes in a name when instantiated but\n",
    "sets an age to 0. Within the class definition setup, a setter and getter that will\n",
    "ask the user to input their age and set the age attribute to the value input.\n",
    "then output the information in a formatted string as “You are 64 years old.”\n",
    "assuming the user inputs 64 as their age"
   ]
  },
  {
   "cell_type": "code",
   "execution_count": 16,
   "metadata": {},
   "outputs": [
    {
     "name": "stdout",
     "output_type": "stream",
     "text": [
      "You are 64 years old.\n"
     ]
    }
   ],
   "source": [
    "class Person():\n",
    "    def __init__(self, name):\n",
    "        self.name = name\n",
    "        self.age = 0\n",
    "    \n",
    "    def setAge(self):\n",
    "        age_input =input('Kindly enter your age: ')\n",
    "        self.age = int(age_input)\n",
    "\n",
    "    def getAge(self):\n",
    "        return 'You are {} years old.'.format(self.age)\n",
    "    \n",
    "name = input('What is your name: ')\n",
    "person = Person(name)\n",
    "person.setAge()\n",
    "print(person.getAge())"
   ]
  },
  {
   "cell_type": "markdown",
   "metadata": {},
   "source": [
    "##### Inheritance\n",
    "Inheritance allow classes to have code reusability within programminng. When you have two or more classes that use similar code, you set a superclass. The class that will inherit the code within the superclass is known as subclasses. The subclass inherits all the attributes and methods within the superclass. Rather than writting the same attributes and methods twice for two classes, we can inherits a class and only need to write the code once. To inherit a class, we need to put the name of the class we're inheriting between the parentheses."
   ]
  },
  {
   "cell_type": "code",
   "execution_count": 18,
   "metadata": {},
   "outputs": [
    {
     "name": "stdout",
     "output_type": "stream",
     "text": [
      "roar\n"
     ]
    }
   ],
   "source": [
    "# inheriting a class and accessing the inherited method\n",
    "class Animal():\n",
    "    def makeSound(self):\n",
    "        print('roar')\n",
    "class Dog(Animal):        # inheriting Animal class\n",
    "    pass\n",
    "\n",
    "simba = Dog()\n",
    "simba.makeSound()   #Accessible through inheritance"
   ]
  },
  {
   "cell_type": "markdown",
   "metadata": {},
   "source": [
    "##### using the super() method\n",
    "The super method is used to create forward compatibility when using inheritance. When declaring attributes that are required within the superclass, super is used to initialize its values. The syntax for super is the keyword super, parenthesis, a dot, the initialization method, and any attributes within the parenthesis of the init call."
   ]
  },
  {
   "cell_type": "code",
   "execution_count": 20,
   "metadata": {},
   "outputs": [
    {
     "name": "stdout",
     "output_type": "stream",
     "text": [
      "canine\n",
      "chui\n"
     ]
    }
   ],
   "source": [
    "# using the super() method to declare inherited attributes\n",
    "class Animal():\n",
    "    def __init__(self, species):\n",
    "        self.species = species\n",
    "\n",
    "class Dog(Animal):\n",
    "    def __init__(self, species, name):\n",
    "        self.name = name\n",
    "        super().__init__(species)     # using super to declare the species attribute defined in Animal\n",
    "\n",
    "simba = Dog('canine','chui')\n",
    "print(simba.species)\n",
    "print(simba.name)"
   ]
  },
  {
   "cell_type": "markdown",
   "metadata": {},
   "source": [
    "##### Method Overriding\n",
    "Sometimes when using inheritance, you want the subclass to be able to perform a different action when the same method is called. We use the concept of method overriding to change what the mothod does. Within the subclass, we redefine the method (with the same name) to perform the task differently. Python will always use the method defined within the subclass first, and if one doesn't exist, then it will check the superclass."
   ]
  },
  {
   "cell_type": "code",
   "execution_count": 22,
   "metadata": {},
   "outputs": [
    {
     "name": "stdout",
     "output_type": "stream",
     "text": [
      "bark\n",
      "roar\n"
     ]
    }
   ],
   "source": [
    "# overriding methods defined in the superclass\n",
    "class Animal():\n",
    "    def makeSound(self):\n",
    "        print('roar')\n",
    "\n",
    "class Dog(Animal):\n",
    "    def makeSound(self):\n",
    "        print('bark')\n",
    "\n",
    "simba, lion = Dog(), Animal()\n",
    "\n",
    "simba.makeSound()       #overriding will call the makeSound method in Dog\n",
    "lion.makeSound()        # no overriding occurs as Animal does not inherit anything"
   ]
  },
  {
   "cell_type": "markdown",
   "metadata": {},
   "source": [
    "##### Inheriting Multiple Classes\n",
    "The main difference is how you super the attributes. Rather than using the super method, you call the class name directly and pass in the self parameter with the attributes. "
   ]
  },
  {
   "cell_type": "code",
   "execution_count": 1,
   "metadata": {},
   "outputs": [
    {
     "name": "stdout",
     "output_type": "stream",
     "text": [
      "9.8 Ford\n"
     ]
    }
   ],
   "source": [
    "# how to inherit multiple classes\n",
    "class Physics():\n",
    "    gravity = 9.8\n",
    "\n",
    "class Automobile():\n",
    "    def __init__(self, make, model, year):\n",
    "        self.make = make\n",
    "        self.model = model\n",
    "        self.year = year\n",
    "\n",
    "class Ford(Physics, Automobile):  #able to access physics and Automobile attributes and methods\n",
    "    def __init__(self, model, year):\n",
    "        Automobile.__init__(self, 'Ford', model, year)          # super does not work with multiple\n",
    "\n",
    "truck = Ford('F-150', 2024)\n",
    "print(truck.gravity, truck.make)"
   ]
  }
 ],
 "metadata": {
  "kernelspec": {
   "display_name": "Python 3",
   "language": "python",
   "name": "python3"
  },
  "language_info": {
   "codemirror_mode": {
    "name": "ipython",
    "version": 3
   },
   "file_extension": ".py",
   "mimetype": "text/x-python",
   "name": "python",
   "nbconvert_exporter": "python",
   "pygments_lexer": "ipython3",
   "version": "3.12.1"
  }
 },
 "nbformat": 4,
 "nbformat_minor": 2
}
