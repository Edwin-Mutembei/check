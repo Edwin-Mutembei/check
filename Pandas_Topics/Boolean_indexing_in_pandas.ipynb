{
 "cells": [
  {
   "cell_type": "markdown",
   "id": "ff28daf2-d28f-4524-b2fb-c8742cab86a7",
   "metadata": {},
   "source": [
    "**Boolean Indexing in Pandas**\n",
    "- In boolean indexing, you select subset of data based o the actual values of the data in the DataFrame and not on their ror/column labels or integer locations.\n",
    "- In boolean indexing, you use a bolean vector to filter the data.\n",
    "- In boolean indexing, we can filter a data in four ways:\n",
    "   - Accessing a DataFrame with a boolean index\n",
    "   - Applying a boolean mask to a dataframe\n",
    "   - Masking data based on the column value\n",
    "   - Masking data based on the index value\n",
    "     \n",
    "**Accessing a DataFrame with a boolean index**\n",
    "- In order to access a dataframe with a boolean index, we have to create a dataframe in which the index of dataframe contains a boolean value that is 'True' or 'False'.\n"
   ]
  },
  {
   "cell_type": "code",
   "execution_count": 3,
   "id": "72b1cb13-2568-4edc-9cad-8c485ddad844",
   "metadata": {},
   "outputs": [
    {
     "name": "stdout",
     "output_type": "stream",
     "text": [
      "         name  degree  score\n",
      "True   aparna     MBA     90\n",
      "False  pankaj     BCA     40\n",
      "True   sudhir  M.Tech     80\n",
      "False   Geeku     MBA     98\n"
     ]
    }
   ],
   "source": [
    "# Example\n",
    "import pandas as pd\n",
    "\n",
    "data = {\n",
    "        'name':[\"aparna\", \"pankaj\", \"sudhir\", \"Geeku\"],\n",
    "        'degree': [\"MBA\", \"BCA\", \"M.Tech\", \"MBA\"],\n",
    "        'score':[90, 40, 80, 98]\n",
    "        }\n",
    "df = pd.DataFrame(data, index = [True, False, True, False])\n",
    "\n",
    "print(df) # this create a dataframe with the boolean index which a user can access a dataframe with the help of the boolean index.\n"
   ]
  },
  {
   "cell_type": "markdown",
   "id": "266ccc40-fc28-4ffe-8b70-4b10926421fe",
   "metadata": {},
   "source": [
    "**Accessing a DataFrame with a boolean index using .loc[]**\n",
    "- In order to access a dataframe with a boolean index using .loc[], you pass a boolean value(True or False) in a .loc[] function."
   ]
  },
  {
   "cell_type": "code",
   "execution_count": 4,
   "id": "8df32f62-9ecd-4a85-9411-3c5b6c9c2d32",
   "metadata": {},
   "outputs": [
    {
     "name": "stdout",
     "output_type": "stream",
     "text": [
      "        name  degree  score\n",
      "True  aparna     MBA     90\n",
      "True  sudhir  M.Tech     80\n"
     ]
    }
   ],
   "source": [
    "# Example\n",
    "import pandas as pd\n",
    "\n",
    "data = {\n",
    "        'name':[\"aparna\", \"pankaj\", \"sudhir\", \"Geeku\"],\n",
    "        'degree': [\"MBA\", \"BCA\", \"M.Tech\", \"MBA\"],\n",
    "        'score':[90, 40, 80, 98]\n",
    "        }\n",
    "df = pd.DataFrame(data, index = [True, False, True, False])\n",
    "\n",
    "# accessing a dataframe using .loc[] function\n",
    "print(df.loc[True])\n"
   ]
  },
  {
   "cell_type": "markdown",
   "id": "0bf467a2-f9ed-462d-9b8a-30a5256ae30c",
   "metadata": {},
   "source": [
    "**Accessing a DataFrame with a boolean index using .iloc[]**\n",
    "- In order to access a DataFrame using .iloc[], you pass a boolean value(True or False) but iloc[] function accepts only integer as an argument so it will throw an error.\n"
   ]
  },
  {
   "cell_type": "code",
   "execution_count": 6,
   "id": "befc2bb7-132a-4c3b-a195-9ca68e983492",
   "metadata": {},
   "outputs": [
    {
     "name": "stdout",
     "output_type": "stream",
     "text": [
      "name      pankaj\n",
      "degree       BCA\n",
      "score         40\n",
      "Name: False, dtype: object\n"
     ]
    }
   ],
   "source": [
    "import pandas as pd\n",
    "\n",
    "data = {\n",
    "        'name':[\"aparna\", \"pankaj\", \"sudhir\", \"Geeku\"],\n",
    "        'degree': [\"MBA\", \"BCA\", \"M.Tech\", \"MBA\"],\n",
    "        'score':[90, 40, 80, 98]\n",
    "        }\n",
    "df = pd.DataFrame(data, index = [True, False, True, False])\n",
    "\n",
    "# accessing a dataframe using .iloc[] function\n",
    "# print(df.iloc[True]) # throws an error.\n",
    "print(df.iloc[1])"
   ]
  },
  {
   "cell_type": "markdown",
   "id": "91d7b88d-008b-4f5b-a4d6-d36a696f839e",
   "metadata": {},
   "source": [
    "**Applying a boolean mask to a dataframe:**\n",
    "- To apply a boolean mask to a dataframe you use __getitems__ or [] accessor.\n",
    "- We can apply a boolean mask by giving a list of True and False of the same length as the dataframe.\n",
    "- When we apply a boolean mask, it will print only that dataframe in which we pass a boolean value True. "
   ]
  },
  {
   "cell_type": "code",
   "execution_count": 7,
   "id": "5e0105f2-4cfb-45ab-89c7-151dfbd52b65",
   "metadata": {},
   "outputs": [
    {
     "name": "stdout",
     "output_type": "stream",
     "text": [
      "     name  degree  score\n",
      "0  aparna     MBA     90\n",
      "2  sudhir  M.Tech     80\n"
     ]
    }
   ],
   "source": [
    "# Example\n",
    "import pandas as pd\n",
    "\n",
    "data = {\n",
    "        'name':[\"aparna\", \"pankaj\", \"sudhir\", \"Geeku\"],\n",
    "        'degree': [\"MBA\", \"BCA\", \"M.Tech\", \"MBA\"],\n",
    "        'score':[90, 40, 80, 98]\n",
    "        }\n",
    "df = pd.DataFrame(data, index = [0, 1, 2, 3])\n",
    "\n",
    "print(df[[True, False, True, False]])"
   ]
  },
  {
   "cell_type": "markdown",
   "id": "cb684dfd-232e-4870-9019-ad22c2b2fe8a",
   "metadata": {},
   "source": [
    "**Masking data based on column value:**\n",
    "- In  a DataFrame we can filter a data based on a column value.\n",
    "- In order to filter data, we can apply certain conditions on the dataframe using different operators like ==,>,<,<=,>=.\n",
    "- When these operators are applied to the dataframe, it produces a Series of True axnd False."
   ]
  },
  {
   "cell_type": "code",
   "execution_count": 8,
   "id": "de7d3fa1-2f21-4d08-8b92-afdea337045e",
   "metadata": {},
   "outputs": [
    {
     "name": "stdout",
     "output_type": "stream",
     "text": [
      "0    False\n",
      "1     True\n",
      "2    False\n",
      "3    False\n",
      "Name: degree, dtype: bool\n"
     ]
    }
   ],
   "source": [
    "# Example 1\n",
    "import pandas as pd\n",
    "\n",
    "data = {\n",
    "        'name':[\"aparna\", \"pankaj\", \"sudhir\", \"Geeku\"],\n",
    "        'degree': [\"MBA\", \"BCA\", \"M.Tech\", \"MBA\"],\n",
    "        'score':[90, 40, 80, 98]\n",
    "        }\n",
    "df = pd.DataFrame(data)\n",
    "\n",
    "# using a comparison operator for filtering of data\n",
    "print(df['degree'] == 'BCA')"
   ]
  },
  {
   "cell_type": "code",
   "execution_count": null,
   "id": "b44b45d1-b09e-4c9f-b8cf-8e71fd257c7e",
   "metadata": {},
   "outputs": [],
   "source": [
    "# Example 2\n",
    "import pandas as pd\n",
    "\n",
    "data = pd.read_csv('nba.csv', index_col = 'Name')\n",
    "\n",
    "# using g"
   ]
  }
 ],
 "metadata": {
  "kernelspec": {
   "display_name": "Python 3 (ipykernel)",
   "language": "python",
   "name": "python3"
  },
  "language_info": {
   "codemirror_mode": {
    "name": "ipython",
    "version": 3
   },
   "file_extension": ".py",
   "mimetype": "text/x-python",
   "name": "python",
   "nbconvert_exporter": "python",
   "pygments_lexer": "ipython3",
   "version": "3.12.3"
  }
 },
 "nbformat": 4,
 "nbformat_minor": 5
}
