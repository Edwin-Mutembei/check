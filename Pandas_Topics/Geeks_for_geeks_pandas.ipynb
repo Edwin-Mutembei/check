{
 "cells": [
  {
   "cell_type": "markdown",
   "id": "41dc91dc-43e5-4592-a01d-73cf7052746e",
   "metadata": {},
   "source": [
    "##### Data Structures in Pandas Library\n",
    "Pandas provide two data structures for manipulating data:\n",
    "- Series\n",
    "- DataFrame\n",
    "###### Pandas Series\n",
    "- A pandas series is a one-dimensional labeled array (a column in an Excel sheet) capable of holding data of any type i.e. intenger, float, strings, ....\n",
    "- The axes labels are collectively called indexes\n",
    "###### Creating a Series\n",
    "-Pandas Series is created by loading the datasets from existing storage( database, csv or Excel file). Further it can be created from lists, dictionaries and scalar values etc.\n",
    "###### Pandas DataFrame\n",
    "- Pandas DataFrame is a two-dimentional data structure with labeled axes(rows and columns)\n",
    "###### Creating DataFrame\n",
    "- Pandas DataFrame is created by loading the dataset from existing storge(database, csv or excel). It can also be created from lists, dictionaries or a liat of dictionaries etc."
   ]
  },
  {
   "cell_type": "markdown",
   "id": "87d80b91-82e4-4aaf-821c-58435eece2ec",
   "metadata": {},
   "source": [
    "##### Methods\n",
    "###### describe() method\n",
    "Pandas **describe()** is used to view some basic statistical details like percentile, mean, std etc of a data from a series of numeric values.\n",
    "- **Syntax**: DataFrame.describe(percentiles = None, include = None, exclude = None)\n",
    "- **Parameters**:\n",
    "   * **percentile**: list like data type of numbers between 0 -1 to return the respective percentile\n",
    "   * **include**: list of data types to be included while describing dataframe. Default is None.\n",
    "   * **exclude**: list of data types to be excluded while describing dataframe.Default is None.\n",
    "\n",
    "- **Return type:**: Statistical summary of data frame.\n"
   ]
  },
  {
   "cell_type": "code",
   "execution_count": 2,
   "id": "ad094b3a-eb4a-4919-a3da-0f66ffd33634",
   "metadata": {},
   "outputs": [
    {
     "name": "stdout",
     "output_type": "stream",
     "text": [
      "            Name            Team  Number Position   Age Height  Weight  \\\n",
      "0  Avery Bradley  Boston Celtics     0.0       PG  25.0    6-2   180.0   \n",
      "1    Jae Crowder  Boston Celtics    99.0       SF  25.0    6-6   235.0   \n",
      "2   John Holland  Boston Celtics    30.0       SG  27.0    6-5   205.0   \n",
      "3    R.J. Hunter  Boston Celtics    28.0       SG  22.0    6-5   185.0   \n",
      "4  Jonas Jerebko  Boston Celtics     8.0       PF  29.0   6-10   231.0   \n",
      "\n",
      "             College     Salary  \n",
      "0              Texas  7730337.0  \n",
      "1          Marquette  6796117.0  \n",
      "2  Boston University        NaN  \n",
      "3      Georgia State  1148640.0  \n",
      "4                NaN  5000000.0  \n"
     ]
    }
   ],
   "source": [
    "# Example\n",
    "import pandas as pd\n",
    "data = pd.read_csv('nba.csv')\n",
    "print(data.head())"
   ]
  },
  {
   "cell_type": "code",
   "execution_count": 8,
   "id": "a653ebf3-0b65-4e52-9ed3-bbee850a4c56",
   "metadata": {},
   "outputs": [
    {
     "data": {
      "text/plain": [
       "array([25., 27., 22., 29.])"
      ]
     },
     "execution_count": 8,
     "metadata": {},
     "output_type": "execute_result"
    }
   ],
   "source": [
    "df = data['Age'].head()\n",
    "df.unique()    # To print all the unique values"
   ]
  },
  {
   "cell_type": "code",
   "execution_count": 10,
   "id": "d6a73a57-3e01-465d-92dd-c931a5f22940",
   "metadata": {},
   "outputs": [
    {
     "data": {
      "text/plain": [
       "4"
      ]
     },
     "execution_count": 10,
     "metadata": {},
     "output_type": "execute_result"
    }
   ],
   "source": [
    "df.nunique()  # To give the total count of unique values"
   ]
  },
  {
   "cell_type": "code",
   "execution_count": 15,
   "id": "4a27b776-ce98-4145-ad20-b45b340aa9be",
   "metadata": {},
   "outputs": [
    {
     "name": "stdout",
     "output_type": "stream",
     "text": [
      "           Number         Age      Weight        Salary\n",
      "count  457.000000  457.000000  457.000000  4.460000e+02\n",
      "mean    17.678337   26.938731  221.522976  4.842684e+06\n",
      "std     15.966090    4.404016   26.368343  5.229238e+06\n",
      "min      0.000000   19.000000  161.000000  3.088800e+04\n",
      "25%      5.000000   24.000000  200.000000  1.044792e+06\n",
      "50%     13.000000   26.000000  220.000000  2.839073e+06\n",
      "75%     25.000000   30.000000  240.000000  6.500000e+06\n",
      "max     99.000000   40.000000  307.000000  2.500000e+07\n"
     ]
    }
   ],
   "source": [
    "# Using Describe function\n",
    "print(data.describe()) # It gives several statistical measures, including mean, std, quartiles etc"
   ]
  },
  {
   "cell_type": "markdown",
   "id": "1ed93a3b-f100-4257-a15e-20361d8c03f0",
   "metadata": {},
   "source": [
    "##### Explanation of the description of numerical columns\n",
    "- **Count**: Total number of Non-Empty values\n",
    "- **Mean**: Mean of the column values\n",
    "- **std**: Standard Deviation of the column values\n",
    "- **min**: Minimum value fro the column\n",
    "- **25%** : 25 percentile\n",
    "- **50**: 50 percentile\n",
    "- **75**: 75 percentile\n",
    "- **Max**: Maximum value from the column"
   ]
  },
  {
   "cell_type": "code",
   "execution_count": 17,
   "id": "243698eb-adea-411d-b9f2-3576910062d8",
   "metadata": {},
   "outputs": [
    {
     "data": {
      "text/html": [
       "<div>\n",
       "<style scoped>\n",
       "    .dataframe tbody tr th:only-of-type {\n",
       "        vertical-align: middle;\n",
       "    }\n",
       "\n",
       "    .dataframe tbody tr th {\n",
       "        vertical-align: top;\n",
       "    }\n",
       "\n",
       "    .dataframe thead th {\n",
       "        text-align: right;\n",
       "    }\n",
       "</style>\n",
       "<table border=\"1\" class=\"dataframe\">\n",
       "  <thead>\n",
       "    <tr style=\"text-align: right;\">\n",
       "      <th></th>\n",
       "      <th>Name</th>\n",
       "      <th>Team</th>\n",
       "      <th>Number</th>\n",
       "      <th>Position</th>\n",
       "      <th>Age</th>\n",
       "      <th>Height</th>\n",
       "      <th>Weight</th>\n",
       "      <th>College</th>\n",
       "      <th>Salary</th>\n",
       "    </tr>\n",
       "  </thead>\n",
       "  <tbody>\n",
       "    <tr>\n",
       "      <th>count</th>\n",
       "      <td>364</td>\n",
       "      <td>364</td>\n",
       "      <td>364.000000</td>\n",
       "      <td>364</td>\n",
       "      <td>364.000000</td>\n",
       "      <td>364</td>\n",
       "      <td>364.000000</td>\n",
       "      <td>364</td>\n",
       "      <td>3.640000e+02</td>\n",
       "    </tr>\n",
       "    <tr>\n",
       "      <th>unique</th>\n",
       "      <td>364</td>\n",
       "      <td>30</td>\n",
       "      <td>NaN</td>\n",
       "      <td>5</td>\n",
       "      <td>NaN</td>\n",
       "      <td>17</td>\n",
       "      <td>NaN</td>\n",
       "      <td>115</td>\n",
       "      <td>NaN</td>\n",
       "    </tr>\n",
       "    <tr>\n",
       "      <th>top</th>\n",
       "      <td>Avery Bradley</td>\n",
       "      <td>New Orleans Pelicans</td>\n",
       "      <td>NaN</td>\n",
       "      <td>SG</td>\n",
       "      <td>NaN</td>\n",
       "      <td>6-9</td>\n",
       "      <td>NaN</td>\n",
       "      <td>Kentucky</td>\n",
       "      <td>NaN</td>\n",
       "    </tr>\n",
       "    <tr>\n",
       "      <th>freq</th>\n",
       "      <td>1</td>\n",
       "      <td>16</td>\n",
       "      <td>NaN</td>\n",
       "      <td>87</td>\n",
       "      <td>NaN</td>\n",
       "      <td>49</td>\n",
       "      <td>NaN</td>\n",
       "      <td>22</td>\n",
       "      <td>NaN</td>\n",
       "    </tr>\n",
       "    <tr>\n",
       "      <th>mean</th>\n",
       "      <td>NaN</td>\n",
       "      <td>NaN</td>\n",
       "      <td>16.829670</td>\n",
       "      <td>NaN</td>\n",
       "      <td>26.615385</td>\n",
       "      <td>NaN</td>\n",
       "      <td>219.785714</td>\n",
       "      <td>NaN</td>\n",
       "      <td>4.620311e+06</td>\n",
       "    </tr>\n",
       "    <tr>\n",
       "      <th>std</th>\n",
       "      <td>NaN</td>\n",
       "      <td>NaN</td>\n",
       "      <td>14.994162</td>\n",
       "      <td>NaN</td>\n",
       "      <td>4.233591</td>\n",
       "      <td>NaN</td>\n",
       "      <td>24.793099</td>\n",
       "      <td>NaN</td>\n",
       "      <td>5.119716e+06</td>\n",
       "    </tr>\n",
       "    <tr>\n",
       "      <th>min</th>\n",
       "      <td>NaN</td>\n",
       "      <td>NaN</td>\n",
       "      <td>0.000000</td>\n",
       "      <td>NaN</td>\n",
       "      <td>19.000000</td>\n",
       "      <td>NaN</td>\n",
       "      <td>161.000000</td>\n",
       "      <td>NaN</td>\n",
       "      <td>5.572200e+04</td>\n",
       "    </tr>\n",
       "    <tr>\n",
       "      <th>20%</th>\n",
       "      <td>NaN</td>\n",
       "      <td>NaN</td>\n",
       "      <td>4.000000</td>\n",
       "      <td>NaN</td>\n",
       "      <td>23.000000</td>\n",
       "      <td>NaN</td>\n",
       "      <td>195.000000</td>\n",
       "      <td>NaN</td>\n",
       "      <td>9.472760e+05</td>\n",
       "    </tr>\n",
       "    <tr>\n",
       "      <th>40%</th>\n",
       "      <td>NaN</td>\n",
       "      <td>NaN</td>\n",
       "      <td>9.000000</td>\n",
       "      <td>NaN</td>\n",
       "      <td>25.000000</td>\n",
       "      <td>NaN</td>\n",
       "      <td>212.000000</td>\n",
       "      <td>NaN</td>\n",
       "      <td>1.638754e+06</td>\n",
       "    </tr>\n",
       "    <tr>\n",
       "      <th>50%</th>\n",
       "      <td>NaN</td>\n",
       "      <td>NaN</td>\n",
       "      <td>12.000000</td>\n",
       "      <td>NaN</td>\n",
       "      <td>26.000000</td>\n",
       "      <td>NaN</td>\n",
       "      <td>220.000000</td>\n",
       "      <td>NaN</td>\n",
       "      <td>2.515440e+06</td>\n",
       "    </tr>\n",
       "    <tr>\n",
       "      <th>60%</th>\n",
       "      <td>NaN</td>\n",
       "      <td>NaN</td>\n",
       "      <td>17.000000</td>\n",
       "      <td>NaN</td>\n",
       "      <td>27.000000</td>\n",
       "      <td>NaN</td>\n",
       "      <td>228.000000</td>\n",
       "      <td>NaN</td>\n",
       "      <td>3.429934e+06</td>\n",
       "    </tr>\n",
       "    <tr>\n",
       "      <th>80%</th>\n",
       "      <td>NaN</td>\n",
       "      <td>NaN</td>\n",
       "      <td>30.000000</td>\n",
       "      <td>NaN</td>\n",
       "      <td>30.000000</td>\n",
       "      <td>NaN</td>\n",
       "      <td>242.400000</td>\n",
       "      <td>NaN</td>\n",
       "      <td>7.838202e+06</td>\n",
       "    </tr>\n",
       "    <tr>\n",
       "      <th>max</th>\n",
       "      <td>NaN</td>\n",
       "      <td>NaN</td>\n",
       "      <td>99.000000</td>\n",
       "      <td>NaN</td>\n",
       "      <td>40.000000</td>\n",
       "      <td>NaN</td>\n",
       "      <td>279.000000</td>\n",
       "      <td>NaN</td>\n",
       "      <td>2.287500e+07</td>\n",
       "    </tr>\n",
       "  </tbody>\n",
       "</table>\n",
       "</div>"
      ],
      "text/plain": [
       "                 Name                  Team      Number Position         Age  \\\n",
       "count             364                   364  364.000000      364  364.000000   \n",
       "unique            364                    30         NaN        5         NaN   \n",
       "top     Avery Bradley  New Orleans Pelicans         NaN       SG         NaN   \n",
       "freq                1                    16         NaN       87         NaN   \n",
       "mean              NaN                   NaN   16.829670      NaN   26.615385   \n",
       "std               NaN                   NaN   14.994162      NaN    4.233591   \n",
       "min               NaN                   NaN    0.000000      NaN   19.000000   \n",
       "20%               NaN                   NaN    4.000000      NaN   23.000000   \n",
       "40%               NaN                   NaN    9.000000      NaN   25.000000   \n",
       "50%               NaN                   NaN   12.000000      NaN   26.000000   \n",
       "60%               NaN                   NaN   17.000000      NaN   27.000000   \n",
       "80%               NaN                   NaN   30.000000      NaN   30.000000   \n",
       "max               NaN                   NaN   99.000000      NaN   40.000000   \n",
       "\n",
       "       Height      Weight   College        Salary  \n",
       "count     364  364.000000       364  3.640000e+02  \n",
       "unique     17         NaN       115           NaN  \n",
       "top       6-9         NaN  Kentucky           NaN  \n",
       "freq       49         NaN        22           NaN  \n",
       "mean      NaN  219.785714       NaN  4.620311e+06  \n",
       "std       NaN   24.793099       NaN  5.119716e+06  \n",
       "min       NaN  161.000000       NaN  5.572200e+04  \n",
       "20%       NaN  195.000000       NaN  9.472760e+05  \n",
       "40%       NaN  212.000000       NaN  1.638754e+06  \n",
       "50%       NaN  220.000000       NaN  2.515440e+06  \n",
       "60%       NaN  228.000000       NaN  3.429934e+06  \n",
       "80%       NaN  242.400000       NaN  7.838202e+06  \n",
       "max       NaN  279.000000       NaN  2.287500e+07  "
      ]
     },
     "execution_count": 17,
     "metadata": {},
     "output_type": "execute_result"
    }
   ],
   "source": [
    "# pandas describe() behavior for numeric dtypes\n",
    "import pandas as pd\n",
    "data = pd.read_csv('nba.csv')\n",
    "\n",
    "# removing null values to avoid errors\n",
    "data.dropna(inplace = True)\n",
    "\n",
    "# percentile list\n",
    "percentile = [.20, .40, .60, .80]\n",
    "\n",
    "# list of dtypes to include\n",
    "include = ['object', 'float', 'int']\n",
    "\n",
    "# calling describe method\n",
    "desc = data.describe(percentiles = percentile, include = include)\n",
    "\n",
    "#display\n",
    "desc   # For the columns with strings, NaN was returned for numeric operations\n"
   ]
  },
  {
   "cell_type": "code",
   "execution_count": 18,
   "id": "5750d6a5-6363-405e-9175-474596d5da46",
   "metadata": {},
   "outputs": [
    {
     "data": {
      "text/plain": [
       "count               364\n",
       "unique              364\n",
       "top       Avery Bradley\n",
       "freq                  1\n",
       "Name: Name, dtype: object"
      ]
     },
     "execution_count": 18,
     "metadata": {},
     "output_type": "execute_result"
    }
   ],
   "source": [
    "# Describing series of strings\n",
    "import pandas as pd\n",
    "\n",
    "# making data frame\n",
    "data = pd.read_csv('nba.csv')\n",
    "\n",
    "# removing null values to avoid errors\n",
    "data.dropna(inplace = True)\n",
    "\n",
    "# Calling describe method\n",
    "desc = data['Name'].describe()\n",
    "\n",
    "# display\n",
    "desc"
   ]
  },
  {
   "cell_type": "markdown",
   "id": "0dbf8ef8-e3ff-4a27-a6ba-84c69e6da1c8",
   "metadata": {},
   "source": [
    "##### Dealing with Rows and Columns in Pandas DataFrame\n",
    "We can perform basic operations on rows/columns like selecting, deleting, adding and renaming.\n",
    "###### Column Selection\n",
    "In order to select a column in Pandas DataFrame, we can either access the columns by calling them by their columns name."
   ]
  },
  {
   "cell_type": "code",
   "execution_count": 20,
   "id": "26090547-abee-41b4-a271-147f6f435f7a",
   "metadata": {},
   "outputs": [
    {
     "name": "stdout",
     "output_type": "stream",
     "text": [
      "     Name Qualification\n",
      "0     Jai           Msc\n",
      "1  Princi            MA\n",
      "2  Gaurav           MCA\n",
      "3    Anuj           Phd\n"
     ]
    }
   ],
   "source": [
    "# Example\n",
    "import pandas as pd\n",
    "\n",
    "data = {\n",
    "        'Name':['Jai', 'Princi', 'Gaurav', 'Anuj'],\n",
    "        'Age':[27, 24, 22, 32],\n",
    "        'Address':['Delhi', 'Kanpur', 'Allahabad', 'Kannauj'],\n",
    "        'Qualification':['Msc', 'MA', 'MCA', 'Phd']\n",
    "       }\n",
    "df = pd.DataFrame(data)\n",
    "\n",
    "print(df[['Name','Qualification']])\n",
    "\n",
    "\n",
    "\n"
   ]
  },
  {
   "cell_type": "markdown",
   "id": "a7d7e2bf-75cc-449d-ae89-35d61e17a35a",
   "metadata": {},
   "source": [
    "###### Other methonds of selecting multiple columns in a DataFrame\n",
    "- using Basic Method - the one described above.\n",
    "- using loc[]\n",
    "- using iloc[]\n",
    "- using .ix"
   ]
  },
  {
   "cell_type": "code",
   "execution_count": 26,
   "id": "2a63413e-088a-43ae-a891-30377283795b",
   "metadata": {},
   "outputs": [
    {
     "data": {
      "text/html": [
       "<div>\n",
       "<style scoped>\n",
       "    .dataframe tbody tr th:only-of-type {\n",
       "        vertical-align: middle;\n",
       "    }\n",
       "\n",
       "    .dataframe tbody tr th {\n",
       "        vertical-align: top;\n",
       "    }\n",
       "\n",
       "    .dataframe thead th {\n",
       "        text-align: right;\n",
       "    }\n",
       "</style>\n",
       "<table border=\"1\" class=\"dataframe\">\n",
       "  <thead>\n",
       "    <tr style=\"text-align: right;\">\n",
       "      <th></th>\n",
       "      <th>Age</th>\n",
       "      <th>Address</th>\n",
       "      <th>Qualification</th>\n",
       "    </tr>\n",
       "  </thead>\n",
       "  <tbody>\n",
       "    <tr>\n",
       "      <th>0</th>\n",
       "      <td>27</td>\n",
       "      <td>Delhi</td>\n",
       "      <td>Msc</td>\n",
       "    </tr>\n",
       "    <tr>\n",
       "      <th>1</th>\n",
       "      <td>24</td>\n",
       "      <td>Kanpur</td>\n",
       "      <td>MA</td>\n",
       "    </tr>\n",
       "    <tr>\n",
       "      <th>2</th>\n",
       "      <td>22</td>\n",
       "      <td>Allahabad</td>\n",
       "      <td>MCA</td>\n",
       "    </tr>\n",
       "    <tr>\n",
       "      <th>3</th>\n",
       "      <td>32</td>\n",
       "      <td>Kannauj</td>\n",
       "      <td>Phd</td>\n",
       "    </tr>\n",
       "  </tbody>\n",
       "</table>\n",
       "</div>"
      ],
      "text/plain": [
       "   Age    Address Qualification\n",
       "0   27      Delhi           Msc\n",
       "1   24     Kanpur            MA\n",
       "2   22  Allahabad           MCA\n",
       "3   32    Kannauj           Phd"
      ]
     },
     "execution_count": 26,
     "metadata": {},
     "output_type": "execute_result"
    }
   ],
   "source": [
    "# Another example of using basic method\n",
    "import pandas as pd\n",
    "\n",
    "data = {\n",
    "        'Name':['Jai', 'Princi', 'Gaurav', 'Anuj'],\n",
    "        'Age':[27, 24, 22, 32],\n",
    "        'Address':['Delhi', 'Kanpur', 'Allahabad', 'Kannauj'],\n",
    "        'Qualification':['Msc', 'MA', 'MCA', 'Phd']\n",
    "        }\n",
    "df = pd.DataFrame(data)\n",
    "df[df.columns[1:4]] # using DataFrame slicing"
   ]
  },
  {
   "cell_type": "markdown",
   "id": "f484e090-5451-4294-ba6a-72be366731d2",
   "metadata": {},
   "source": [
    "##### select multiple columns in a pandas DataFrame using loc[]\n"
   ]
  },
  {
   "cell_type": "code",
   "execution_count": 48,
   "id": "6564b499-4577-4b02-934a-c60bbe401598",
   "metadata": {},
   "outputs": [
    {
     "data": {
      "text/html": [
       "<div>\n",
       "<style scoped>\n",
       "    .dataframe tbody tr th:only-of-type {\n",
       "        vertical-align: middle;\n",
       "    }\n",
       "\n",
       "    .dataframe tbody tr th {\n",
       "        vertical-align: top;\n",
       "    }\n",
       "\n",
       "    .dataframe thead th {\n",
       "        text-align: right;\n",
       "    }\n",
       "</style>\n",
       "<table border=\"1\" class=\"dataframe\">\n",
       "  <thead>\n",
       "    <tr style=\"text-align: right;\">\n",
       "      <th></th>\n",
       "      <th>Name</th>\n",
       "      <th>Address</th>\n",
       "    </tr>\n",
       "  </thead>\n",
       "  <tbody>\n",
       "    <tr>\n",
       "      <th>1</th>\n",
       "      <td>Princi</td>\n",
       "      <td>Kanpur</td>\n",
       "    </tr>\n",
       "    <tr>\n",
       "      <th>2</th>\n",
       "      <td>Gaurav</td>\n",
       "      <td>Allahabad</td>\n",
       "    </tr>\n",
       "    <tr>\n",
       "      <th>3</th>\n",
       "      <td>Anuj</td>\n",
       "      <td>Kannauj</td>\n",
       "    </tr>\n",
       "  </tbody>\n",
       "</table>\n",
       "</div>"
      ],
      "text/plain": [
       "     Name    Address\n",
       "1  Princi     Kanpur\n",
       "2  Gaurav  Allahabad\n",
       "3    Anuj    Kannauj"
      ]
     },
     "execution_count": 48,
     "metadata": {},
     "output_type": "execute_result"
    }
   ],
   "source": [
    "# Example\n",
    "import pandas as pd\n",
    "\n",
    "data = {\n",
    "        'Name':['Jai', 'Princi', 'Gaurav', 'Anuj'],\n",
    "        'Age':[27, 24, 22, 32],\n",
    "        'Address':['Delhi', 'Kanpur', 'Allahabad', 'Kannauj'],\n",
    "        'Qualification':['Msc', 'MA', 'MCA', 'Phd']\n",
    "        }\n",
    "df = pd.DataFrame(data)\n",
    "\n",
    "# select three rows and two columns                \n",
    "df.loc[1:3,['Name', 'Address']]\n"
   ]
  },
  {
   "cell_type": "code",
   "execution_count": 38,
   "id": "29e1c88b-694e-4173-991f-de03af1cd2de",
   "metadata": {},
   "outputs": [
    {
     "data": {
      "text/html": [
       "<div>\n",
       "<style scoped>\n",
       "    .dataframe tbody tr th:only-of-type {\n",
       "        vertical-align: middle;\n",
       "    }\n",
       "\n",
       "    .dataframe tbody tr th {\n",
       "        vertical-align: top;\n",
       "    }\n",
       "\n",
       "    .dataframe thead th {\n",
       "        text-align: right;\n",
       "    }\n",
       "</style>\n",
       "<table border=\"1\" class=\"dataframe\">\n",
       "  <thead>\n",
       "    <tr style=\"text-align: right;\">\n",
       "      <th></th>\n",
       "      <th>Name</th>\n",
       "      <th>Age</th>\n",
       "      <th>Address</th>\n",
       "      <th>Qualification</th>\n",
       "    </tr>\n",
       "  </thead>\n",
       "  <tbody>\n",
       "    <tr>\n",
       "      <th>0</th>\n",
       "      <td>Jai</td>\n",
       "      <td>27</td>\n",
       "      <td>Delhi</td>\n",
       "      <td>Msc</td>\n",
       "    </tr>\n",
       "    <tr>\n",
       "      <th>1</th>\n",
       "      <td>Princi</td>\n",
       "      <td>24</td>\n",
       "      <td>Kanpur</td>\n",
       "      <td>MA</td>\n",
       "    </tr>\n",
       "    <tr>\n",
       "      <th>2</th>\n",
       "      <td>Gaurav</td>\n",
       "      <td>22</td>\n",
       "      <td>Allahabad</td>\n",
       "      <td>MCA</td>\n",
       "    </tr>\n",
       "    <tr>\n",
       "      <th>3</th>\n",
       "      <td>Anuj</td>\n",
       "      <td>32</td>\n",
       "      <td>Kannauj</td>\n",
       "      <td>Phd</td>\n",
       "    </tr>\n",
       "  </tbody>\n",
       "</table>\n",
       "</div>"
      ],
      "text/plain": [
       "     Name  Age    Address Qualification\n",
       "0     Jai   27      Delhi           Msc\n",
       "1  Princi   24     Kanpur            MA\n",
       "2  Gaurav   22  Allahabad           MCA\n",
       "3    Anuj   32    Kannauj           Phd"
      ]
     },
     "execution_count": 38,
     "metadata": {},
     "output_type": "execute_result"
    }
   ],
   "source": [
    "df.loc[[1:3]"
   ]
  },
  {
   "cell_type": "markdown",
   "id": "dbd74fa0-d897-4c44-80ab-b3b2afd65436",
   "metadata": {},
   "source": [
    "##### Select one to another columns\n"
   ]
  },
  {
   "cell_type": "code",
   "execution_count": 39,
   "id": "145b2094-a2c9-4743-a5ad-405b3d8abd22",
   "metadata": {},
   "outputs": [
    {
     "data": {
      "text/html": [
       "<div>\n",
       "<style scoped>\n",
       "    .dataframe tbody tr th:only-of-type {\n",
       "        vertical-align: middle;\n",
       "    }\n",
       "\n",
       "    .dataframe tbody tr th {\n",
       "        vertical-align: top;\n",
       "    }\n",
       "\n",
       "    .dataframe thead th {\n",
       "        text-align: right;\n",
       "    }\n",
       "</style>\n",
       "<table border=\"1\" class=\"dataframe\">\n",
       "  <thead>\n",
       "    <tr style=\"text-align: right;\">\n",
       "      <th></th>\n",
       "      <th>Name</th>\n",
       "      <th>Age</th>\n",
       "      <th>Address</th>\n",
       "    </tr>\n",
       "  </thead>\n",
       "  <tbody>\n",
       "    <tr>\n",
       "      <th>0</th>\n",
       "      <td>Jai</td>\n",
       "      <td>27</td>\n",
       "      <td>Delhi</td>\n",
       "    </tr>\n",
       "    <tr>\n",
       "      <th>1</th>\n",
       "      <td>Princi</td>\n",
       "      <td>24</td>\n",
       "      <td>Kanpur</td>\n",
       "    </tr>\n",
       "  </tbody>\n",
       "</table>\n",
       "</div>"
      ],
      "text/plain": [
       "     Name  Age Address\n",
       "0     Jai   27   Delhi\n",
       "1  Princi   24  Kanpur"
      ]
     },
     "execution_count": 39,
     "metadata": {},
     "output_type": "execute_result"
    }
   ],
   "source": [
    "# In this example, loc[] method is used to select column name i.e. 'Name' to 'Address'\n",
    "import pandas as pd\n",
    "\n",
    "data = {\n",
    "        'Name':['Jai', 'Princi', 'Gaurav', 'Anuj'],\n",
    "        'Age':[27, 24, 22, 32],\n",
    "        'Address':['Delhi', 'Kanpur', 'Allahabad', 'Kannauj'],\n",
    "        'Qualification':['Msc', 'MA', 'MCA', 'Phd']\n",
    "        }\n",
    "pd = pd.DataFrame(data)\n",
    "\n",
    "df.loc[0:1, 'Name':'Address']"
   ]
  },
  {
   "cell_type": "code",
   "execution_count": 49,
   "id": "ebfa436e-4a85-4f23-a821-dba8b8587ee1",
   "metadata": {},
   "outputs": [
    {
     "data": {
      "text/plain": [
       "Name               Jai\n",
       "Age                 27\n",
       "Address          Delhi\n",
       "Qualification      Msc\n",
       "Name: 0, dtype: object"
      ]
     },
     "execution_count": 49,
     "metadata": {},
     "output_type": "execute_result"
    }
   ],
   "source": [
    "# selecting the first row and all columns\n",
    "df.loc[0, :]"
   ]
  },
  {
   "cell_type": "markdown",
   "id": "b84523fa-d9ba-46b1-9024-56a5ffad4e07",
   "metadata": {},
   "source": [
    "##### Select multiple columns in pandas using iloc[]"
   ]
  },
  {
   "cell_type": "code",
   "execution_count": null,
   "id": "cd67acb6-859f-45b7-9a99-8db25abb34c2",
   "metadata": {},
   "outputs": [],
   "source": []
  }
 ],
 "metadata": {
  "kernelspec": {
   "display_name": "Python 3 (ipykernel)",
   "language": "python",
   "name": "python3"
  },
  "language_info": {
   "codemirror_mode": {
    "name": "ipython",
    "version": 3
   },
   "file_extension": ".py",
   "mimetype": "text/x-python",
   "name": "python",
   "nbconvert_exporter": "python",
   "pygments_lexer": "ipython3",
   "version": "3.12.3"
  }
 },
 "nbformat": 4,
 "nbformat_minor": 5
}
