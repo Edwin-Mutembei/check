{
 "cells": [
  {
   "cell_type": "markdown",
   "id": "e065e1c3-6dd1-448d-8d60-6683d36d3f8b",
   "metadata": {},
   "source": [
    "- **Indexing in Pandas**\n",
    "- Indexing in pandas means simply selecting particular rows and columns of data from a DataFrame.\n",
    "- Indexing can also be known as **Subset Selection**.\n",
    "- There are alot of ways to pull the elements,rows and columns from a DataFrame. Pandas support four types of Multi-axes indexing which are:\n",
    "  1. **Dataframe.[]**: also known as indexing operator.\n",
    "  2. **DataFrame.loc[]**: used for labels\n",
    "  3. **DataFrame.iloc[]**: used for positions or integer based\n",
    "  4. **DataFrame.ix[]**: used for both label and integer based\n",
    "- Collectively, they are called the **indexers**.\n",
    "- These are four function which help in getting the elements, rows and columns from a DataFrame.\n",
    "\n",
    "- **Indexing a DataFrame using indexing operator []:**\n",
    "- Indexing operator is used to refer to the square brackets following an objects. The .loc and .iloc indexers also use the indexing operator to make selections.\n",
    "\n",
    "- **Selecting a single column**\n",
    "- In order to select a single column, we simply put the name of the column in-between the brakets."
   ]
  },
  {
   "cell_type": "code",
   "execution_count": 2,
   "id": "b42ab7ac-5985-4289-baa7-98a3d1b1765f",
   "metadata": {},
   "outputs": [
    {
     "name": "stdout",
     "output_type": "stream",
     "text": [
      "Name\n",
      "Avery Bradley    25.0\n",
      "Jae Crowder      25.0\n",
      "John Holland     27.0\n",
      "R.J. Hunter      22.0\n",
      "Jonas Jerebko    29.0\n",
      "                 ... \n",
      "Shelvin Mack     26.0\n",
      "Raul Neto        24.0\n",
      "Tibor Pleiss     26.0\n",
      "Jeff Withey      26.0\n",
      "NaN               NaN\n",
      "Name: Age, Length: 458, dtype: float64\n"
     ]
    }
   ],
   "source": [
    "# Example\n",
    "import pandas as pd\n",
    "\n",
    "data = pd.read_csv('nba.csv', index_col ='Name')\n",
    "\n",
    "# retrieving columns by indexing operator\n",
    "first =data['Age']\n",
    "print(first)"
   ]
  },
  {
   "cell_type": "markdown",
   "id": "ef1c3308-ff00-4c96-be7a-8f591cd4a579",
   "metadata": {},
   "source": [
    "- **Selecting multiple columns**\n",
    "- In order to select multiple columns, we have to pass a list of columns in an indexing operator."
   ]
  },
  {
   "cell_type": "code",
   "execution_count": 5,
   "id": "2a1236ce-b14e-44a2-9107-37bd906d9088",
   "metadata": {},
   "outputs": [
    {
     "name": "stdout",
     "output_type": "stream",
     "text": [
      "                Age            College     Salary\n",
      "Name                                             \n",
      "Avery Bradley  25.0              Texas  7730337.0\n",
      "Jae Crowder    25.0          Marquette  6796117.0\n",
      "John Holland   27.0  Boston University        NaN\n",
      "R.J. Hunter    22.0      Georgia State  1148640.0\n",
      "Jonas Jerebko  29.0                NaN  5000000.0\n",
      "...             ...                ...        ...\n",
      "Shelvin Mack   26.0             Butler  2433333.0\n",
      "Raul Neto      24.0                NaN   900000.0\n",
      "Tibor Pleiss   26.0                NaN  2900000.0\n",
      "Jeff Withey    26.0             Kansas   947276.0\n",
      "NaN             NaN                NaN        NaN\n",
      "\n",
      "[458 rows x 3 columns]\n"
     ]
    }
   ],
   "source": [
    "#Example\n",
    "import pandas as pd\n",
    "\n",
    "data = pd.read_csv('nba.csv', index_col = 'Name')\n",
    "\n",
    "# Retrieving multiple colummns by indexing operator\n",
    "first = data[['Age','College','Salary']]\n",
    "print(first)"
   ]
  },
  {
   "cell_type": "code",
   "execution_count": null,
   "id": "b33bc03a-2465-47df-aacc-9dc8276fd756",
   "metadata": {},
   "outputs": [],
   "source": []
  },
  {
   "cell_type": "markdown",
   "id": "6af86377-42eb-476a-97b5-7bda2032d899",
   "metadata": {},
   "source": [
    "- **Indexing a DataFrame using .loc[]:**\n",
    "- This function select data by the **label** of the rows and columns.\n",
    "- The df.loc indexer selects data in a different way than just the indexing operator.\n",
    "- It can select subsets of rows or columns and it can also simultaneously select subsets of rows and columns.\n",
    "\n",
    "- **Selecting a single row**\n",
    "- In order to select a single row using .loc[], we put a single row label in a .loc function."
   ]
  },
  {
   "cell_type": "code",
   "execution_count": 6,
   "id": "320e8342-2023-468f-9a21-49c0218b17c7",
   "metadata": {},
   "outputs": [
    {
     "name": "stdout",
     "output_type": "stream",
     "text": [
      "Team        Boston Celtics\n",
      "Number                 0.0\n",
      "Position                PG\n",
      "Age                   25.0\n",
      "Height                 6-2\n",
      "Weight               180.0\n",
      "College              Texas\n",
      "Salary           7730337.0\n",
      "Name: Avery Bradley, dtype: object \n",
      "\n",
      "\n",
      " Team        Boston Celtics\n",
      "Number                28.0\n",
      "Position                SG\n",
      "Age                   22.0\n",
      "Height                 6-5\n",
      "Weight               185.0\n",
      "College      Georgia State\n",
      "Salary           1148640.0\n",
      "Name: R.J. Hunter, dtype: object\n"
     ]
    }
   ],
   "source": [
    "# Example\n",
    "import pandas as pd\n",
    "\n",
    "# making dataframe from csv file\n",
    "data = pd.read_csv('nba.csv',index_col = 'Name')\n",
    "\n",
    "# retrieving row by loc method\n",
    "first = data.loc['Avery Bradley']\n",
    "second = data.loc['R.J. Hunter']\n",
    "\n",
    "print(first, '\\n\\n\\n', second)"
   ]
  },
  {
   "cell_type": "markdown",
   "id": "72b34be0-ef71-4b62-87ea-edc3b46d5254",
   "metadata": {},
   "source": [
    "- **Selecting multiple rows**\n",
    "- In order to select multiple rows, we put the rows labels in a list and pass that to .loc function."
   ]
  },
  {
   "cell_type": "code",
   "execution_count": 7,
   "id": "9f2ae2cd-3c8c-4745-9096-0c45d6c2083c",
   "metadata": {},
   "outputs": [
    {
     "name": "stdout",
     "output_type": "stream",
     "text": [
      "                         Team  Number Position   Age Height  Weight  \\\n",
      "Name                                                                  \n",
      "Avery Bradley  Boston Celtics     0.0       PG  25.0    6-2   180.0   \n",
      "R.J. Hunter    Boston Celtics    28.0       SG  22.0    6-5   185.0   \n",
      "\n",
      "                     College     Salary  \n",
      "Name                                     \n",
      "Avery Bradley          Texas  7730337.0  \n",
      "R.J. Hunter    Georgia State  1148640.0  \n"
     ]
    }
   ],
   "source": [
    "# Example\n",
    "import pandas as pd\n",
    "\n",
    "data = pd.read_csv('nba.csv', index_col = 'Name')\n",
    "\n",
    "# retrieving multiple rows by loc method\n",
    "first = data.loc[['Avery Bradley', 'R.J. Hunter']]\n",
    "\n",
    "print(first)"
   ]
  },
  {
   "cell_type": "markdown",
   "id": "bbecf094-e356-46a3-95f5-761424b0ec37",
   "metadata": {},
   "source": [
    "- **Selecting multiple rows and multiple columns**\n",
    "- In order to select multiple rows and columns, we select the rows and columns of interest and put them in separate list. For instance:\n",
    "   - DataFrame.loc[['row1','row2',---, 'rown'], ['column1','column2',----,'columnz']]\n"
   ]
  },
  {
   "cell_type": "code",
   "execution_count": 10,
   "id": "c6218b1d-fa72-475d-b628-87e0829a02c5",
   "metadata": {},
   "outputs": [
    {
     "name": "stdout",
     "output_type": "stream",
     "text": [
      "                         Team  Number Position\n",
      "Name                                          \n",
      "Avery Bradley  Boston Celtics     0.0       PG\n",
      "R.J. Hunter    Boston Celtics    28.0       SG\n"
     ]
    }
   ],
   "source": [
    "# Example\n",
    "import pandas as pd\n",
    "\n",
    "data = pd.read_csv('nba.csv', index_col = 'Name')\n",
    "# retrieving two rows and three columns by loc method\n",
    "first = data.loc[['Avery Bradley', 'R.J. Hunter'], ['Team','Number','Position']]\n",
    "\n",
    "print(first)"
   ]
  },
  {
   "cell_type": "markdown",
   "id": "aa949777-358c-46c0-9663-c792859aaa86",
   "metadata": {},
   "source": [
    "- **Selecting all of the rows and some columns**\n",
    "- In order to select all of the rows and some columnns, we use single colon [:] to select all of rows and list of some columns which we want to select i.e.\n",
    "  - Dataframe.loc[:, ['column1,'column2,_____,'columnz']]"
   ]
  },
  {
   "cell_type": "code",
   "execution_count": 11,
   "id": "20a11a26-f286-4710-b7ce-ecf70423f4e1",
   "metadata": {},
   "outputs": [
    {
     "name": "stdout",
     "output_type": "stream",
     "text": [
      "                         Team  Number Position\n",
      "Name                                          \n",
      "Avery Bradley  Boston Celtics     0.0       PG\n",
      "Jae Crowder    Boston Celtics    99.0       SF\n",
      "John Holland   Boston Celtics    30.0       SG\n",
      "R.J. Hunter    Boston Celtics    28.0       SG\n",
      "Jonas Jerebko  Boston Celtics     8.0       PF\n",
      "...                       ...     ...      ...\n",
      "Shelvin Mack        Utah Jazz     8.0       PG\n",
      "Raul Neto           Utah Jazz    25.0       PG\n",
      "Tibor Pleiss        Utah Jazz    21.0        C\n",
      "Jeff Withey         Utah Jazz    24.0        C\n",
      "NaN                       NaN     NaN      NaN\n",
      "\n",
      "[458 rows x 3 columns]\n"
     ]
    }
   ],
   "source": [
    "# Example\n",
    "import pandas as pd\n",
    "\n",
    "data = pd.read_csv('nba.csv', index_col = 'Name')\n",
    "\n",
    "# retrieving all rows and some columns by loc method\n",
    "first = data.loc[:,['Team','Number','Position']]\n",
    "\n",
    "print(first)"
   ]
  },
  {
   "cell_type": "markdown",
   "id": "736a61a8-0883-4ed4-ab46-9f1334d82e86",
   "metadata": {},
   "source": [
    "- **Indexing a DataFrame using .iloc[]:**\n",
    "- This function allows us to retrieve rows and columns by position.\n",
    "- In order to do that, we'll need to specify the positions of the rows that we want, and the positions of the columns that we want as well.\n",
    "- The df.iloc indexer is very similar to df.loc but only uses integer locations to make its selections.\n",
    "\n",
    "- **Selecting a single row**\n",
    "- In order to select a single row using .iloc[], we can pass a single integer to .iloc[] function."
   ]
  },
  {
   "cell_type": "code",
   "execution_count": 14,
   "id": "b13b7874-ba85-4872-afc7-cafad9d04afb",
   "metadata": {},
   "outputs": [
    {
     "name": "stdout",
     "output_type": "stream",
     "text": [
      "Team        Boston Celtics\n",
      "Number                28.0\n",
      "Position                SG\n",
      "Age                   22.0\n",
      "Height                 6-5\n",
      "Weight               185.0\n",
      "College      Georgia State\n",
      "Salary           1148640.0\n",
      "Name: R.J. Hunter, dtype: object\n"
     ]
    }
   ],
   "source": [
    "# Example\n",
    "import pandas as pd\n",
    "\n",
    "data = pd.read_csv('nba.csv', index_col  = 'Name')\n",
    "\n",
    "# retrieving rows by iloc method\n",
    "row2 = data.iloc[3]\n",
    "\n",
    "print(row2)"
   ]
  },
  {
   "cell_type": "markdown",
   "id": "ada43e97-2b1f-4ac1-8eff-0db1eb8b848b",
   "metadata": {},
   "source": [
    "- **Selecting multiple rows**\n",
    "- In order to select multiple rows, we can pass a list of integer to .iloc[] function."
   ]
  },
  {
   "cell_type": "code",
   "execution_count": 15,
   "id": "164c638e-d54f-4665-8b5f-885f8983e3c4",
   "metadata": {},
   "outputs": [
    {
     "data": {
      "text/html": [
       "<div>\n",
       "<style scoped>\n",
       "    .dataframe tbody tr th:only-of-type {\n",
       "        vertical-align: middle;\n",
       "    }\n",
       "\n",
       "    .dataframe tbody tr th {\n",
       "        vertical-align: top;\n",
       "    }\n",
       "\n",
       "    .dataframe thead th {\n",
       "        text-align: right;\n",
       "    }\n",
       "</style>\n",
       "<table border=\"1\" class=\"dataframe\">\n",
       "  <thead>\n",
       "    <tr style=\"text-align: right;\">\n",
       "      <th></th>\n",
       "      <th>Team</th>\n",
       "      <th>Number</th>\n",
       "      <th>Position</th>\n",
       "      <th>Age</th>\n",
       "      <th>Height</th>\n",
       "      <th>Weight</th>\n",
       "      <th>College</th>\n",
       "      <th>Salary</th>\n",
       "    </tr>\n",
       "    <tr>\n",
       "      <th>Name</th>\n",
       "      <th></th>\n",
       "      <th></th>\n",
       "      <th></th>\n",
       "      <th></th>\n",
       "      <th></th>\n",
       "      <th></th>\n",
       "      <th></th>\n",
       "      <th></th>\n",
       "    </tr>\n",
       "  </thead>\n",
       "  <tbody>\n",
       "    <tr>\n",
       "      <th>R.J. Hunter</th>\n",
       "      <td>Boston Celtics</td>\n",
       "      <td>28.0</td>\n",
       "      <td>SG</td>\n",
       "      <td>22.0</td>\n",
       "      <td>6-5</td>\n",
       "      <td>185.0</td>\n",
       "      <td>Georgia State</td>\n",
       "      <td>1148640.0</td>\n",
       "    </tr>\n",
       "    <tr>\n",
       "      <th>Amir Johnson</th>\n",
       "      <td>Boston Celtics</td>\n",
       "      <td>90.0</td>\n",
       "      <td>PF</td>\n",
       "      <td>29.0</td>\n",
       "      <td>6-9</td>\n",
       "      <td>240.0</td>\n",
       "      <td>NaN</td>\n",
       "      <td>12000000.0</td>\n",
       "    </tr>\n",
       "    <tr>\n",
       "      <th>Kelly Olynyk</th>\n",
       "      <td>Boston Celtics</td>\n",
       "      <td>41.0</td>\n",
       "      <td>C</td>\n",
       "      <td>25.0</td>\n",
       "      <td>7-0</td>\n",
       "      <td>238.0</td>\n",
       "      <td>Gonzaga</td>\n",
       "      <td>2165160.0</td>\n",
       "    </tr>\n",
       "  </tbody>\n",
       "</table>\n",
       "</div>"
      ],
      "text/plain": [
       "                        Team  Number Position   Age Height  Weight  \\\n",
       "Name                                                                 \n",
       "R.J. Hunter   Boston Celtics    28.0       SG  22.0    6-5   185.0   \n",
       "Amir Johnson  Boston Celtics    90.0       PF  29.0    6-9   240.0   \n",
       "Kelly Olynyk  Boston Celtics    41.0        C  25.0    7-0   238.0   \n",
       "\n",
       "                    College      Salary  \n",
       "Name                                     \n",
       "R.J. Hunter   Georgia State   1148640.0  \n",
       "Amir Johnson            NaN  12000000.0  \n",
       "Kelly Olynyk        Gonzaga   2165160.0  "
      ]
     },
     "execution_count": 15,
     "metadata": {},
     "output_type": "execute_result"
    }
   ],
   "source": [
    "# Example\n",
    "import pandas as pd\n",
    "\n",
    "data = pd.read_csv('nba.csv', index_col = 'Name')\n",
    "\n",
    "# retrieving multiple rows by iloc method\n",
    "row2 = data.iloc[[3,5,7]]\n",
    "\n",
    "row2"
   ]
  },
  {
   "cell_type": "markdown",
   "id": "6079cc6e-beb6-4d4d-b238-9a6cbe12c096",
   "metadata": {},
   "source": [
    "- **Selecting two rows and two columns**\n",
    "- In order to select two rows and two columns, we create a list of 2 integer for rows and list of 2 integer for columns then pass to a .iloc[] function."
   ]
  },
  {
   "cell_type": "code",
   "execution_count": 18,
   "id": "14ec5b1b-df5d-440c-b025-23afb00a5a17",
   "metadata": {},
   "outputs": [
    {
     "name": "stdout",
     "output_type": "stream",
     "text": [
      "               Number Position\n",
      "Name                          \n",
      "R.J. Hunter      28.0       SG\n",
      "Jonas Jerebko     8.0       PF\n"
     ]
    }
   ],
   "source": [
    "# Example\n",
    "import pandas as pd\n",
    "\n",
    "data = pd.read_csv('nba.csv', index_col = 'Name')\n",
    "\n",
    "# retrieving two rows and two columns by iloc method\n",
    "row2 = data.iloc[[3,4],[1,2]]\n",
    "\n",
    "print(row2)"
   ]
  },
  {
   "cell_type": "markdown",
   "id": "df263824-f5a1-4dad-a333-d010fd7efa0e",
   "metadata": {},
   "source": [
    "- **Selecting all the rows and some columns**\n",
    "- In order to select all rows and some columns, we use single colon [:] to select all the rows and for columns we male a list of integer then pass to a .iloc[] function."
   ]
  },
  {
   "cell_type": "code",
   "execution_count": 21,
   "id": "e13ee832-38ee-4a2a-b4a6-5de2c1003252",
   "metadata": {},
   "outputs": [
    {
     "name": "stdout",
     "output_type": "stream",
     "text": [
      "               Number Position\n",
      "Name                          \n",
      "Avery Bradley     0.0       PG\n",
      "Jae Crowder      99.0       SF\n",
      "John Holland     30.0       SG\n",
      "R.J. Hunter      28.0       SG\n",
      "Jonas Jerebko     8.0       PF\n",
      "...               ...      ...\n",
      "Shelvin Mack      8.0       PG\n",
      "Raul Neto        25.0       PG\n",
      "Tibor Pleiss     21.0        C\n",
      "Jeff Withey      24.0        C\n",
      "NaN               NaN      NaN\n",
      "\n",
      "[458 rows x 2 columns]\n"
     ]
    }
   ],
   "source": [
    "# Example\n",
    "import pandas as pd\n",
    "\n",
    "data = pd.read_csv('nba.csv', index_col = 'Name')\n",
    "\n",
    "# retrieving all rows and some columns by iloc method\n",
    "row2 = data.iloc[:,[1,2]]\n",
    "\n",
    "print(row2)"
   ]
  },
  {
   "cell_type": "markdown",
   "id": "7b9faa50-cd31-43bc-9a00-4f5e9c81e9a9",
   "metadata": {},
   "source": [
    "**Pandas functions and their description**\n",
    "- **DataFrame.head():** Returns top n rows of a dataframe\n",
    "- **DataFrame.tail():** Returns bottom n rows of a dataframe.\n",
    "- **DataFrame.at[]:** Access a single value for a row/column pair by a label.\n",
    "- **DataFrame.iat[]:** Access a single value for a row/column pair by integer position\n",
    "- **DataFrame.lookup():** label-based 'fancy indexing' function for DataFrame.\n",
    "- **DataFrame.pop():** Return item and drop from frame\n",
    "- **DataFrame.xs():** Returns a cross-section (row(s) or column(s)) from the DataFrame.\n",
    "- **DataFrame.get():** Get item from object for given key (DataFrame column, panel slice, etc.)\n",
    "- **DataFrame.isin():** Returns boolean DataFrame showing whether each element in the DataFrame is contained in values.\n",
    "- **DataFrame.where();** Return an object of same shape as self and whose corresponding entries are from self where cond is True and otherwise are from other.\n",
    "- **DataFrame.mask():** Return an object of same shape as self and whose corresponding entries are from self where cond is False and otherwise are from other.\n",
    "- **DataFrame.query():** Qyuery the columns of a frame with a boolean expression.\n",
    "- **Dataframe.insert():** Insert column into DataFrame at specified location.\n",
    "  "
   ]
  },
  {
   "cell_type": "code",
   "execution_count": null,
   "id": "1a33a879-5a21-4ebd-8c0c-da0148ced87c",
   "metadata": {},
   "outputs": [],
   "source": []
  }
 ],
 "metadata": {
  "kernelspec": {
   "display_name": "Python 3 (ipykernel)",
   "language": "python",
   "name": "python3"
  },
  "language_info": {
   "codemirror_mode": {
    "name": "ipython",
    "version": 3
   },
   "file_extension": ".py",
   "mimetype": "text/x-python",
   "name": "python",
   "nbconvert_exporter": "python",
   "pygments_lexer": "ipython3",
   "version": "3.12.3"
  }
 },
 "nbformat": 4,
 "nbformat_minor": 5
}
