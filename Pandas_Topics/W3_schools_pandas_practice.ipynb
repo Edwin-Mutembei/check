{
 "cells": [
  {
   "cell_type": "markdown",
   "id": "bace199b-0897-4dd6-bbef-7802f238071c",
   "metadata": {},
   "source": [
    "##### Pandas Series\n",
    "A pandas series is a one dimentional array holding data for any type i.e. like a column in the table."
   ]
  },
  {
   "cell_type": "code",
   "execution_count": 3,
   "id": "90f3f770-fe64-4c81-8c17-c2413cc68d0f",
   "metadata": {},
   "outputs": [
    {
     "name": "stdout",
     "output_type": "stream",
     "text": [
      "0    1\n",
      "1    3\n",
      "2    4\n",
      "3    5\n",
      "4    6\n",
      "dtype: int64\n"
     ]
    }
   ],
   "source": [
    "# Example\n",
    "import pandas as pd\n",
    "nums = [1,3,4,5,6]\n",
    "example_series = pd.Series(nums)\n",
    "print(example_series)"
   ]
  },
  {
   "cell_type": "markdown",
   "id": "9a8c52fb-f6ef-4ef6-b81e-238c9e064276",
   "metadata": {},
   "source": [
    "##### Labels\n",
    "If nothing is specified, the values are labeled with their index number. This label can be used to access a specified value. With index argument, you can name your own labels."
   ]
  },
  {
   "cell_type": "code",
   "execution_count": 6,
   "id": "d52cee74-4770-45ee-b8fe-f73509a56a41",
   "metadata": {},
   "outputs": [
    {
     "name": "stdout",
     "output_type": "stream",
     "text": [
      "A    1\n",
      "B    3\n",
      "C    4\n",
      "D    5\n",
      "E    6\n",
      "dtype: int64\n"
     ]
    }
   ],
   "source": [
    "# Creating labels\n",
    "import pandas as pd\n",
    "nums = [1,3,4,5,6]\n",
    "example_series = pd.Series(nums, index = ['A','B','C','D','E'])\n",
    "print(example_series)\n"
   ]
  },
  {
   "cell_type": "markdown",
   "id": "a5c2b63e-a763-4ca0-9ecf-5407dc6962c3",
   "metadata": {},
   "source": [
    "##### Key/Value Objects as Series\n",
    "Key/value object like a dictionary can be used to create a Series. The keys of the dictionary become the labels."
   ]
  },
  {
   "cell_type": "code",
   "execution_count": 8,
   "id": "a201fb36-32f6-483c-b65c-b0dfb0fbe7b9",
   "metadata": {},
   "outputs": [
    {
     "name": "stdout",
     "output_type": "stream",
     "text": [
      "day1    30\n",
      "day2    35\n",
      "day3    32\n",
      "dtype: int64\n"
     ]
    }
   ],
   "source": [
    "# Example\n",
    "temp = { 'day1': 30, 'day2' : 35, 'day3' : 32}\n",
    "temp_series = pd.Series(temp)\n",
    "print(temp_series)"
   ]
  },
  {
   "cell_type": "markdown",
   "id": "75dc95d9-0692-454d-931d-f8ac1a56fb96",
   "metadata": {},
   "source": [
    "To select a subset of the dictionary, use the index argument and specify only the items you want to include in the Series."
   ]
  },
  {
   "cell_type": "code",
   "execution_count": 9,
   "id": "3fb77c58-a1cb-46d9-8025-b880209f468d",
   "metadata": {},
   "outputs": [
    {
     "name": "stdout",
     "output_type": "stream",
     "text": [
      "day2    35\n",
      "day3    32\n",
      "dtype: int64\n"
     ]
    }
   ],
   "source": [
    "temp = { 'day1': 30, 'day2' : 35, 'day3' : 32}\n",
    "temp_series = pd.Series(temp, index = ['day2','day3'])\n",
    "print(temp_series)\n",
    "                        "
   ]
  },
  {
   "cell_type": "markdown",
   "id": "9e3beb0c-d564-4297-9bd7-099e8fda5a53",
   "metadata": {},
   "source": [
    "##### DataFrames\n",
    "A Pandas DataFrame is a two dimentional data structure, like a two dimentional array, or a taxble with rows aand columns."
   ]
  },
  {
   "cell_type": "code",
   "execution_count": 14,
   "id": "07cf989c-bd3c-4dd1-b26c-a70c9881518c",
   "metadata": {},
   "outputs": [
    {
     "name": "stdout",
     "output_type": "stream",
     "text": [
      "   calories  duration\n",
      "0       420        50\n",
      "1       380        40\n",
      "2       390        45\n"
     ]
    }
   ],
   "source": [
    "# Example\n",
    "import pandas as pd\n",
    "data = {\n",
    "    \"calories\": [420, 380, 390],\n",
    "    \"duration\": [50, 40, 45]\n",
    "}\n",
    "\n",
    "# load data into a DataFrame object\n",
    "result = pd.DataFrame(data)\n",
    "\n",
    "print(result)\n",
    "    "
   ]
  },
  {
   "cell_type": "markdown",
   "id": "98f6727b-5bc5-4f88-8af4-4a3aa4548433",
   "metadata": {},
   "source": [
    "##### Locate Row\n",
    "Pandas use the loc attribute to return one or more specified row(s)."
   ]
  },
  {
   "cell_type": "code",
   "execution_count": 15,
   "id": "903ad401-1048-4425-a8b1-5a4ec48e50a7",
   "metadata": {},
   "outputs": [
    {
     "name": "stdout",
     "output_type": "stream",
     "text": [
      "calories    420\n",
      "duration     50\n",
      "Name: 0, dtype: int64\n"
     ]
    }
   ],
   "source": [
    "# Example\n",
    "print(result.loc[0])   # It returns a pandas series"
   ]
  },
  {
   "cell_type": "code",
   "execution_count": 19,
   "id": "e70affce-21bf-4416-bd1b-6c01a37620b5",
   "metadata": {},
   "outputs": [
    {
     "name": "stdout",
     "output_type": "stream",
     "text": [
      "   calories  duration\n",
      "0       420        50\n",
      "1       380        40\n"
     ]
    }
   ],
   "source": [
    "# To return more than one row, use a list of indexes\n",
    "print(result.loc[[0,1]])"
   ]
  },
  {
   "cell_type": "markdown",
   "id": "d79c140f-0afa-4578-8609-4353dec3feb9",
   "metadata": {},
   "source": [
    "##### Named Indexes"
   ]
  },
  {
   "cell_type": "code",
   "execution_count": 20,
   "id": "2dfb4e57-f7db-495e-b963-3dd0f3694e9a",
   "metadata": {},
   "outputs": [
    {
     "name": "stdout",
     "output_type": "stream",
     "text": [
      "      calories  duration\n",
      "day1       420        50\n",
      "day2       380        40\n",
      "day3       390        45\n"
     ]
    }
   ],
   "source": [
    "# with the index argument, you can name your own indexes\n",
    "import pandas as pd\n",
    "data = {\n",
    "    \"calories\": [420, 380, 390],\n",
    "    \"duration\": [50, 40, 45]\n",
    "}\n",
    "\n",
    "# load data into a DataFrame object\n",
    "result = pd.DataFrame(data, index = ['day1','day2','day3'])\n",
    "\n",
    "print(result)\n",
    "    "
   ]
  },
  {
   "cell_type": "markdown",
   "id": "e9083b64-95fc-43cd-91ad-9de48251872e",
   "metadata": {},
   "source": [
    "##### Locate Named Indexes\n",
    "use the named index in the loc attribute to return the specified row(s). \n"
   ]
  },
  {
   "cell_type": "code",
   "execution_count": 21,
   "id": "29e167cc-e419-4ff4-83f1-8b476e655162",
   "metadata": {},
   "outputs": [
    {
     "name": "stdout",
     "output_type": "stream",
     "text": [
      "calories    380\n",
      "duration     40\n",
      "Name: day2, dtype: int64\n"
     ]
    }
   ],
   "source": [
    "# Example to return row 2\n",
    "print(result.loc['day2'])"
   ]
  },
  {
   "cell_type": "markdown",
   "id": "de8f20eb-870c-401c-a127-4cdc2a8566d2",
   "metadata": {},
   "source": [
    "##### Load Files Into a DataFrame\n",
    "###### Read CSV Files"
   ]
  },
  {
   "cell_type": "code",
   "execution_count": 23,
   "id": "bbff2b88-83c9-4bcc-a0f1-2f4733de82ef",
   "metadata": {},
   "outputs": [
    {
     "name": "stdout",
     "output_type": "stream",
     "text": [
      "     Duration  Pulse  Maxpulse  Calories\n",
      "0          60    110       130     409.1\n",
      "1          60    117       145     479.0\n",
      "2          60    103       135     340.0\n",
      "3          45    109       175     282.4\n",
      "4          45    117       148     406.0\n",
      "..        ...    ...       ...       ...\n",
      "164        60    105       140     290.8\n",
      "165        60    110       145     300.0\n",
      "166        60    115       145     310.2\n",
      "167        75    120       150     320.4\n",
      "168        75    125       150     330.4\n",
      "\n",
      "[169 rows x 4 columns]\n"
     ]
    }
   ],
   "source": [
    "# Example \n",
    "import pandas as pd\n",
    "df = pd.read_csv('data.csv')\n",
    "print(df)                   # use to_string() method to print the entire DataFrame"
   ]
  },
  {
   "cell_type": "markdown",
   "id": "fdf7153f-23fe-4d8a-b82b-a2ee3a666b4a",
   "metadata": {},
   "source": [
    "# With to_string() method\n",
    "print(df.to_string())       # it print the entire DataFrame"
   ]
  },
  {
   "cell_type": "markdown",
   "id": "476ee199-d89e-4ae2-9078-ebee050c2118",
   "metadata": {},
   "source": [
    "##### max_rows\n",
    "The number of rows returned is defined in pandas option settings. Checked by pd.options.display.max_rows statement."
   ]
  },
  {
   "cell_type": "code",
   "execution_count": 26,
   "id": "6dc11941-b9ae-4385-872c-9ae3086728f5",
   "metadata": {},
   "outputs": [
    {
     "name": "stdout",
     "output_type": "stream",
     "text": [
      "60\n"
     ]
    }
   ],
   "source": [
    "print(pd.options.display.max_rows)"
   ]
  },
  {
   "cell_type": "markdown",
   "id": "dd5bd5bd-11d5-4f14-91ba-70aee9c64ed4",
   "metadata": {},
   "source": [
    "- Which means that if the DataFrame contains more than 60 rows, the print(df) statement will return only the headers and the first and last 5 rows. You can change the maximum rows number with the same statement."
   ]
  },
  {
   "cell_type": "code",
   "execution_count": 27,
   "id": "a47be5f2-8e03-4b2b-9b39-8d5da2fba7f3",
   "metadata": {},
   "outputs": [
    {
     "name": "stdout",
     "output_type": "stream",
     "text": [
      "     Duration  Pulse  Maxpulse  Calories\n",
      "0          60    110       130     409.1\n",
      "1          60    117       145     479.0\n",
      "2          60    103       135     340.0\n",
      "3          45    109       175     282.4\n",
      "4          45    117       148     406.0\n",
      "5          60    102       127     300.0\n",
      "6          60    110       136     374.0\n",
      "7          45    104       134     253.3\n",
      "8          30    109       133     195.1\n",
      "9          60     98       124     269.0\n",
      "10         60    103       147     329.3\n",
      "11         60    100       120     250.7\n",
      "12         60    106       128     345.3\n",
      "13         60    104       132     379.3\n",
      "14         60     98       123     275.0\n",
      "15         60     98       120     215.2\n",
      "16         60    100       120     300.0\n",
      "17         45     90       112       NaN\n",
      "18         60    103       123     323.0\n",
      "19         45     97       125     243.0\n",
      "20         60    108       131     364.2\n",
      "21         45    100       119     282.0\n",
      "22         60    130       101     300.0\n",
      "23         45    105       132     246.0\n",
      "24         60    102       126     334.5\n",
      "25         60    100       120     250.0\n",
      "26         60     92       118     241.0\n",
      "27         60    103       132       NaN\n",
      "28         60    100       132     280.0\n",
      "29         60    102       129     380.3\n",
      "30         60     92       115     243.0\n",
      "31         45     90       112     180.1\n",
      "32         60    101       124     299.0\n",
      "33         60     93       113     223.0\n",
      "34         60    107       136     361.0\n",
      "35         60    114       140     415.0\n",
      "36         60    102       127     300.0\n",
      "37         60    100       120     300.0\n",
      "38         60    100       120     300.0\n",
      "39         45    104       129     266.0\n",
      "40         45     90       112     180.1\n",
      "41         60     98       126     286.0\n",
      "42         60    100       122     329.4\n",
      "43         60    111       138     400.0\n",
      "44         60    111       131     397.0\n",
      "45         60     99       119     273.0\n",
      "46         60    109       153     387.6\n",
      "47         45    111       136     300.0\n",
      "48         45    108       129     298.0\n",
      "49         60    111       139     397.6\n",
      "50         60    107       136     380.2\n",
      "51         80    123       146     643.1\n",
      "52         60    106       130     263.0\n",
      "53         60    118       151     486.0\n",
      "54         30    136       175     238.0\n",
      "55         60    121       146     450.7\n",
      "56         60    118       121     413.0\n",
      "57         45    115       144     305.0\n",
      "58         20    153       172     226.4\n",
      "59         45    123       152     321.0\n",
      "60        210    108       160    1376.0\n",
      "61        160    110       137    1034.4\n",
      "62        160    109       135     853.0\n",
      "63         45    118       141     341.0\n",
      "64         20    110       130     131.4\n",
      "65        180     90       130     800.4\n",
      "66        150    105       135     873.4\n",
      "67        150    107       130     816.0\n",
      "68         20    106       136     110.4\n",
      "69        300    108       143    1500.2\n",
      "70        150     97       129    1115.0\n",
      "71         60    109       153     387.6\n",
      "72         90    100       127     700.0\n",
      "73        150     97       127     953.2\n",
      "74         45    114       146     304.0\n",
      "75         90     98       125     563.2\n",
      "76         45    105       134     251.0\n",
      "77         45    110       141     300.0\n",
      "78        120    100       130     500.4\n",
      "79        270    100       131    1729.0\n",
      "80         30    159       182     319.2\n",
      "81         45    149       169     344.0\n",
      "82         30    103       139     151.1\n",
      "83        120    100       130     500.0\n",
      "84         45    100       120     225.3\n",
      "85         30    151       170     300.0\n",
      "86         45    102       136     234.0\n",
      "87        120    100       157    1000.1\n",
      "88         45    129       103     242.0\n",
      "89         20     83       107      50.3\n",
      "90        180    101       127     600.1\n",
      "91         45    107       137       NaN\n",
      "92         30     90       107     105.3\n",
      "93         15     80       100      50.5\n",
      "94         20    150       171     127.4\n",
      "95         20    151       168     229.4\n",
      "96         30     95       128     128.2\n",
      "97         25    152       168     244.2\n",
      "98         30    109       131     188.2\n",
      "99         90     93       124     604.1\n",
      "100        20     95       112      77.7\n",
      "101        90     90       110     500.0\n",
      "102        90     90       100     500.0\n",
      "103        90     90       100     500.4\n",
      "104        30     92       108      92.7\n",
      "105        30     93       128     124.0\n",
      "106       180     90       120     800.3\n",
      "107        30     90       120      86.2\n",
      "108        90     90       120     500.3\n",
      "109       210    137       184    1860.4\n",
      "110        60    102       124     325.2\n",
      "111        45    107       124     275.0\n",
      "112        15    124       139     124.2\n",
      "113        45    100       120     225.3\n",
      "114        60    108       131     367.6\n",
      "115        60    108       151     351.7\n",
      "116        60    116       141     443.0\n",
      "117        60     97       122     277.4\n",
      "118        60    105       125       NaN\n",
      "119        60    103       124     332.7\n",
      "120        30    112       137     193.9\n",
      "121        45    100       120     100.7\n",
      "122        60    119       169     336.7\n",
      "123        60    107       127     344.9\n",
      "124        60    111       151     368.5\n",
      "125        60     98       122     271.0\n",
      "126        60     97       124     275.3\n",
      "127        60    109       127     382.0\n",
      "128        90     99       125     466.4\n",
      "129        60    114       151     384.0\n",
      "130        60    104       134     342.5\n",
      "131        60    107       138     357.5\n",
      "132        60    103       133     335.0\n",
      "133        60    106       132     327.5\n",
      "134        60    103       136     339.0\n",
      "135        20    136       156     189.0\n",
      "136        45    117       143     317.7\n",
      "137        45    115       137     318.0\n",
      "138        45    113       138     308.0\n",
      "139        20    141       162     222.4\n",
      "140        60    108       135     390.0\n",
      "141        60     97       127       NaN\n",
      "142        45    100       120     250.4\n",
      "143        45    122       149     335.4\n",
      "144        60    136       170     470.2\n",
      "145        45    106       126     270.8\n",
      "146        60    107       136     400.0\n",
      "147        60    112       146     361.9\n",
      "148        30    103       127     185.0\n",
      "149        60    110       150     409.4\n",
      "150        60    106       134     343.0\n",
      "151        60    109       129     353.2\n",
      "152        60    109       138     374.0\n",
      "153        30    150       167     275.8\n",
      "154        60    105       128     328.0\n",
      "155        60    111       151     368.5\n",
      "156        60     97       131     270.4\n",
      "157        60    100       120     270.4\n",
      "158        60    114       150     382.8\n",
      "159        30     80       120     240.9\n",
      "160        30     85       120     250.4\n",
      "161        45     90       130     260.4\n",
      "162        45     95       130     270.0\n",
      "163        45    100       140     280.9\n",
      "164        60    105       140     290.8\n",
      "165        60    110       145     300.0\n",
      "166        60    115       145     310.2\n",
      "167        75    120       150     320.4\n",
      "168        75    125       150     330.4\n"
     ]
    }
   ],
   "source": [
    "# Example\n",
    "pd.options.display.max_rows = 9999\n",
    "print(df)"
   ]
  },
  {
   "cell_type": "markdown",
   "id": "6fcbb448-3875-46e9-9c9e-fed0b1764432",
   "metadata": {},
   "source": [
    "##### Read JSON\n",
    "- Note: JSON objects have the same format as python dictionaries"
   ]
  },
  {
   "cell_type": "markdown",
   "id": "dea9f15a-a182-4155-a973-f3b33145b16b",
   "metadata": {},
   "source": [
    "##### Analyzing DataFrames\n",
    "###### Viewing the Data\n",
    "- head() method - it returns the headers and a specified number of rows, starting from the top.\n",
    "- if the number of rows is not specified, the head() method will return the top 5 rows."
   ]
  },
  {
   "cell_type": "code",
   "execution_count": 2,
   "id": "26b43039-9e58-4136-bfcc-101f2f762a18",
   "metadata": {},
   "outputs": [
    {
     "name": "stdout",
     "output_type": "stream",
     "text": [
      "   Duration  Pulse  Maxpulse  Calories\n",
      "0        60    110       130     409.1\n",
      "1        60    117       145     479.0\n",
      "2        60    103       135     340.0\n",
      "3        45    109       175     282.4\n",
      "4        45    117       148     406.0\n",
      "5        60    102       127     300.0\n",
      "6        60    110       136     374.0\n",
      "7        45    104       134     253.3\n",
      "8        30    109       133     195.1\n",
      "9        60     98       124     269.0\n"
     ]
    }
   ],
   "source": [
    "# Example\n",
    "import pandas as pd\n",
    "df = pd.read_csv('data.csv')\n",
    "print(df.head(10))"
   ]
  },
  {
   "cell_type": "markdown",
   "id": "d97db8f1-3b23-4ece-906d-8dd198db9827",
   "metadata": {},
   "source": [
    "- the tail() method returns the headers and a specified number of rows, starting from the bottom\n",
    "- If the number of rows is not specified it returns the last five rows"
   ]
  },
  {
   "cell_type": "code",
   "execution_count": 4,
   "id": "4ca49147-e1b6-43f6-9f4b-1ea16a6292c9",
   "metadata": {},
   "outputs": [
    {
     "name": "stdout",
     "output_type": "stream",
     "text": [
      "     Duration  Pulse  Maxpulse  Calories\n",
      "159        30     80       120     240.9\n",
      "160        30     85       120     250.4\n",
      "161        45     90       130     260.4\n",
      "162        45     95       130     270.0\n",
      "163        45    100       140     280.9\n",
      "164        60    105       140     290.8\n",
      "165        60    110       145     300.0\n",
      "166        60    115       145     310.2\n",
      "167        75    120       150     320.4\n",
      "168        75    125       150     330.4\n"
     ]
    }
   ],
   "source": [
    "# Example\n",
    "print(df.tail(10))"
   ]
  },
  {
   "cell_type": "markdown",
   "id": "11913263-ef92-4aa5-b6cb-2e0cfb950506",
   "metadata": {},
   "source": [
    "##### Info About the Data\n",
    "- info() method gives more information about the data set"
   ]
  },
  {
   "cell_type": "code",
   "execution_count": 5,
   "id": "2b4a6e7e-39f2-47bf-94dd-30a24b09133b",
   "metadata": {},
   "outputs": [
    {
     "name": "stdout",
     "output_type": "stream",
     "text": [
      "<class 'pandas.core.frame.DataFrame'>\n",
      "RangeIndex: 169 entries, 0 to 168\n",
      "Data columns (total 4 columns):\n",
      " #   Column    Non-Null Count  Dtype  \n",
      "---  ------    --------------  -----  \n",
      " 0   Duration  169 non-null    int64  \n",
      " 1   Pulse     169 non-null    int64  \n",
      " 2   Maxpulse  169 non-null    int64  \n",
      " 3   Calories  164 non-null    float64\n",
      "dtypes: float64(1), int64(3)\n",
      "memory usage: 5.4 KB\n",
      "None\n"
     ]
    }
   ],
   "source": [
    "# Example\n",
    "print(df.info()"
   ]
  },
  {
   "cell_type": "markdown",
   "id": "8bac83f2-fc22-4b9d-a659-1286fe1adcc7",
   "metadata": {},
   "source": [
    "##### Data Cleaning\n",
    "It means fixing bad data in your data set i.e. Empty cells, data in wrong format, wrong data, duplicates.\n",
    "\n",
    "##### Empty cells\n",
    "###### Remove rows\n",
    "one way to deal with empty cells is to remove rows that contain empty cells.\n",
    "- This is done using dropna() method which removes rows with empty cells.\n",
    "- By default, the dropna() method returns a new DataFrame, and will not change the original.\n",
    "-To change the original DataFrame, use the inplace =True argument, i.e. dropna(inplace = True)\n",
    "\n",
    "The dropna(inplace = True) will not return a new DataFrame, but it will remove all rows containing NULL values from the original DataFrame.\n",
    "\n",
    "###### Replace Empty Values\n",
    "The fillna() method allows to replace empty cells with a value, i.e. fillna(value, inplace = True). This replaces all empty cells in the whole DataFrame with the same value.\n",
    "\n",
    "###### Replace only for specified columns\n",
    "To only replace empty values for one column, specify the column name for the DataFrame, i.e. df['temperature'].fillna(30, inplace = True), where df is the name of the DataFrame and temperature is the name of the column.\n",
    "\n",
    "###### Replace Using Mean,Median or Mode\n",
    "A common way to replace the empty cells is to calculate the mean, median, or mode value of the column. i.e.\n",
    "- df = pd.read_csv('data.csv')   \n",
    "- x = df['calories'].mean()     \n",
    "- df['calories'].fillna(x, inplace = True)\n",
    "\n",
    " x calculate the mean and replaces empty values in the column with the mean\n",
    "\n"
   ]
  },
  {
   "cell_type": "markdown",
   "id": "5612b26e-1fa5-4c38-ae76-57a85168c69a",
   "metadata": {},
   "source": [
    "##### Cleaning Data of wrong format\n",
    "There are two options:\n",
    "- Remove the rows or,\n",
    "- conbert all cells into the same format"
   ]
  },
  {
   "cell_type": "code",
   "execution_count": null,
   "id": "1d650481-292f-4c7a-a7e7-ca69fe3d97f9",
   "metadata": {},
   "outputs": [],
   "source": []
  }
 ],
 "metadata": {
  "kernelspec": {
   "display_name": "Python 3 (ipykernel)",
   "language": "python",
   "name": "python3"
  },
  "language_info": {
   "codemirror_mode": {
    "name": "ipython",
    "version": 3
   },
   "file_extension": ".py",
   "mimetype": "text/x-python",
   "name": "python",
   "nbconvert_exporter": "python",
   "pygments_lexer": "ipython3",
   "version": "3.12.3"
  }
 },
 "nbformat": 4,
 "nbformat_minor": 5
}
