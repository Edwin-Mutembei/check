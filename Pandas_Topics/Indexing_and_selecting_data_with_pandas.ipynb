{
 "cells": [
  {
   "cell_type": "markdown",
   "id": "e065e1c3-6dd1-448d-8d60-6683d36d3f8b",
   "metadata": {},
   "source": [
    "- **Indexing in Pandas**\n",
    "- Indexing in pandas means simply selecting particular rows and columns of data from a DataFrame.\n",
    "- Indexing can also be known as **Subset Selection**.\n",
    "- There are alot of ways to pull the elements,rows and columns from a DataFrame. Pandas support four types of Multi-axes indexing which are:\n",
    "  1. **Dataframe.[]**: also known as indexing operator.\n",
    "  2. **DataFrame.loc[]**: used for labels\n",
    "  3. **DataFrame.iloc[]**: used for positions or integer based\n",
    "  4. **DataFrame.ix[]**: used for both label and integer based\n",
    "- Collectively, they are called the **indexers**.\n",
    "- These are four function which help in getting the elements, rows and columns from a DataFrame.\n",
    "\n",
    "- **Indexing a DataFrame using indexing operator []:**\n",
    "- Indexing operator is used to refer to the square brackets following an objects. The .loc and .iloc indexers also use the indexing operator to make selections.\n",
    "\n",
    "- **Selecting a single column**\n",
    "- In order to select a single column, we simply put the name of the column in-between the brakets."
   ]
  },
  {
   "cell_type": "code",
   "execution_count": 2,
   "id": "b42ab7ac-5985-4289-baa7-98a3d1b1765f",
   "metadata": {},
   "outputs": [
    {
     "name": "stdout",
     "output_type": "stream",
     "text": [
      "Name\n",
      "Avery Bradley    25.0\n",
      "Jae Crowder      25.0\n",
      "John Holland     27.0\n",
      "R.J. Hunter      22.0\n",
      "Jonas Jerebko    29.0\n",
      "                 ... \n",
      "Shelvin Mack     26.0\n",
      "Raul Neto        24.0\n",
      "Tibor Pleiss     26.0\n",
      "Jeff Withey      26.0\n",
      "NaN               NaN\n",
      "Name: Age, Length: 458, dtype: float64\n"
     ]
    }
   ],
   "source": [
    "# Example\n",
    "import pandas as pd\n",
    "\n",
    "data = pd.read_csv('nba.csv', index_col ='Name')\n",
    "\n",
    "# retrieving columns by indexing operator\n",
    "first =data['Age']\n",
    "print(first)"
   ]
  },
  {
   "cell_type": "markdown",
   "id": "ef1c3308-ff00-4c96-be7a-8f591cd4a579",
   "metadata": {},
   "source": [
    "- **Selecting multiple columns**\n",
    "- In order to select multiple columns, we have to pass a list of columns in an indexing operator."
   ]
  },
  {
   "cell_type": "code",
   "execution_count": 4,
   "id": "2a1236ce-b14e-44a2-9107-37bd906d9088",
   "metadata": {},
   "outputs": [],
   "source": [
    "#Example\n",
    "import pandas as pd\n",
    "\n",
    "data = pd.read_csv('nba.csv', index_col = 'Name')\n",
    "\n",
    "# Retrieving multiple colummns by indexing operator\n",
    "first = data[['Age','College','Salary']]"
   ]
  },
  {
   "cell_type": "code",
   "execution_count": null,
   "id": "a5d899d4-e045-4c62-adc8-bd74bb51c782",
   "metadata": {},
   "outputs": [],
   "source": []
  }
 ],
 "metadata": {
  "kernelspec": {
   "display_name": "Python 3 (ipykernel)",
   "language": "python",
   "name": "python3"
  },
  "language_info": {
   "codemirror_mode": {
    "name": "ipython",
    "version": 3
   },
   "file_extension": ".py",
   "mimetype": "text/x-python",
   "name": "python",
   "nbconvert_exporter": "python",
   "pygments_lexer": "ipython3",
   "version": "3.12.3"
  }
 },
 "nbformat": 4,
 "nbformat_minor": 5
}
