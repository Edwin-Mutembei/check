{
 "cells": [
  {
   "cell_type": "code",
   "execution_count": null,
   "id": "db29e1cd-3ed8-4a66-ab05-c38f3820fd7a",
   "metadata": {},
   "outputs": [],
   "source": []
  }
 ],
 "metadata": {
  "kernelspec": {
   "display_name": "",
   "name": ""
  },
  "language_info": {
   "name": ""
  }
 },
 "nbformat": 4,
 "nbformat_minor": 5
}
