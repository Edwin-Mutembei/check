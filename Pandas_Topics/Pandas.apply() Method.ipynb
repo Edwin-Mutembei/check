{
 "cells": [
  {
   "cell_type": "markdown",
   "id": "b6f4b15c-bf28-42eb-b535-e4ccded7243a",
   "metadata": {},
   "source": [
    "##### **Pandas.apply() method**\n",
    "- Pandas .apply() method allows users to pass a function and apply it on every single value of the pandas series.\n",
    "- It helps to segregate data according to the conditions required.\n",
    "- It is used to apply a function along a specific axis of a DataFrame.\n",
    "- This method is very powerful for performing complex data transformation and aggregation.\n",
    "- **Syntax**\n",
    "   - DataFrame.apply(func, axis=0, raw=False, result_type=None, args=(), **kwargs())\n",
    "- **Parameters**\n",
    "    - **func:** The function to apply to each column (or row if 'axis = 1'). This can be a function, a Numpy function or a lambda function.\n",
    "    - **axis:** The axis along which the function is applied:\n",
    "       - **0** or **index** : Apply the index to each column\n",
    "       - **1** or **columns** : Apply the function to each row\n",
    "     -**raw:** bool, default **False**. Determines if the function should receive the entire row/column as a series(False) or as a NumPy array (True). If True, the function is applied to the raw values, which can speed up the process but might lose some functionality.\n",
    "     - **result_type:** [expand, reduce, broadcast, Naone] default 'None'. Determines how the results will be returned:\n",
    "         - **expand:** List-like results will be expanded into columns.\n",
    "         - **reduce:** The result will be reduced to a Series if possible.\n",
    "         - **broadcast:** Results will be broadcast across the original DataFrame.\n",
    "  - **args:** Positional arguments to pass to 'func'.\n",
    "  - ****Kwargs:** Additional keyword arguments to pass to 'func'.\n"
   ]
  },
  {
   "cell_type": "code",
   "execution_count": 6,
   "id": "a8d4c3db-8452-419e-a91e-1b121d70380c",
   "metadata": {},
   "outputs": [
    {
     "data": {
      "text/html": [
       "<div>\n",
       "<style scoped>\n",
       "    .dataframe tbody tr th:only-of-type {\n",
       "        vertical-align: middle;\n",
       "    }\n",
       "\n",
       "    .dataframe tbody tr th {\n",
       "        vertical-align: top;\n",
       "    }\n",
       "\n",
       "    .dataframe thead th {\n",
       "        text-align: right;\n",
       "    }\n",
       "</style>\n",
       "<table border=\"1\" class=\"dataframe\">\n",
       "  <thead>\n",
       "    <tr style=\"text-align: right;\">\n",
       "      <th></th>\n",
       "      <th>A</th>\n",
       "      <th>B</th>\n",
       "    </tr>\n",
       "  </thead>\n",
       "  <tbody>\n",
       "    <tr>\n",
       "      <th>0</th>\n",
       "      <td>1</td>\n",
       "      <td>16</td>\n",
       "    </tr>\n",
       "    <tr>\n",
       "      <th>1</th>\n",
       "      <td>4</td>\n",
       "      <td>25</td>\n",
       "    </tr>\n",
       "    <tr>\n",
       "      <th>2</th>\n",
       "      <td>9</td>\n",
       "      <td>36</td>\n",
       "    </tr>\n",
       "  </tbody>\n",
       "</table>\n",
       "</div>"
      ],
      "text/plain": [
       "   A   B\n",
       "0  1  16\n",
       "1  4  25\n",
       "2  9  36"
      ]
     },
     "execution_count": 6,
     "metadata": {},
     "output_type": "execute_result"
    }
   ],
   "source": [
    "# Example\n",
    "# Applying a Function to Each Column\n",
    "import pandas as pd\n",
    "\n",
    "df = pd.DataFrame({\n",
    "    'A': [1, 2, 3],\n",
    "    'B': [4, 5, 6]\n",
    "})\n",
    "\n",
    "# Function to square the values\n",
    "def square(x):\n",
    "    return x**2\n",
    "\n",
    "result = df.apply(square,axis =0)\n",
    "result\n"
   ]
  },
  {
   "cell_type": "code",
   "execution_count": 11,
   "id": "05571df8-ebad-40c1-8918-fdef222edf91",
   "metadata": {},
   "outputs": [
    {
     "data": {
      "text/html": [
       "<div>\n",
       "<style scoped>\n",
       "    .dataframe tbody tr th:only-of-type {\n",
       "        vertical-align: middle;\n",
       "    }\n",
       "\n",
       "    .dataframe tbody tr th {\n",
       "        vertical-align: top;\n",
       "    }\n",
       "\n",
       "    .dataframe thead th {\n",
       "        text-align: right;\n",
       "    }\n",
       "</style>\n",
       "<table border=\"1\" class=\"dataframe\">\n",
       "  <thead>\n",
       "    <tr style=\"text-align: right;\">\n",
       "      <th></th>\n",
       "      <th>A</th>\n",
       "      <th>B</th>\n",
       "      <th>sum</th>\n",
       "    </tr>\n",
       "  </thead>\n",
       "  <tbody>\n",
       "    <tr>\n",
       "      <th>0</th>\n",
       "      <td>1</td>\n",
       "      <td>4</td>\n",
       "      <td>5</td>\n",
       "    </tr>\n",
       "    <tr>\n",
       "      <th>1</th>\n",
       "      <td>2</td>\n",
       "      <td>5</td>\n",
       "      <td>7</td>\n",
       "    </tr>\n",
       "    <tr>\n",
       "      <th>2</th>\n",
       "      <td>3</td>\n",
       "      <td>6</td>\n",
       "      <td>9</td>\n",
       "    </tr>\n",
       "  </tbody>\n",
       "</table>\n",
       "</div>"
      ],
      "text/plain": [
       "   A  B  sum\n",
       "0  1  4    5\n",
       "1  2  5    7\n",
       "2  3  6    9"
      ]
     },
     "execution_count": 11,
     "metadata": {},
     "output_type": "execute_result"
    }
   ],
   "source": [
    "# Example 2\n",
    "# Applying a Function to Each Row\n",
    "import pandas as pd\n",
    "\n",
    "df = pd.DataFrame({\n",
    "    'A': [1, 2, 3],\n",
    "    'B': [4, 5, 6]\n",
    "})\n",
    "\n",
    "# Function to sum the values\n",
    "def row_sum(row):\n",
    "    return row.sum()\n",
    "\n",
    "#Applying the fdunction to each row\n",
    "df['sum'] = df.apply(row_sum, axis = 1)\n",
    "df"
   ]
  },
  {
   "cell_type": "code",
   "execution_count": null,
   "id": "d91f28d5-cde0-4e94-8759-ae9b536e1b09",
   "metadata": {},
   "outputs": [],
   "source": []
  }
 ],
 "metadata": {
  "kernelspec": {
   "display_name": "Python 3 (ipykernel)",
   "language": "python",
   "name": "python3"
  },
  "language_info": {
   "codemirror_mode": {
    "name": "ipython",
    "version": 3
   },
   "file_extension": ".py",
   "mimetype": "text/x-python",
   "name": "python",
   "nbconvert_exporter": "python",
   "pygments_lexer": "ipython3",
   "version": "3.12.3"
  }
 },
 "nbformat": 4,
 "nbformat_minor": 5
}
