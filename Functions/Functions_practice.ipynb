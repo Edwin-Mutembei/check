{
 "cells": [
  {
   "cell_type": "markdown",
   "metadata": {},
   "source": [
    "\n",
    " ###### 1. Print Name: Define a function called myName, and have it print out your name when called.\n"
   ]
  },
  {
   "cell_type": "code",
   "execution_count": 5,
   "metadata": {},
   "outputs": [
    {
     "name": "stdout",
     "output_type": "stream",
     "text": [
      "Hello: edwin\n"
     ]
    }
   ],
   "source": [
    "def myName(name):\n",
    "    print(f'Hello: {name}')\n",
    "name = input('Hello, kindly write your full name: ')\n",
    "\n",
    "myName(name)"
   ]
  },
  {
   "cell_type": "markdown",
   "metadata": {},
   "source": [
    "###### 2. Pizza Toppings: Define a function that prints out all your favorite pizza toppings called pizzaToppings. Call the function three times."
   ]
  },
  {
   "cell_type": "code",
   "execution_count": 7,
   "metadata": {},
   "outputs": [
    {
     "name": "stdout",
     "output_type": "stream",
     "text": [
      "Miami pizza\n",
      "Roman pizza\n",
      "California-style Pizza.\n"
     ]
    }
   ],
   "source": [
    "def pizzaToppings():\n",
    "    fav_pizza = ['Miami pizza','Roman pizza','California-style Pizza.']\n",
    "    for pizza in fav_pizza:\n",
    "        print(pizza)\n",
    "pizzaToppings()\n"
   ]
  },
  {
   "cell_type": "markdown",
   "metadata": {},
   "source": [
    "### Passing a List\n",
    "###### Using a function to square all information"
   ]
  },
  {
   "cell_type": "code",
   "execution_count": 9,
   "metadata": {},
   "outputs": [
    {
     "name": "stdout",
     "output_type": "stream",
     "text": [
      "4\n",
      "16\n",
      "36\n",
      "64\n",
      "100\n"
     ]
    }
   ],
   "source": [
    "def squares(numbers):\n",
    "    for number in numbers:\n",
    "        print(number**2)\n",
    "\n",
    "number_list =[2,4,6,8,10]\n",
    "\n",
    "squares(number_list)\n"
   ]
  },
  {
   "cell_type": "markdown",
   "metadata": {},
   "source": [
    "#### Default parameters\n",
    "###### In some situations a parameter can be associated with a default value. For instance, the value of pi =3.14 or a value which you want to reatin constant  you can set it to exact value."
   ]
  },
  {
   "cell_type": "code",
   "execution_count": 12,
   "metadata": {},
   "outputs": [
    {
     "name": "stdout",
     "output_type": "stream",
     "text": [
      "Area: 78.5\n"
     ]
    }
   ],
   "source": [
    "def calcArea(r, pi = 3.14): # Default parameters Must always go after non default parameters.In this case, radius must be declared first, then pi.\n",
    "    area = pi *( r**2)\n",
    "    print(f'Area: {area}')\n",
    "\n",
    "calcArea(5)"
   ]
  },
  {
   "cell_type": "markdown",
   "metadata": {},
   "source": [
    "#### Making parameters Optional\n",
    "###### Someteimes you need to make parameters that take optional arguments.For instance middle names; some people have them others don't.\n",
    "###### We do this by assighning an empty string value as the default"
   ]
  },
  {
   "cell_type": "code",
   "execution_count": 14,
   "metadata": {},
   "outputs": [
    {
     "name": "stdout",
     "output_type": "stream",
     "text": [
      "Edwin Mutembei\n"
     ]
    }
   ],
   "source": [
    "# setting default parameter values\n",
    "\n",
    "def printName(first_name, last_name, middle_name = ''): # optional arguments is set as the last argument\n",
    "    if middle_name:\n",
    "        print(f'{first_name} {middle_name} {last_name}')\n",
    "    else:\n",
    "        print(f'{first_name} {last_name}')\n",
    "\n",
    "first_name = input('Write your first name: ')\n",
    "middle_name = input('What is your middle name: ')\n",
    "last_name = input('What is your last_name: ')\n",
    "\n",
    "printName(first_name, last_name, middle_name) # Keep in mind the order of the parameters! Parameters must line up from left to right according to the function defination.\n",
    "\n"
   ]
  },
  {
   "cell_type": "markdown",
   "metadata": {},
   "source": [
    "##### *args\n",
    "######  The use of *args allowa you to pass variable number of arguments into a function. This allowa you to make functions mre modular. This is a useful mechanism when you're not sure how many arguments to expect"
   ]
  },
  {
   "cell_type": "code",
   "execution_count": 23,
   "metadata": {},
   "outputs": [
    {
     "name": "stdout",
     "output_type": "stream",
     "text": [
      "4\n",
      "mangoes\n",
      "5\n",
      "True\n"
     ]
    }
   ],
   "source": [
    "# using args parameter to take in atuple of arbitrary values\n",
    "def outputData(name, *args):\n",
    "    for arg in args:\n",
    "        print(arg)\n",
    "        \n",
    "outputData(\"edwin\", 4, 'mangoes',5, True)"
   ]
  },
  {
   "cell_type": "markdown",
   "metadata": {},
   "source": [
    "#### **kwargs\n",
    "###### Like args, kwargs allows us to take in an arbitrary number of values in a function; however, it works as a dictionary with keyword arguments instead. Keyword arguments are values passed in with keys, which allow us to acess them easily within the function block."
   ]
  },
  {
   "cell_type": "code",
   "execution_count": 27,
   "metadata": {},
   "outputs": [
    {
     "name": "stdout",
     "output_type": "stream",
     "text": [
      "<class 'dict'>\n",
      "Edwin\n",
      "8\n"
     ]
    }
   ],
   "source": [
    "# using kwargs parameter to take in a dictionary of arbitrary values\n",
    "\n",
    "def outputData(**kwargs):\n",
    "    print(type(kwargs))\n",
    "    print(kwargs['name'])\n",
    "    print(kwargs['num'])\n",
    "   \n",
    "outputData( name = \"Edwin\", num = 8, b = False)\n"
   ]
  },
  {
   "cell_type": "markdown",
   "metadata": {},
   "source": [
    "##### Exercises\n",
    "###### 1. User Input: ask the user to input a word, and pass that word into a function that checks if the word starts with an uppercase. If it does output “True”,  otherwise “False”."
   ]
  },
  {
   "cell_type": "code",
   "execution_count": 37,
   "metadata": {},
   "outputs": [
    {
     "name": "stdout",
     "output_type": "stream",
     "text": [
      "False\n"
     ]
    }
   ],
   "source": [
    "def wordCheck(word):\n",
    "    if word[0].isupper():\n",
    "        return True\n",
    "    else:\n",
    "        return False\n",
    "word = input('Write your first name: ')\n",
    "print(wordCheck(word))"
   ]
  },
  {
   "cell_type": "markdown",
   "metadata": {},
   "source": [
    "###### 2. No Name: Define a function that takes in two arguments, first_name and    last_name, and makes both optional. If no values are passed into the parameters, it should output “No name passed in”; otherwise, it should print out the name."
   ]
  },
  {
   "cell_type": "code",
   "execution_count": 45,
   "metadata": {},
   "outputs": [
    {
     "name": "stdout",
     "output_type": "stream",
     "text": [
      "No name passed in\n"
     ]
    }
   ],
   "source": [
    "def namecheck(first_name = '', last_name = ''):\n",
    "    if first_name and last_name:\n",
    "        print(f'{first_name} {last_name}')\n",
    "    elif first_name or last_name:\n",
    "        print(f'{first_name}')\n",
    "        print(f'{last_name}')\n",
    "    else:\n",
    "        print('No name passed in')\n",
    "first_name = input('What is your first name: ')\n",
    "last_name = input('What is your last name: ')\n",
    "namecheck(first_name, last_name)"
   ]
  },
  {
   "cell_type": "markdown",
   "metadata": {},
   "source": [
    "#### Return Statement"
   ]
  },
  {
   "cell_type": "code",
   "execution_count": 57,
   "metadata": {},
   "outputs": [
    {
     "name": "stdout",
     "output_type": "stream",
     "text": [
      "14\n"
     ]
    }
   ],
   "source": [
    "# Using return keyword to return the sum of two numbers\n",
    "def addNums(num1, num2):\n",
    "    sum1 = num1 + num2\n",
    "    return sum1\n",
    "sum_value = addNums(5,9) # saves returned value into sum_value and can be reused later in the program\n",
    "print(sum_value)"
   ]
  },
  {
   "cell_type": "markdown",
   "metadata": {},
   "source": [
    "##### Exercises\n",
    "###### 1. Full Name: Create a function that takes in a first and last name and returns the two names joined together"
   ]
  },
  {
   "cell_type": "code",
   "execution_count": 64,
   "metadata": {},
   "outputs": [
    {
     "name": "stdout",
     "output_type": "stream",
     "text": [
      "['Edwin', 'Mutembei']\n"
     ]
    }
   ],
   "source": [
    "def fullName(first_name, last_name):\n",
    "    if first_name and last_name:\n",
    "        return [first_name, last_name]\n",
    "\n",
    "first_name = input('What is your first name: ')\n",
    "last_name = input('What is your last name: ')\n",
    "\n",
    "\n",
    "print(fullName(first_name,last_name))\n"
   ]
  },
  {
   "cell_type": "markdown",
   "metadata": {},
   "source": [
    "###### 2. User Input: Within a function, ask for user input. Have this function return that input to be stored in a variable outside of the function. Then print out the input."
   ]
  },
  {
   "cell_type": "code",
   "execution_count": 75,
   "metadata": {},
   "outputs": [
    {
     "name": "stdout",
     "output_type": "stream",
     "text": [
      "Green\n"
     ]
    }
   ],
   "source": [
    "def userInput():\n",
    "    fav_color = input('What is your favourite color: ')\n",
    "    return fav_color\n",
    "\n",
    "user_response = userInput()\n",
    "\n",
    "print(user_response)"
   ]
  },
  {
   "cell_type": "markdown",
   "metadata": {},
   "source": [
    "##### Scope\n",
    "###### There are three types of scope: Global, Function and Class.\n",
    "###### Global scope is when you declare a variable to be accessible to an entire file or application.\n",
    "###### Function scope is in reference to variables being declared and accessible only within functions.\n",
    "###### Class scope is in reference to variables that are declared and accessible only within a class"
   ]
  },
  {
   "cell_type": "markdown",
   "metadata": {},
   "source": [
    "##### Exercises\n",
    "###### 1. Names: Create a function that will change the list passed in with a parameter of name at a given index. Such that if I were to pass in “Bill” and index 1, it would change “Rich” to “Bill.” Use the list and function definition in the following:\n",
    "###### >>> names = ['Bob', 'Rich', 'Amanda']\n",
    "###### >>> def changeValue(aList, name, index):"
   ]
  },
  {
   "cell_type": "code",
   "execution_count": 109,
   "metadata": {},
   "outputs": [
    {
     "name": "stdout",
     "output_type": "stream",
     "text": [
      "['Bob', 'Bill', 'Amanda']\n"
     ]
    }
   ],
   "source": [
    "def changeValue(aList, value, index): \n",
    "    if index < len(aList):\n",
    "        aList[index] = value \n",
    "        return aList\n",
    "    else:\n",
    "        print('list assignment index out of range')\n",
    "        return None\n",
    "\n",
    "names = ['Bob', 'Rich','Amanda']\n",
    "new_names = changeValue(names, 'Bill', 1)\n",
    "print(new_names)\n",
    "\n",
    "    \n",
    "\n",
    "\n",
    "\n"
   ]
  }
 ],
 "metadata": {
  "kernelspec": {
   "display_name": "Python 3",
   "language": "python",
   "name": "python3"
  },
  "language_info": {
   "codemirror_mode": {
    "name": "ipython",
    "version": 3
   },
   "file_extension": ".py",
   "mimetype": "text/x-python",
   "name": "python",
   "nbconvert_exporter": "python",
   "pygments_lexer": "ipython3",
   "version": "3.12.1"
  }
 },
 "nbformat": 4,
 "nbformat_minor": 2
}
