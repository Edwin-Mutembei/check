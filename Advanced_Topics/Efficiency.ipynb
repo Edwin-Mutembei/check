{
 "cells": [
  {
   "cell_type": "markdown",
   "metadata": {},
   "source": [
    "##### Overview\n",
    "- Building lists in one line using comprehensions\n",
    "- Understanding one-line anonymous functions\n",
    "- Using Python's built-in functions for list alteration\n",
    "- Understanding recursive functions and how to improve them\n",
    "- Writing the algorithm for Binary Search"
   ]
  },
  {
   "cell_type": "markdown",
   "metadata": {},
   "source": [
    "##### List Comprehension\n",
    "- List comprehension allows us to create a list filled with data in a single line.\n",
    "- Rather than creating an empty list, iterating over some data, and appending it to the list all on separate lines, we can use comprehension to perform all these steps at once.It doesn't improve performance, but it's cleaner and helps reduce the lines of code within our program.\n",
    "\n",
    "##### List Comprehension Syntax\n",
    "- To populate a list, the syntax would have the following structure\n",
    "- >>> name_of_list = [item_to_append for item in list]\n",
    "- When you want to include an if statement:\n",
    "- >>> name_of_list = [item_to_append for item in list if condition] - items will only be appended to the new list if the condition is met; otherwise it won't include it.\n",
    "- When you want to include an else condition:\n",
    "- >>> name_of_list = [item_to_append if condition else item_to_append for item in list]\n",
    "\n",
    "- When using the else conditional within list comprehension, the first item will be appended to the list only when the if statement proves True. If it is False, then the item that comes after the else statements will be appended to the list.\n",
    "\n"
   ]
  },
  {
   "cell_type": "code",
   "execution_count": 1,
   "metadata": {},
   "outputs": [
    {
     "name": "stdout",
     "output_type": "stream",
     "text": [
      "[0, 1, 2, 3, 4, 5, 6, 7, 8, 9, 10, 11, 12, 13, 14, 15, 16, 17, 18, 19, 20, 21, 22, 23, 24, 25, 26, 27, 28, 29, 30, 31, 32, 33, 34, 35, 36, 37, 38, 39, 40, 41, 42, 43, 44, 45, 46, 47, 48, 49, 50, 51, 52, 53, 54, 55, 56, 57, 58, 59, 60, 61, 62, 63, 64, 65, 66, 67, 68, 69, 70, 71, 72, 73, 74, 75, 76, 77, 78, 79, 80, 81, 82, 83, 84, 85, 86, 87, 88, 89, 90, 91, 92, 93, 94, 95, 96, 97, 98, 99]\n"
     ]
    }
   ],
   "source": [
    "# Example\n",
    "# Generating a List of Numbers\n",
    "# create a list of ten numbers using list comprehension\n",
    "numbers = [x for x in range(100)]\n",
    "print(numbers)\n",
    "\n"
   ]
  },
  {
   "cell_type": "code",
   "execution_count": 3,
   "metadata": {},
   "outputs": [
    {
     "name": "stdout",
     "output_type": "stream",
     "text": [
      "[0, 2, 4, 6, 8, 10, 12, 14, 16, 18, 20, 22, 24, 26, 28, 30, 32, 34, 36, 38, 40, 42, 44, 46, 48, 50, 52, 54, 56, 58, 60, 62, 64, 66, 68, 70, 72, 74, 76, 78, 80, 82, 84, 86, 88, 90, 92, 94, 96, 98]\n"
     ]
    }
   ],
   "source": [
    "# using if statement within list comprehesion\n",
    "# making list of only even numbers\n",
    "\n",
    "numbers = [x for x in range(100) if x % 2 == 0]\n",
    "print(numbers)"
   ]
  },
  {
   "cell_type": "code",
   "execution_count": 4,
   "metadata": {},
   "outputs": [
    {
     "name": "stdout",
     "output_type": "stream",
     "text": [
      "['Even', 'Odd', 'Even', 'Odd', 'Even', 'Odd', 'Even', 'Odd', 'Even', 'Odd']\n"
     ]
    }
   ],
   "source": [
    "# if/else statements within list comprehension\n",
    "numbers = ['Even' if x % 2 == 0 else 'Odd' for x in range(10)]\n",
    "print(numbers)"
   ]
  },
  {
   "cell_type": "markdown",
   "metadata": {},
   "source": [
    "- NB: Comprehensions don't allow for the use of elif statements, only if/else statements."
   ]
  },
  {
   "cell_type": "code",
   "execution_count": 12,
   "metadata": {},
   "outputs": [
    {
     "name": "stdout",
     "output_type": "stream",
     "text": [
      "[25, 1156, 49, 81]\n"
     ]
    }
   ],
   "source": [
    "# List Comprehension with variables\n",
    "# creating a list of squared numbers from another list of numbers using list comprehension.\n",
    "nums = [5, 34, 7, 9]\n",
    "squared_nums = [x**2 for x in nums]\n",
    "print(squared_nums)"
   ]
  },
  {
   "cell_type": "markdown",
   "metadata": {},
   "source": [
    "##### Dictionary Comprehension\n",
    "- The syntax structure is the exact same, except you need to include a key-value pair instead of a single number to insert into the dictionary."
   ]
  }
 ],
 "metadata": {
  "kernelspec": {
   "display_name": "Python 3",
   "language": "python",
   "name": "python3"
  },
  "language_info": {
   "codemirror_mode": {
    "name": "ipython",
    "version": 3
   },
   "file_extension": ".py",
   "mimetype": "text/x-python",
   "name": "python",
   "nbconvert_exporter": "python",
   "pygments_lexer": "ipython3",
   "version": "3.12.1"
  }
 },
 "nbformat": 4,
 "nbformat_minor": 2
}
