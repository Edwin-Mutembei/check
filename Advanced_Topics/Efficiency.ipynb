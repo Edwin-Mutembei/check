{
 "cells": [
  {
   "cell_type": "markdown",
   "metadata": {},
   "source": [
    "##### Overview\n",
    "- Building lists in one line using comprehensions\n",
    "- Understanding one-line anonymous functions\n",
    "- Using Python's built-in functions for list alteration\n",
    "- Understanding recursive functions and how to improve them\n",
    "- Writing the algorithm for Binary Search"
   ]
  },
  {
   "cell_type": "markdown",
   "metadata": {},
   "source": [
    "##### List Comprehension\n",
    "- List comprehension allows us to create a list filled with data in a single line.\n",
    "- Rather than creating an empty list, iterating over some data, and appending it to the list all on separate lines, we can use comprehension to perform all these steps at once.It doesn't improve performance, but it's cleaner and helps reduce the lines of code within our program.\n",
    "\n",
    "##### List Comprehension Syntax\n",
    "- To populate a list, the syntax would have the following structure\n",
    "- >>> name_of_list = [item_to_append for item in list]\n",
    "- When you want to include an if statement:\n",
    "- >>> name_of_list = [item_to_append for item in list if condition] - items will only be appended to the new list if the condition is met; otherwise it won't include it.\n",
    "- When you want to include an else condition:\n",
    "- >>> name_of_list = [item_to_append if condition else item_to_append for item in list]\n",
    "\n",
    "- When using the else conditional within list comprehension, the first item will be appended to the list only when the if statement proves True. If it is False, then the item that comes after the else statements will be appended to the list.\n",
    "\n"
   ]
  },
  {
   "cell_type": "code",
   "execution_count": 1,
   "metadata": {},
   "outputs": [
    {
     "name": "stdout",
     "output_type": "stream",
     "text": [
      "[0, 1, 2, 3, 4, 5, 6, 7, 8, 9, 10, 11, 12, 13, 14, 15, 16, 17, 18, 19, 20, 21, 22, 23, 24, 25, 26, 27, 28, 29, 30, 31, 32, 33, 34, 35, 36, 37, 38, 39, 40, 41, 42, 43, 44, 45, 46, 47, 48, 49, 50, 51, 52, 53, 54, 55, 56, 57, 58, 59, 60, 61, 62, 63, 64, 65, 66, 67, 68, 69, 70, 71, 72, 73, 74, 75, 76, 77, 78, 79, 80, 81, 82, 83, 84, 85, 86, 87, 88, 89, 90, 91, 92, 93, 94, 95, 96, 97, 98, 99]\n"
     ]
    }
   ],
   "source": [
    "# Example\n",
    "# Generating a List of Numbers\n",
    "# create a list of ten numbers using list comprehension\n",
    "numbers = [x for x in range(100)]\n",
    "print(numbers)\n",
    "\n"
   ]
  },
  {
   "cell_type": "code",
   "execution_count": 3,
   "metadata": {},
   "outputs": [
    {
     "name": "stdout",
     "output_type": "stream",
     "text": [
      "[0, 2, 4, 6, 8, 10, 12, 14, 16, 18, 20, 22, 24, 26, 28, 30, 32, 34, 36, 38, 40, 42, 44, 46, 48, 50, 52, 54, 56, 58, 60, 62, 64, 66, 68, 70, 72, 74, 76, 78, 80, 82, 84, 86, 88, 90, 92, 94, 96, 98]\n"
     ]
    }
   ],
   "source": [
    "# using if statement within list comprehesion\n",
    "# making list of only even numbers\n",
    "\n",
    "numbers = [x for x in range(100) if x % 2 == 0]\n",
    "print(numbers)"
   ]
  },
  {
   "cell_type": "code",
   "execution_count": 4,
   "metadata": {},
   "outputs": [
    {
     "name": "stdout",
     "output_type": "stream",
     "text": [
      "['Even', 'Odd', 'Even', 'Odd', 'Even', 'Odd', 'Even', 'Odd', 'Even', 'Odd']\n"
     ]
    }
   ],
   "source": [
    "# if/else statements within list comprehension\n",
    "numbers = ['Even' if x % 2 == 0 else 'Odd' for x in range(10)]\n",
    "print(numbers)"
   ]
  },
  {
   "cell_type": "markdown",
   "metadata": {},
   "source": [
    "- NB: Comprehensions don't allow for the use of elif statements, only if/else statements."
   ]
  },
  {
   "cell_type": "code",
   "execution_count": 12,
   "metadata": {},
   "outputs": [
    {
     "name": "stdout",
     "output_type": "stream",
     "text": [
      "[25, 1156, 49, 81]\n"
     ]
    }
   ],
   "source": [
    "# List Comprehension with variables\n",
    "# creating a list of squared numbers from another list of numbers using list comprehension.\n",
    "nums = [5, 34, 7, 9]\n",
    "squared_nums = [x**2 for x in nums]\n",
    "print(squared_nums)"
   ]
  },
  {
   "cell_type": "markdown",
   "metadata": {},
   "source": [
    "##### Dictionary Comprehension\n",
    "- The syntax structure is the exact same, except you need to include a key-value pair instead of a single number to insert into the dictionary."
   ]
  },
  {
   "cell_type": "code",
   "execution_count": 14,
   "metadata": {},
   "outputs": [
    {
     "name": "stdout",
     "output_type": "stream",
     "text": [
      "{0: 0, 2: 4, 4: 16, 6: 36, 8: 64}\n"
     ]
    }
   ],
   "source": [
    "# creating a dictionary of even numbers and square values using comprehension\n",
    "nums = [x for x in range(10)]\n",
    "squares = {num : num**2 for num in nums if num % 2 == 0}\n",
    "print(squares)"
   ]
  },
  {
   "cell_type": "markdown",
   "metadata": {},
   "source": [
    "##### Degree Conversion\n",
    "1. Degree Conversion: Using list comprehension, convert the following list to\n",
    "Fahrenheit. Currently, the degrees are in Celsius temperatures. the conversion\n",
    "formula is “(9/5) * C + 32”. your output should be [ 53.6, 69.8, 59, 89.6 ].\n",
    ">>> degrees = [ 12, 21, 15, 32 ]\n"
   ]
  },
  {
   "cell_type": "code",
   "execution_count": 23,
   "metadata": {},
   "outputs": [
    {
     "name": "stdout",
     "output_type": "stream",
     "text": [
      "[53.6, 69.80000000000001, 59.0, 89.6]\n"
     ]
    }
   ],
   "source": [
    "\n",
    "degrees = [12, 21, 15, 32]\n",
    "Fahrenheit = [(((9/5)* degree + 32)) for degree in degrees]\n",
    "print(Fahrenheit)"
   ]
  },
  {
   "cell_type": "markdown",
   "metadata": {},
   "source": [
    "2. User Input: ask the user to input a single integer up to and including 100.\n",
    "Generate a list of numbers that are exactly divisible by that number up to and\n",
    "including 100 using list comprehension. For example, if the number 25 was\n",
    "input, then the output should be [ 25, 50, 75, 100 ]."
   ]
  },
  {
   "cell_type": "code",
   "execution_count": 35,
   "metadata": {},
   "outputs": [
    {
     "name": "stdout",
     "output_type": "stream",
     "text": [
      "[0, 25, 50, 75, 100]\n"
     ]
    }
   ],
   "source": [
    "user_input = int(input('Input a single intenger up to and including 100: '))\n",
    "divisible_numbers =[x for x in range(101) if x % user_input == 0]\n",
    "\n",
    "print(divisible_numbers)\n"
   ]
  },
  {
   "cell_type": "markdown",
   "metadata": {},
   "source": [
    "##### Lambda Functions\n",
    "- Lambda functions, also known as anonymous functions, are one-line functions within python.\n",
    "- like list comprehension, lambda functions allow us to reduce the lines of code we need to write within our program.\n",
    "- it doesn't work for complicated functions but helps to improve readability of smaller functions.\n",
    "##### Lambda Function Syntax\n",
    "- The syntax for lambda functions will generally remain the same, unlike list comprehension when you begin to add the conditional statements.\n",
    "-The basic structure:\n",
    ">>> lambda arguments : expression\n",
    "- Lambdas will always begin with the keyword lambda, followed by any arguments that are being passed in. On the right hand side of the colon, we put the expression to be performed and returned. Lambdas return the expression by default, so we don't need to use the keyword: i.e.\n",
    ">>> lambda arguments : value_to_return if condition else value to return\n",
    "- Like list comprehension, the conditional statement goes at the end.\n",
    "- Note: Lambdas basically use ternary operators on the right side of the colon.\n"
   ]
  },
  {
   "cell_type": "code",
   "execution_count": 36,
   "metadata": {},
   "outputs": [
    {
     "data": {
      "text/plain": [
       "16"
      ]
     },
     "execution_count": 36,
     "metadata": {},
     "output_type": "execute_result"
    }
   ],
   "source": [
    "# using a lambda to square a number\n",
    "(lambda x : x**2)(4)  # takes in 4 and returns the number squared"
   ]
  },
  {
   "cell_type": "code",
   "execution_count": 37,
   "metadata": {},
   "outputs": [
    {
     "data": {
      "text/plain": [
       "30"
      ]
     },
     "execution_count": 37,
     "metadata": {},
     "output_type": "execute_result"
    }
   ],
   "source": [
    "# passing multiple arguments into a lambda\n",
    "(lambda x, y : x * y)(5,6) # x = 5, y = 6 and returns the results of 5 * 10"
   ]
  },
  {
   "cell_type": "markdown",
   "metadata": {},
   "source": [
    "##### Saving Lambda function into a variable\n",
    "- Lambdas get their name anonymous function because they don't have a name to reference or call upon. Once a lambda function is used, it can't be used again unless it is saved into a variable."
   ]
  },
  {
   "cell_type": "code",
   "execution_count": 11,
   "metadata": {},
   "outputs": [
    {
     "name": "stdout",
     "output_type": "stream",
     "text": [
      "30\n"
     ]
    }
   ],
   "source": [
    "# saving a lambda function into a variable\n",
    "square = lambda x,y : x * y\n",
    "result = square(5,6) # calls the lambda function stored in the square variable and returns 5*6\n",
    "print(result)\n",
    "\n",
    "# when functions are stored inside of variables, the variable name acts as the function call.\n",
    "# when we stored a lambda inside of the square variable, we were able to call the lambda function by calling square and passing in the arguments.\n",
    "# NB: Even functions that are defined normally can be saved into variables and referenced by the variable name."
   ]
  },
  {
   "cell_type": "markdown",
   "metadata": {},
   "source": [
    "##### Conditional Statements\n",
    "- Conditional statements in lambda act the same way that ternary operators do. The only diference is that you must provide both the if and else statements. You can't use just an if statements; it will render a syntax error, as it always needs an expression to return."
   ]
  },
  {
   "cell_type": "code",
   "execution_count": 16,
   "metadata": {},
   "outputs": [
    {
     "name": "stdout",
     "output_type": "stream",
     "text": [
      "9\n"
     ]
    }
   ],
   "source": [
    "# using if/else statements within a lambda to return the greator number\n",
    "greator = lambda x, y : x if x > y else y\n",
    "result = greator(9,6) \n",
    "print(result)"
   ]
  },
  {
   "cell_type": "code",
   "execution_count": 17,
   "metadata": {},
   "outputs": [
    {
     "name": "stdout",
     "output_type": "stream",
     "text": [
      "10\n",
      "15\n"
     ]
    }
   ],
   "source": [
    "##### Returning a Lambda function from another function\n",
    "# Lambda functions shine in their ability to make other functions more modular.\n",
    "def myFunc(n):\n",
    "    return lambda x : x * n\n",
    "doubler = myFunc(2)     # returns equivalent of lambda x : x * 2\n",
    "print(doubler(5))\n",
    "tripler = myFunc(3)     # returns equivalent of lambda x : x * 3\n",
    "print(tripler(5))"
   ]
  },
  {
   "cell_type": "markdown",
   "metadata": {},
   "source": [
    "##### Exercises\n",
    "1. Fill in the Blanks: Fill in the blanks for the following code so that it takes in a parameter of “x” and returns “true” if it is greater than 50; otherwise, it should\n",
    "return “False”:\n",
    ">>> ____ x _ True if x _ 50 ____ False\n"
   ]
  },
  {
   "cell_type": "code",
   "execution_count": 18,
   "metadata": {},
   "outputs": [
    {
     "data": {
      "text/plain": [
       "<function __main__.<lambda>(x)>"
      ]
     },
     "execution_count": 18,
     "metadata": {},
     "output_type": "execute_result"
    }
   ],
   "source": [
    "lambda x : True if x > 50 else False"
   ]
  },
  {
   "cell_type": "markdown",
   "metadata": {},
   "source": [
    "2. Degree Conversion: Write a lambda function that takes in a degree value in\n",
    "Celsius and returns the degree converted into Fahrenheit.\n",
    "\n",
    "  - 1C = “(9/5) * C + 32”F"
   ]
  },
  {
   "cell_type": "code",
   "execution_count": 21,
   "metadata": {},
   "outputs": [
    {
     "name": "stdout",
     "output_type": "stream",
     "text": [
      "57.00 F\n"
     ]
    }
   ],
   "source": [
    "conversion = lambda x : (9/5) * x + 3\n",
    "result = conversion(30)\n",
    "print('{:.2F} F'.format(result))"
   ]
  }
 ],
 "metadata": {
  "kernelspec": {
   "display_name": "Python 3",
   "language": "python",
   "name": "python3"
  },
  "language_info": {
   "codemirror_mode": {
    "name": "ipython",
    "version": 3
   },
   "file_extension": ".py",
   "mimetype": "text/x-python",
   "name": "python",
   "nbconvert_exporter": "python",
   "pygments_lexer": "ipython3",
   "version": "3.12.1"
  }
 },
 "nbformat": 4,
 "nbformat_minor": 2
}
