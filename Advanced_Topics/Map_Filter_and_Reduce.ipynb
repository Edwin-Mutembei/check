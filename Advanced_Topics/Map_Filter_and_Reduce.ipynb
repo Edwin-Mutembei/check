{
 "cells": [
  {
   "cell_type": "markdown",
   "metadata": {},
   "source": [
    "##### Map, Filter and Reduce\n",
    "- The map function is used to iterate over the data and modify it.\n",
    "- The filter function is used to iterate over a data collection and filter out the data that doesn't meet a condition.\n",
    "- The reduce function takes a data collection and condenses it down to a single result.\n",
    "\n",
    "##### Map without Lambdas\n",
    "- The map function is used when you need to alter all the items within an iterable data collection. It takes in two arguments, the function to be applied on each element and the iterable data. When using map object, it returns a map object, which is an iterator.\n"
   ]
  },
  {
   "cell_type": "code",
   "execution_count": 7,
   "metadata": {},
   "outputs": [
    {
     "name": "stdout",
     "output_type": "stream",
     "text": [
      "[54.5, 56.480000000000004, 59.0, 48.56]\n"
     ]
    }
   ],
   "source": [
    "# using the map function without lambdas\n",
    "def tempConversion(C):\n",
    "    return (9/5) * C + 32\n",
    "temps = [12.5, 13.6, 15, 9.2]\n",
    "converted_temps = list(map(tempConversion, temps))     # returns map objects\n",
    "print(converted_temps)"
   ]
  },
  {
   "cell_type": "markdown",
   "metadata": {},
   "source": [
    "##### Map with Lambdas\n",
    "- As map requires a function as the first parameter, we can simply program a lambda in place of the name of a defined function."
   ]
  },
  {
   "cell_type": "code",
   "execution_count": 14,
   "metadata": {},
   "outputs": [
    {
     "name": "stdout",
     "output_type": "stream",
     "text": [
      "[54.5, 56.480000000000004, 59.0, 48.56]\n"
     ]
    }
   ],
   "source": [
    "# using a map function with lambdas\n",
    "temps = [12.5, 13.6, 15, 9.2]\n",
    "converted_temps = list(map(lambda C : (9/5) * C + 32, temps))\n",
    "print(converted_temps)\n",
    "\n",
    "# The lambda function takes in each item as the map function iterates over the temps list and returns the converted value.\n"
   ]
  },
  {
   "cell_type": "code",
   "execution_count": 15,
   "metadata": {},
   "outputs": [
    {
     "name": "stdout",
     "output_type": "stream",
     "text": [
      "[54.5, 56.480000000000004, 59.0, 48.56]\n"
     ]
    }
   ],
   "source": [
    "def convertDegrees(degrees):\n",
    "    converted = []\n",
    "    for degree in degrees:\n",
    "        conversion = (9/5)* degree + 32\n",
    "        converted.append(conversion)\n",
    "    return converted\n",
    "\n",
    "temps = [12.5, 13.6, 15, 9.2]\n",
    "converted_temps = convertDegrees(temps)\n",
    "print(converted_temps)\n",
    "\n",
    "# The same process performed by use of lambdas and map\n",
    "# The use of lambda functions and map help to reduce the lines of code used when we need to alter our data.\n",
    "\n"
   ]
  },
  {
   "cell_type": "markdown",
   "metadata": {},
   "source": [
    "##### Filter Without Lambdas\n",
    "- The filter function is useful for taking a collection of data and removing any information that you don't need.\n",
    "- Like the map function, it takes in a function and an iterable data type and returns a filter objects. This object can be converted into a working list like we did with the map objects.\n"
   ]
  },
  {
   "cell_type": "code",
   "execution_count": 19,
   "metadata": {},
   "outputs": [
    {
     "name": "stdout",
     "output_type": "stream",
     "text": [
      "[13.6, 15]\n"
     ]
    }
   ],
   "source": [
    "# using the filter function without lambda functions, filter out temps below 55F \n",
    "def filterTemps(C):\n",
    "    converted = (9/5) * C + 32\n",
    "    return True if converted > 55 else False        # use tarnary operator\n",
    "temps = [12.5, 13.6, 15, 9.2]\n",
    "filtered_temps = list(filter(filterTemps, temps))\n",
    "print(filtered_temps)"
   ]
  },
  {
   "cell_type": "markdown",
   "metadata": {},
   "source": [
    "##### Filter with Lambdas"
   ]
  },
  {
   "cell_type": "code",
   "execution_count": 22,
   "metadata": {},
   "outputs": [
    {
     "name": "stdout",
     "output_type": "stream",
     "text": [
      "[13.6, 15]\n"
     ]
    }
   ],
   "source": [
    "# using the filter function with lambda functions, filter out temps below 55F\n",
    "\n",
    "temps = [12.5, 13.6, 15, 9.2]\n",
    "filtered_temps = list(filter(lambda C : True if (9/5) * C + 32 > 55 else False, temps))\n",
    "print(filtered_temps)"
   ]
  },
  {
   "cell_type": "code",
   "execution_count": 23,
   "metadata": {},
   "outputs": [
    {
     "name": "stdout",
     "output_type": "stream",
     "text": [
      "[13.6, 15]\n"
     ]
    }
   ],
   "source": [
    "# The same process without using the filter and lambda functions\n",
    "def convertDegrees(degrees):\n",
    "    filtered = []\n",
    "    for degree in degrees:\n",
    "        conversion = (9/5) * degree + 32\n",
    "        if conversion > 55:\n",
    "            filtered.append(degree)\n",
    "    return filtered\n",
    "\n",
    "temps = [12.5, 13.6, 15, 9.2]\n",
    "filtered_temps = convertDegrees(temps)\n",
    "print(filtered_temps)"
   ]
  },
  {
   "cell_type": "markdown",
   "metadata": {},
   "source": [
    "##### Exercises\n",
    "1. Mapping Names: Use a lambda and map function to map over the list of\n",
    "names in the following to produce the following result “[ “Ryan”, “Paul”,\n",
    "“Kevin Connors” ].\n",
    ">>> names = [ \" ryan\", \"PAUL\", \"kevin connors \" ]\n"
   ]
  },
  {
   "cell_type": "code",
   "execution_count": 28,
   "metadata": {},
   "outputs": [
    {
     "name": "stdout",
     "output_type": "stream",
     "text": [
      "['Ryan', 'Paul', 'Kevin Connors']\n"
     ]
    }
   ],
   "source": [
    "names = [ \"   ryan\", \"PAUL \", \"kevin connors  \" ]\n",
    "results = list(map(lambda names : names.title().strip(), names))\n",
    "print(results)"
   ]
  },
  {
   "cell_type": "markdown",
   "metadata": {},
   "source": [
    "2. Filter Names: Using a lambda and filter function, filter out all the names that\n",
    "start with the letter “a.” Make it case insensitive, so it filters out the name\n",
    "whether it’s uppercase or not. the output of the following list should be\n",
    "[ “Frank”, “Ripal” ].\n",
    ">>> names = [ \"Amanda\", \"Frank\", \"abby\", \"Ripal\", \"Adam\" ]"
   ]
  },
  {
   "cell_type": "code",
   "execution_count": 35,
   "metadata": {},
   "outputs": [
    {
     "name": "stdout",
     "output_type": "stream",
     "text": [
      "['Frank', 'Ripal']\n"
     ]
    }
   ],
   "source": [
    "names = [ \"Amanda\", \"Frank\", \"abby\", \"Ripal\", \"Adam\" ]\n",
    "results = list(filter(lambda names : False if names[0].upper() == 'A' else True, names))\n",
    "print(results)"
   ]
  }
 ],
 "metadata": {
  "kernelspec": {
   "display_name": "Python 3",
   "language": "python",
   "name": "python3"
  },
  "language_info": {
   "codemirror_mode": {
    "name": "ipython",
    "version": 3
   },
   "file_extension": ".py",
   "mimetype": "text/x-python",
   "name": "python",
   "nbconvert_exporter": "python",
   "pygments_lexer": "ipython3",
   "version": "3.12.1"
  }
 },
 "nbformat": 4,
 "nbformat_minor": 2
}
